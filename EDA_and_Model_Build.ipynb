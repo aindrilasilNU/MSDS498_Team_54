{
 "cells": [
  {
   "cell_type": "markdown",
   "metadata": {},
   "source": [
    "# Code 4: EDA and Model build logic "
   ]
  },
  {
   "cell_type": "markdown",
   "metadata": {},
   "source": [
    "### Importing necessary libraries"
   ]
  },
  {
   "cell_type": "code",
   "execution_count": null,
   "metadata": {
    "id": "fvnx_JOlskz1"
   },
   "outputs": [],
   "source": [
    "import pandas as pd\n",
    "import seaborn as sns\n",
    "import matplotlib.pyplot as plt\n",
    "import numpy as np\n",
    "from numpy import size, array\n",
    "%matplotlib inline\n",
    "import matplotlib.lines as lines\n",
    "import matplotlib.gridspec as gridspec\n",
    "\n",
    "from scipy.stats import probplot\n",
    "from warnings import filterwarnings\n",
    "filterwarnings('ignore')\n",
    "\n",
    "plt.rcParams['font.family'] = 'monospace'\n",
    "\n",
    "from time import time\n",
    "import numpy as np\n",
    "\n",
    "from sklearn import linear_model\n",
    "from sklearn import datasets\n",
    "from sklearn.svm import l1_min_c\n",
    "\n",
    "import math\n",
    "from sklearn.preprocessing import StandardScaler\n",
    "from sklearn import preprocessing\n",
    "from sklearn.model_selection import GridSearchCV\n",
    "from sklearn.preprocessing import OneHotEncoder\n",
    "import warnings\n",
    "warnings.filterwarnings('ignore')\n",
    "from sklearn.model_selection import train_test_split #for split the data\n",
    "from sklearn.metrics import accuracy_score ,precision_score,recall_score,f1_score #for accuracy_score\n",
    "from sklearn.metrics import confusion_matrix #for confusion matrix\n",
    "from sklearn.model_selection import KFold #for K-fold cross validation\n",
    "from sklearn.model_selection import cross_val_score #score evaluation\n",
    "from sklearn.model_selection import cross_val_predict #prediction\n",
    "\n",
    "from sklearn.linear_model import LinearRegression, Ridge, Lasso\n",
    "from sklearn.model_selection import train_test_split, cross_val_score\n",
    "from statistics import mean\n",
    "\n",
    "pd.set_option('display.max_colwidth', None)\n",
    "\n",
    "import warnings\n",
    "warnings.filterwarnings('ignore')\n",
    "\n",
    "from IPython.core.interactiveshell import InteractiveShell\n",
    "InteractiveShell.ast_node_interactivity = \"all\""
   ]
  },
  {
   "cell_type": "code",
   "execution_count": null,
   "metadata": {
    "colab": {
     "base_uri": "https://localhost:8080/"
    },
    "id": "-xyMyA3Qs0Fc",
    "outputId": "e85bfe7b-a78c-4491-a1f1-78de8dc335a7"
   },
   "outputs": [],
   "source": [
    "from google.colab import drive\n",
    "drive.mount('/content/gdrive')"
   ]
  },
  {
   "cell_type": "code",
   "execution_count": null,
   "metadata": {
    "id": "sK7b518Wskz3"
   },
   "outputs": [],
   "source": [
    "# read in data\n",
    "data = pd.read_pickle(r'/content/gdrive/MyDrive/MSDS_CAPSTONE/Data/master_data_v3.pkl')"
   ]
  },
  {
   "cell_type": "markdown",
   "metadata": {},
   "source": [
    "### Defining color schemes"
   ]
  },
  {
   "cell_type": "code",
   "execution_count": null,
   "metadata": {
    "colab": {
     "base_uri": "https://localhost:8080/",
     "height": 89
    },
    "id": "bgiSN1wP-LnY",
    "outputId": "20f7222a-3a0c-407d-ebaa-1ca401291f44"
   },
   "outputs": [],
   "source": [
    "colors = ['#261421','#5e0000','#b33a3a','#c1071e','#b33a3a','#f2b0a5']\n",
    "bg_color = '#fbfbfb'\n",
    "txt_color = '#5c5c5c'\n",
    "\n",
    "sns.palplot(colors)"
   ]
  },
  {
   "cell_type": "markdown",
   "metadata": {
    "id": "2eVOZARQCSXu"
   },
   "source": [
    "## EDA \n",
    "### Distribution of the Movie Quality Score"
   ]
  },
  {
   "cell_type": "code",
   "execution_count": null,
   "metadata": {
    "colab": {
     "base_uri": "https://localhost:8080/",
     "height": 911
    },
    "id": "7iYk98Jd-bQ1",
    "outputId": "e78b255d-d32b-4261-fce9-7fe95dfbde13"
   },
   "outputs": [],
   "source": [
    "fig = plt.figure(tight_layout=True, figsize=(15,9))\n",
    "gs = gridspec.GridSpec(nrows=2, ncols=2, width_ratios=[3,1])\n",
    "\n",
    "fig.patch.set_facecolor(bg_color)\n",
    "\n",
    "ax0 = fig.add_subplot(gs[:,0])\n",
    "ax1 = fig.add_subplot(gs[0,1])\n",
    "ax2 = fig.add_subplot(gs[1,1])\n",
    "\n",
    "ax0.set_facecolor(bg_color)\n",
    "ax1.set_facecolor(bg_color)\n",
    "ax2.set_facecolor(bg_color)\n",
    "\n",
    "mean = data['RT_comb_score'].mean()\n",
    "median = data['RT_comb_score'].median()\n",
    "\n",
    "#################\n",
    "#### KDE-PLOT####\n",
    "#################\n",
    "ax0.axvline(x=mean, ymin=0, ymax=1, zorder=2, color='#fff', alpha=0.5, lw=2, ls='--')\n",
    "ax0.axvline(x=median, ymin=0, ymax=1, zorder=2, color='#fff', alpha=0.5, lw=2, ls=':')\n",
    "\n",
    "ax0.annotate(\n",
    "    s=f\"Mean: {np.round(mean,1)}\",\n",
    "    xy=(mean, 1),\n",
    "    xytext=(mean - 0.2,1.25),\n",
    "    color=txt_color,\n",
    "    fontsize=14, fontweight='light', \n",
    "    fontfamily='calibri', fontstyle='italic',\n",
    "    va='center', ha='center',\n",
    "    bbox=dict(\n",
    "        boxstyle='square,pad=0.3',\n",
    "        facecolor=bg_color,edgecolor=txt_color\n",
    "    ),\n",
    "    arrowprops=dict(\n",
    "        arrowstyle='->', \n",
    "        color='#000',\n",
    "        connectionstyle='arc3, rad=0.5'\n",
    "    )\n",
    ")\n",
    "\n",
    "ax0.annotate(\n",
    "    s=f\"Median: {np.round(median,1)}\",\n",
    "    xy=(median, 1),\n",
    "    xytext=(median + 0.2, 1.25),\n",
    "    color=txt_color,\n",
    "    fontsize=14, fontweight='light', \n",
    "    fontfamily='calibri', fontstyle='italic',\n",
    "    va='center', ha='center',\n",
    "    bbox=dict(\n",
    "        boxstyle='square,pad=0.3',\n",
    "        facecolor=bg_color,edgecolor=txt_color\n",
    "    ),\n",
    "    arrowprops=dict(\n",
    "        arrowstyle='->', \n",
    "        color='#000',\n",
    "        connectionstyle='arc3, rad=-0.25'\n",
    "    )\n",
    ")\n",
    "\n",
    "sns.kdeplot(\n",
    "    data=data, x='RT_comb_score', shade=True, color=colors[0],edgecolor=colors[4], lw=1, alpha=0.8, ax=ax0, zorder=1\n",
    ")\n",
    "\n",
    "ax0.set_xlabel('')\n",
    "ax0.set_ylabel('')\n",
    "ax0.set_yticks([])\n",
    "\n",
    "##################\n",
    "#### BOX-PLOT ####\n",
    "##################\n",
    "\n",
    "ax1.boxplot(\n",
    "    data=data, x='RT_comb_score',\n",
    "    vert=False, patch_artist=True,\n",
    "    boxprops=dict(facecolor=colors[4], color='#fff', lw=0),\n",
    "    whiskerprops=dict(color='gray', lw=1, ls='--'),\n",
    "    capprops=dict(color='gray', lw=1, ls='--'),\n",
    "    medianprops=dict(color='#fff', lw=2),\n",
    "    flierprops=dict(markerfacecolor=colors[0],alpha=0.75)\n",
    ")\n",
    "\n",
    "ax1.annotate(\n",
    "    s='Right -outliers',\n",
    "    xy=(200, 165),\n",
    "    xytext=(190,225),\n",
    "    color=txt_color,\n",
    "    fontsize=14, fontweight='light', \n",
    "    fontfamily='calibri', fontstyle='italic',\n",
    "    xycoords='axes points',\n",
    "    arrowprops=dict(arrowstyle=\"<-\",connectionstyle=\"arc3, rad=-0.25\")\n",
    "    #arrowprops=dict(arrowstyle='-[', widthB=1.0,lengthB=0.2,angleB=None)\n",
    ")\n",
    "\n",
    "ax1.set_xlabel('')\n",
    "ax1.set_ylabel('')\n",
    "ax1.set_xticks([])\n",
    "ax1.set_yticks([])\n",
    "\n",
    "###################\n",
    "#### PROB-PLOT ####\n",
    "###################\n",
    "\n",
    "res = probplot(x=data['RT_comb_score'], plot=ax2)\n",
    "\n",
    "l0 = ax2.get_lines()[0]\n",
    "l1 = ax2.get_lines()[1]\n",
    "\n",
    "l0.set_marker('D')\n",
    "l0.set_alpha(0.25)\n",
    "l0.set_color(colors[3])\n",
    "l1.set_color(colors[4])\n",
    "l1.set_linestyle('--')\n",
    "l1.set_linewidth(0.5)\n",
    "l1.set_alpha(0.75)\n",
    "\n",
    "ax2.set_xlabel('')\n",
    "ax2.set_ylabel('')\n",
    "ax2.set_xticks([])\n",
    "ax2.set_yticks([])\n",
    "ax2.set_title('')\n",
    "\n",
    "# Text & Titles\n",
    "fig.text(\n",
    "    s='Content Quality Score - Distribution',\n",
    "    x=0, y=0.975,\n",
    "    color=txt_color,\n",
    "    fontsize=25, fontweight='bold'\n",
    ")\n",
    "\n",
    "#fig.text(\n",
    "#    s='''\n",
    "#    Our Content Quality Score is more or less normally distributed.\n",
    "#    However we do have some outliers to \n",
    "#    the right of the curve, which can\n",
    "#    be seen in the boxplot as well as \n",
    "#    on the probability distribution plot.\n",
    "#    ''',\n",
    "#    x=0, y=0.85,\n",
    "#    color=txt_color\n",
    "#)\n",
    "\n",
    "fig.text(\n",
    "    s='Box-Plot', rotation=90, \n",
    "    x=0.60, y=0.80,fontsize=20,\n",
    "    color=txt_color , fontweight='bold'\n",
    ")\n",
    "\n",
    "fig.text(\n",
    "    s='Probability-Plot', rotation=90, \n",
    "    x=0.60, y=0.175,\n",
    "    color=txt_color,fontsize=20,fontweight='bold'\n",
    ")\n",
    "\n",
    "# seperation lines\n",
    "sl1 = lines.Line2D(xdata=[0.63,0.63], ydata=[0.05,0.5], lw=1, alpha=0.5, color='#aeaeae', transform=fig.transFigure, figure=fig)\n",
    "sl2 = lines.Line2D(xdata=[0.63,0.63], ydata=[0.6,0.95], lw=1, alpha=0.5, color='#aeaeae', transform=fig.transFigure, figure=fig)\n",
    "fig.lines.extend([sl1, sl2])\n",
    "\n",
    "# despine\n",
    "for spine in ['top','left','right','bottom']:\n",
    "    ax0.spines[spine].set_visible(False)\n",
    "    ax1.spines[spine].set_visible(False)\n",
    "    ax2.spines[spine].set_visible(False)\n",
    "\n",
    "# show\n",
    "plt.show()"
   ]
  },
  {
   "cell_type": "code",
   "execution_count": null,
   "metadata": {
    "id": "AprnKaPBEVX9"
   },
   "outputs": [],
   "source": [
    "# create a helper function\n",
    "def group_df(data:pd.DataFrame, col:str) -> pd.DataFrame:\n",
    "    tmp = data.groupby(col).agg({'Title':'count','Runtime':'mean','RT_comb_score':'mean'})\n",
    "    tmp = tmp.sort_values(by='Title', ascending=False).reset_index()\n",
    "    tmp = tmp.rename(columns={'Title':'Count', 'Runtime':'MeanRuntime','RT_comb_score':'MeanScore'})\n",
    "    return tmp"
   ]
  },
  {
   "cell_type": "code",
   "execution_count": null,
   "metadata": {
    "id": "nTb45P45FN2g"
   },
   "outputs": [],
   "source": [
    "# create grouped dataframes for analysis\n",
    "data_genre = group_df(data, 'Genre')[:5]\n",
    "data_language = group_df(data, 'Lang')[:5]\n",
    "\n",
    "# calculate ratio for alpha values\n",
    "data_genre['Ratio'] = data_genre['Count'].apply(lambda x: x / data_genre['Count'].sum())"
   ]
  },
  {
   "cell_type": "code",
   "execution_count": null,
   "metadata": {
    "id": "tXzAY_3ZILGO"
   },
   "outputs": [],
   "source": [
    "temp =(data.groupby(['Rel_year', 'Title']).size() \n",
    "   .sort_values(ascending=False) \n",
    "   .reset_index(name='count') \n",
    "   .drop_duplicates(subset='Title'))"
   ]
  },
  {
   "cell_type": "code",
   "execution_count": null,
   "metadata": {
    "colab": {
     "base_uri": "https://localhost:8080/"
    },
    "id": "qOrJdYSMSjtU",
    "outputId": "84e1d967-b497-4c92-ed9b-a1d0baa18112"
   },
   "outputs": [],
   "source": [
    "tmp = temp.groupby('Rel_year').agg({'Title':'count'}).reset_index()\n",
    "tmp = tmp.rename(columns={'Title':'Count'})\n",
    "tmp.columns"
   ]
  },
  {
   "cell_type": "code",
   "execution_count": null,
   "metadata": {
    "id": "7JpY0nJvTd-d"
   },
   "outputs": [],
   "source": [
    "data_time = tmp.copy()"
   ]
  },
  {
   "cell_type": "code",
   "execution_count": null,
   "metadata": {
    "colab": {
     "base_uri": "https://localhost:8080/",
     "height": 486
    },
    "id": "XZj4Pj8lFgmg",
    "outputId": "8657dcaf-c788-4211-f4f6-a8d214a67f2c"
   },
   "outputs": [],
   "source": [
    "# basic overview how many titles over time\n",
    "data_time = data_time[data_time['Rel_year'] <= 2022]\n",
    "data_time = data_time.rename(columns={'Title':'Count'})\n",
    "sum_titles = data_time['Count'].sum()\n",
    "\n",
    "# plot\n",
    "fig, ax = plt.subplots(figsize=(12,6))\n",
    "fig.patch.set_facecolor(bg_color)\n",
    "ax.set_facecolor(bg_color)\n",
    "\n",
    "ax.plot(data=data_time['Rel_year'], y1= data_time['Count'], color=colors[4], lw=0.5)\n",
    "ax.fill_between(x=data_time['Rel_year'], y1=0, y2=data_time['Count'], color=colors[0], alpha=0.85)\n",
    "\n",
    "ax.axhline(y=0, color=colors[4], lw=2, alpha=1)\n",
    "ax.set_xlim(data_time['Rel_year'].min(), data_time['Rel_year'].max())\n",
    "\n",
    "ax.yaxis.tick_right()\n",
    "ax.tick_params(axis='both', which='both', length=0)\n",
    "\n",
    "# Text & Titles\n",
    "fig.text(\n",
    "    s='Number of Titles over Time (until 2022)',\n",
    "    x=0, y=0.975,\n",
    "    color=txt_color,\n",
    "    fontsize=25, fontweight='bold'\n",
    ")\n",
    "\n",
    "#fig.text(\n",
    "#    s='''\n",
    "#    The amount of titles added by Netflix\n",
    "#    has steadily risen increased over the years. \n",
    "#    Note that 2022 data only includes Q1 releases\n",
    " #   ''',\n",
    " #   x=-0.01, y=0.85,\n",
    " #   color=txt_color\n",
    "#)\n",
    "\n",
    "fig.text(\n",
    "    s='Total Movies:',\n",
    "    x=0.770, y=0.97,\n",
    "    color=txt_color,\n",
    "    fontsize=15,\n",
    ")\n",
    "\n",
    "fig.text(\n",
    "    s=sum_titles,\n",
    "    x=0.85, y=0.93,\n",
    "    color=txt_color,\n",
    "    fontsize= 20,fontweight='bold'\n",
    ")\n",
    "\n",
    "# seperation lines\n",
    "sl1 = lines.Line2D(xdata=[0.75,0.75], ydata=[0.9,1], lw=1, alpha=0.5, color='#aeaeae', transform=fig.transFigure, figure=fig)\n",
    "#sl2 = lines.Line2D(xdata=[0.75,0.80], ydata=[0.9,0.92], lw=1, alpha=0.5, color='#aeaeae', transform=fig.transFigure, figure=fig)\n",
    "#fig.lines.extend([sl1,sl2])\n",
    "\n",
    "# despine\n",
    "for spine in ['top','left','right','bottom']:\n",
    "    ax.spines[spine].set_visible(False)\n",
    "\n",
    "plt.show()"
   ]
  },
  {
   "cell_type": "markdown",
   "metadata": {
    "id": "SiyP-ryrskz4"
   },
   "source": [
    "There are 622 films represented in the dataset and 98 columns."
   ]
  },
  {
   "cell_type": "code",
   "execution_count": null,
   "metadata": {
    "colab": {
     "base_uri": "https://localhost:8080/"
    },
    "id": "PzG_Bk0ylUA1",
    "outputId": "7402de16-b788-4f67-be9d-92963608bada"
   },
   "outputs": [],
   "source": [
    "!pip install circlify"
   ]
  },
  {
   "cell_type": "code",
   "execution_count": null,
   "metadata": {
    "colab": {
     "base_uri": "https://localhost:8080/",
     "height": 981
    },
    "id": "1b2XPa62YFP8",
    "outputId": "99f89e99-8ea1-40fa-fa0a-9eee1b6797b7"
   },
   "outputs": [],
   "source": [
    "# figure, grid\n",
    "fig = plt.figure(tight_layout=True, figsize=(15,10))\n",
    "gs = gridspec.GridSpec(nrows= 2, ncols=2)\n",
    "\n",
    "fig.patch.set_facecolor(bg_color)\n",
    "\n",
    "ax0 = fig.add_subplot(gs[0,0])\n",
    "ax1 = fig.add_subplot(gs[1,0])\n",
    "ax2 = fig.add_subplot(gs[:,1])\n",
    "\n",
    "# plots\n",
    "ax0 = sns.kdeplot(\n",
    "    data=data, x='Runtime', ax=ax0,\n",
    "    shade=True, color=colors[0],\n",
    "    edgecolor=colors[4], lw=1, alpha=0.8\n",
    ")\n",
    "\n",
    "ax1.boxplot(\n",
    "    data=data, x='Runtime',\n",
    "    vert=False, patch_artist=True,\n",
    "    boxprops=dict(facecolor=colors[4], color='#fff', lw=0),\n",
    "    whiskerprops=dict(color='gray', lw=1, ls='--'),\n",
    "    capprops=dict(color='gray', lw=1, ls='--'),\n",
    "    medianprops=dict(color='#fff', lw=2),\n",
    "    flierprops=dict(markerfacecolor=colors[0],alpha=0.75)\n",
    ")\n",
    "\n",
    "ax2.scatter(\n",
    "    y=data['Runtime'], x=data['RT_comb_score'],\n",
    "    color=colors[3], alpha=0.5, s=1*data['Runtime']\n",
    ")\n",
    "\n",
    "# Text & Titles\n",
    "fig.text(\n",
    "    s='Runtime - Distribution and Relation with Quality Score',\n",
    "    x=0, y=1.1,\n",
    "    color=txt_color,\n",
    "    fontsize=25, fontweight='bold'\n",
    ")\n",
    "\n",
    "#fig.text(\n",
    "#    s='''\n",
    "#    as we can see the runtime is negatively skewed with\n",
    "#    outliers to the left. From the scatterplot we can tell\n",
    "#    that there is no relation between runtime and Quality Score.\n",
    "#    ''',\n",
    "#    x=0, y=1.02,\n",
    "#    color=txt_color\n",
    "#)\n",
    "\n",
    "fig.text(\n",
    "    s='''\n",
    "    Runtime vs. Quality Score\n",
    "    ''',\n",
    "    x=0.5, y= 1,\n",
    "    color=txt_color,fontsize= 20,fontweight='bold'\n",
    ")\n",
    "\n",
    "fig.text(\n",
    "    s='''\n",
    "    Runtime Distribution\n",
    "    ''',\n",
    "    x=0, y= 1,\n",
    "    color=txt_color,fontsize= 20,fontweight='bold'\n",
    ")\n",
    "\n",
    "fig.text(\n",
    "    s='''\n",
    "    Runtime Outliers\n",
    "    ''',\n",
    "    x=0, y=0.34,\n",
    "    color=txt_color,fontsize= 20,fontweight='bold'\n",
    ")\n",
    "\n",
    "# seperation lines\n",
    "sl1 = lines.Line2D(xdata=[0.4,0.4], ydata=[1,1.05], lw=1, alpha=0.5, color='#aeaeae', transform=fig.transFigure, figure=fig)\n",
    "sl2 = lines.Line2D(xdata=[0,0.0], ydata=[1,1.05], lw=1, alpha=0.5, color='#aeaeae', transform=fig.transFigure, figure=fig)\n",
    "sl3 = lines.Line2D(xdata=[0,0.0], ydata=[0.35,0.4], lw=1, alpha=0.5, color='#aeaeae', transform=fig.transFigure, figure=fig)\n",
    "fig.lines.extend([sl1,sl2,sl3])\n",
    "\n",
    "# ax colors\n",
    "ax0.set_facecolor(bg_color)\n",
    "ax1.set_facecolor(bg_color)\n",
    "ax2.set_facecolor(bg_color)\n",
    "\n",
    "# labels & ticks\n",
    "ax0.set_xlabel('')\n",
    "ax0.set_ylabel('')\n",
    "ax0.set_yticks([])\n",
    "\n",
    "ax1.set_yticks([])\n",
    "ax1.set_xticks([])\n",
    "\n",
    "#ax2.set_yticks([])\n",
    "\n",
    "ax0.tick_params(length=0, colors=txt_color)\n",
    "#ax2.tick_params(length=0, colors=txt_color)\n",
    "\n",
    "# despine\n",
    "for spine in ['top','left','right','bottom']:\n",
    "    ax1.spines[spine].set_visible(False)\n",
    "    \n",
    "for spine in ['top','left','right']:\n",
    "    ax0.spines[spine].set_visible(False)\n",
    "    ax2.spines[spine].set_visible(False)\n",
    "\n",
    "ax2.spines['bottom'].set_color(txt_color)\n",
    "ax2.spines['bottom'].set_alpha(0.25)\n",
    "\n",
    "plt.show()"
   ]
  },
  {
   "cell_type": "code",
   "execution_count": null,
   "metadata": {
    "colab": {
     "base_uri": "https://localhost:8080/",
     "height": 973
    },
    "id": "d4NpkziLlfWK",
    "outputId": "f38070a8-b1f9-4186-9dda-2fcc878dd923"
   },
   "outputs": [],
   "source": [
    "import circlify\n",
    "\n",
    "fig = plt.figure(tight_layout=True, figsize=(15,10))\n",
    "gs = gridspec.GridSpec(nrows=1, ncols=2, width_ratios=[1.5,0.5])\n",
    "\n",
    "fig.patch.set_facecolor(bg_color)\n",
    "fig.subplots_adjust(wspace=1, right=2)\n",
    "\n",
    "ax0 = fig.add_subplot(gs[0,0])\n",
    "ax1 = fig.add_subplot(gs[0,1])\n",
    "\n",
    "ax0.set_facecolor(bg_color)\n",
    "ax1.set_facecolor(bg_color)\n",
    "\n",
    "# create circles based on title count\n",
    "circles = circlify.circlify(\n",
    "    data=data_genre['Count'].tolist(),\n",
    "    show_enclosure=False,\n",
    "    target_enclosure=circlify.Circle(x=0,y=0,r=1)\n",
    ")\n",
    "\n",
    "# find and set limit\n",
    "lim = max(\n",
    "    max(\n",
    "        abs(circle.x) + circle.r,\n",
    "        abs(circle.y) + circle.r\n",
    "    )\n",
    "    for circle in circles\n",
    ")\n",
    "\n",
    "ax0.set_xlim(-lim, lim)\n",
    "ax0.set_ylim(-lim, lim)\n",
    "\n",
    "# labels\n",
    "labels = data_genre['Genre'][::-1]\n",
    "scores = data_genre['MeanScore'][::-1]\n",
    "ratios = data_genre['Ratio'][::-1]\n",
    "\n",
    "# print circles\n",
    "for label, score, ratio, circle in zip(labels, scores, ratios, circles):\n",
    "    x,y,r = circle\n",
    "    ax0.add_patch(\n",
    "        plt.Circle(\n",
    "            (x,y), r, \n",
    "            alpha=(1*ratio+0.5), lw=1, \n",
    "            fill=True, facecolor=colors[0]\n",
    "            )\n",
    "        )\n",
    "    ax0.annotate(\n",
    "        s=f\"{label}\\n{np.round(score,1)}\",\n",
    "        xy=(x,y),\n",
    "        va='center',ha='center', color='#fff'\n",
    "    )\n",
    "\n",
    "# average runtime per genre\n",
    "ax1.set_xlim(0, data_genre['MeanRuntime'].max()+10)\n",
    "\n",
    "ax1 = sns.scatterplot(\n",
    "    data=data_genre, x=10, y='Genre', color='#000', s=200\n",
    ")\n",
    "ax1 = sns.scatterplot(\n",
    "    data=data_genre, x='MeanRuntime', y='Genre', color=colors[0], s=2e3\n",
    ")\n",
    "\n",
    "for idx in range(0,len(data_genre['Genre'])):\n",
    "    xmin = 10/(data_genre['MeanRuntime'].max()+10)\n",
    "    xmax = data_genre['MeanRuntime'][idx]/(data_genre['MeanRuntime'].max()+10)\n",
    "\n",
    "    ax1.axhline(\n",
    "        y=data_genre['Genre'][idx], \n",
    "        xmin=xmin, \n",
    "        xmax=xmax,\n",
    "        color=txt_color, zorder=0\n",
    "    )\n",
    "\n",
    "    ax1.annotate(\n",
    "        s=f\"{int(data_genre['MeanRuntime'][idx])}\\nmin\",\n",
    "        xy=(data_genre['MeanRuntime'][idx],data_genre['Genre'][idx]),\n",
    "        va='center', ha='center',\n",
    "        color='#fff'\n",
    "        \n",
    "    )\n",
    "\n",
    "ax1.set_xticks([])\n",
    "ax1.set_xlabel('')\n",
    "ax1.set_ylabel('')\n",
    "ax1.tick_params(axis='both', which='both', length=0)\n",
    "\n",
    "# despine\n",
    "for spine in ['top','left','right','bottom']:\n",
    "    ax1.spines[spine].set_visible(False)\n",
    "\n",
    "ax0.axis('off')\n",
    "\n",
    "# Text & Titles\n",
    "fig.text(\n",
    "    s='TOP 5 - Content Genres',\n",
    "    x=0, y=0.975,\n",
    "    color=txt_color,\n",
    "    fontsize=17, fontweight='bold'\n",
    ")\n",
    "\n",
    "fig.text(\n",
    "    s='''\n",
    "    by number of titles (size)\n",
    "    average score and runtime\n",
    "    ''',\n",
    "    x=-0.01, y=0.925,\n",
    "    color=txt_color\n",
    ")\n",
    "\n",
    "fig.text(\n",
    "    s='''\n",
    "    Dramas and Documentaries are  \n",
    "    the biggest (44 and 36 Titles)\n",
    "    in size and highest in the \n",
    "    quality score (on average).\n",
    "    ''',\n",
    "    x=0.51, y=0.7,\n",
    "    color=txt_color,\n",
    "    fontsize=9,alpha=0.5\n",
    ")\n",
    "\n",
    "fig.text(\n",
    "    s='avg. Runtime',\n",
    "    rotation=90,\n",
    "    x=0.665, y=0.875,\n",
    "    color=txt_color,\n",
    "    fontsize=9,alpha=0.5\n",
    ")\n",
    "\n",
    "# seperation lines\n",
    "sl1 = lines.Line2D(xdata=[0.525,0.525], ydata=[0.68,0.78], lw=2, alpha=0.5, color='#aeaeae', transform=fig.transFigure, figure=fig)\n",
    "sl2 = lines.Line2D(xdata=[0.675,0.675], ydata=[0.05,0.95], lw=1, alpha=0.25, color='#aeaeae', transform=fig.transFigure, figure=fig)\n",
    "fig.lines.extend([sl1,sl2])\n",
    "\n",
    "plt.show()"
   ]
  },
  {
   "cell_type": "code",
   "execution_count": null,
   "metadata": {
    "colab": {
     "base_uri": "https://localhost:8080/",
     "height": 480
    },
    "id": "jfccT77NUWI1",
    "outputId": "702509cf-da5f-4ec5-97c2-b20349453018"
   },
   "outputs": [],
   "source": [
    "# prepare data for top genre boxplot\n",
    "cols = [*data_genre['Genre'].value_counts().index]\n",
    "\n",
    "data_top_genre = data.copy()\n",
    "data_top_genre['TopGenre'] = data_top_genre['Genre'].apply(lambda x: 1 if x in cols else 0)\n",
    "data = data_top_genre[data_top_genre['TopGenre'] == 1]\n",
    "\n",
    "# violin plot\n",
    "fig, ax = plt.subplots(figsize=(15,6))\n",
    "\n",
    "fig.patch.set_facecolor(bg_color)\n",
    "ax.set_facecolor(bg_color)\n",
    "\n",
    "sns.violinplot(data=data, x='Genre', y='RT_comb_score', palette=colors, saturation=0.5, ax=ax)\n",
    "\n",
    "ax.set_ylabel('')\n",
    "ax.set_xlabel('')\n",
    "ax.tick_params(axis='x',length=0)\n",
    "\n",
    "# despine\n",
    "for spine in ['top','left','right']:\n",
    "    ax.spines[spine].set_visible(False)\n",
    "\n",
    "# Text & Titles\n",
    "fig.text(\n",
    "    s='Genres versus Quality Score',\n",
    "    x=0.1, y=1,\n",
    "    color=txt_color,\n",
    "    fontsize=25, fontweight='bold'\n",
    ")\n",
    "\n",
    "#fig.text(\n",
    "#    s='''\n",
    "#    Dramas have are the highest scoring genre,\n",
    "#    interestingly have more postive outliers.  \n",
    "#    ''',\n",
    "#    x=0.09, y=1.02,\n",
    "#    color=txt_color\n",
    "#)\n",
    "\n",
    "plt.show()"
   ]
  },
  {
   "cell_type": "code",
   "execution_count": null,
   "metadata": {
    "colab": {
     "base_uri": "https://localhost:8080/"
    },
    "id": "mWXm9duElKUk",
    "outputId": "ed1c87e4-0abf-409a-d07e-c8f88ca6c5b6"
   },
   "outputs": [],
   "source": [
    "!pip install squarify\n",
    "import squarify"
   ]
  },
  {
   "cell_type": "code",
   "execution_count": null,
   "metadata": {
    "colab": {
     "base_uri": "https://localhost:8080/",
     "height": 767
    },
    "id": "lKwyPX90js-K",
    "outputId": "dbd9bc33-782f-46f4-e5f8-b33796ec0c65"
   },
   "outputs": [],
   "source": [
    "fig = plt.figure(figsize=(15,10))\n",
    "\n",
    "gs = gridspec.GridSpec(nrows=2, ncols=2, height_ratios=[3,1])\n",
    "\n",
    "ax0 = fig.add_subplot(gs[0,:])\n",
    "ax1 = fig.add_subplot(gs[1,0])\n",
    "ax2 = fig.add_subplot(gs[1,1])\n",
    "\n",
    "fig.patch.set_facecolor(bg_color)\n",
    "fig.subplots_adjust(wspace=0.2, hspace=0.1)\n",
    "ax0.set_facecolor(bg_color)\n",
    "ax1.set_facecolor(bg_color)\n",
    "ax2.set_facecolor(bg_color)\n",
    "\n",
    "# create labels for treemap\n",
    "labels = [label +'\\n#'+ str(count) +' Titles' for label, count in zip(data_language['Lang'],data_language['Count'])]\n",
    "\n",
    "# create treemap\n",
    "squarify.plot(\n",
    "    sizes=data_language['Count'], label=labels, color=colors, \n",
    "    pad=True, ax=ax0, text_kwargs=dict(color='white', fontsize=16, fontweight='light'))\n",
    "\n",
    "# average runtime\n",
    "ax1.bar(\n",
    "    x=data_language['Lang'], height=data_language['MeanScore'],\n",
    "    color='#000', edgecolor='#000', lw=1, alpha=0.45\n",
    ")\n",
    "\n",
    "\n",
    "ax1.tick_params(length=0)\n",
    "ax1.set_yticks([])\n",
    "ax1.set_ylabel('')\n",
    "\n",
    "# average scores\n",
    "ax2.bar(\n",
    "    x=data_language['Lang'], height=data_language['MeanRuntime'],\n",
    "    color='#000', edgecolor='#000', lw=1, alpha=0.45\n",
    ")\n",
    "\n",
    "ax2.tick_params(length=0)\n",
    "ax2.set_yticks([])\n",
    "ax2.set_ylabel('')\n",
    "\n",
    "# annotations\n",
    "for idx in range(0,len(data_language['Lang'])):\n",
    "    ax1.annotate(\n",
    "        s=f\" {np.round(data_language['MeanScore'][idx],2)} \",\n",
    "        xy=(data_language['Lang'][idx], 0.1),\n",
    "        rotation=90,\n",
    "        va='center', ha='center',\n",
    "        color='#fff', fontsize=12\n",
    "    )\n",
    "    ax2.annotate(\n",
    "        s=f\" {int(data_language['MeanRuntime'][idx])} min\",\n",
    "        xy=(data_language['Lang'][idx], 60),\n",
    "        rotation = 90,\n",
    "        va='center', ha='center',\n",
    "        color='#fff', fontsize=12\n",
    "    )\n",
    "    \n",
    "# despine\n",
    "ax0.axis('off')\n",
    "for spine in ['top','left','right']:\n",
    "    ax1.spines[spine].set_visible(False)\n",
    "    ax2.spines[spine].set_visible(False)\n",
    "\n",
    "# Text & Titles\n",
    "fig.text(\n",
    "    s='TOP 5 - Languages by number of titles (size), average score and runtime',\n",
    "    x=0, y=0.975,\n",
    "    color=txt_color,\n",
    "    fontsize=25, fontweight='bold'\n",
    ")\n",
    "\n",
    "#fig.text(\n",
    "#    s='''\n",
    "#    by number of titles (size)\n",
    "#    average score and runtime\n",
    "#    ''',\n",
    "#    x=0.09, y=0.925,\n",
    "#    color=txt_color, font = 16\n",
    "#)\n",
    "\n",
    "fig.text(\n",
    "    s='Avg. Score',\n",
    "    rotation=90,\n",
    "    x=0.1075, y=0.17,\n",
    "    color=txt_color,\n",
    "    fontsize=16,alpha=0.5,fontweight='bold'\n",
    ")\n",
    "\n",
    "fig.text(\n",
    "    s='Avg. Runtime',\n",
    "    rotation=90,\n",
    "    x=0.5275, y=0.17,\n",
    "    color=txt_color,\n",
    "    fontsize=16,alpha=0.5, fontweight='bold'\n",
    ")\n",
    "\n",
    "sl1 = lines.Line2D(xdata=[0.125,0.125], ydata=[0.15,0.3], lw=1, alpha=0.25, color='#aeaeae', transform=fig.transFigure, figure=fig)\n",
    "sl2 = lines.Line2D(xdata=[0.545,0.545], ydata=[0.15,0.3], lw=1, alpha=0.25, color='#aeaeae', transform=fig.transFigure, figure=fig)\n",
    "fig.lines.extend([sl1,sl2])\n",
    "\n",
    "plt.show()"
   ]
  },
  {
   "cell_type": "code",
   "execution_count": null,
   "metadata": {
    "colab": {
     "base_uri": "https://localhost:8080/",
     "height": 495
    },
    "id": "hs8__YM5rGnz",
    "outputId": "da3ec5ef-68d0-4b56-f976-1a0efc76ab83"
   },
   "outputs": [],
   "source": [
    "data_month = data.groupby('Rel_month').mean()[['RT_comb_score']].reset_index()\n",
    "\n",
    "fig, ax = plt.subplots(figsize=(15,6))\n",
    "\n",
    "fig.patch.set_facecolor(bg_color)\n",
    "ax.set_facecolor(bg_color)\n",
    "\n",
    "ax.plot(data=data_month['Rel_month'], y1=data_month['RT_comb_score'], color=colors[4], lw=10)\n",
    "ax.fill_between(x=np.arange(0,12), y1=data_month['RT_comb_score'], color=colors[0], alpha=0.05, label='Avg. Score')\n",
    "\n",
    "sns.swarmplot(data=data, x='Rel_month', y='RT_comb_score', palette=colors, ax=ax)\n",
    "\n",
    "ax.set_ylabel('')\n",
    "ax.set_xlabel('')\n",
    "ax.set_ylim(0,1.1)\n",
    "ax.tick_params(axis='both',length=0)\n",
    "\n",
    "# despine\n",
    "for spine in ['top','left','right']:\n",
    "    ax.spines[spine].set_visible(False)\n",
    "\n",
    "# Text & Titles\n",
    "fig.text(\n",
    "    s='Quality Score by Month',\n",
    "    x=0.1, y=1,\n",
    "    color=txt_color,\n",
    "    fontsize=25, fontweight='bold'\n",
    ")\n",
    "\n",
    "#fig.text(\n",
    "#    s='''\n",
    "#    The average score is distributed\n",
    "#    evenly from Jan to Sep, however from\n",
    "#    Oct (Q3) onwards we can see an \n",
    "#    improvement in the score.\n",
    "#    ''',\n",
    "#    x=0.09, y=0.94,\n",
    "#    color=txt_color\n",
    "#)\n",
    "\n",
    "plt.legend(loc='Top center',frameon=False, fontsize= 12)\n",
    "plt.show()"
   ]
  },
  {
   "cell_type": "code",
   "execution_count": null,
   "metadata": {
    "id": "038Algc_3jOG"
   },
   "outputs": [],
   "source": [
    "data = pd.read_pickle(r'/content/gdrive/MyDrive/MSDS_CAPSTONE/Data/master_data_v3.pkl')"
   ]
  },
  {
   "cell_type": "code",
   "execution_count": null,
   "metadata": {
    "id": "qi2MHLcFxiy8"
   },
   "outputs": [],
   "source": [
    "data.isnull().sum().sum()"
   ]
  },
  {
   "cell_type": "code",
   "execution_count": null,
   "metadata": {
    "colab": {
     "base_uri": "https://localhost:8080/"
    },
    "id": "ccdg78VsyeHm",
    "outputId": "cd16b2a1-3401-4dc3-a605-7b5aeacbdb72"
   },
   "outputs": [],
   "source": [
    "data.info()"
   ]
  },
  {
   "cell_type": "code",
   "execution_count": null,
   "metadata": {
    "colab": {
     "base_uri": "https://localhost:8080/"
    },
    "id": "u5aRkybSI3oi",
    "outputId": "19b26778-d810-483c-b1d6-36b117145889"
   },
   "outputs": [],
   "source": [
    "data.shape"
   ]
  },
  {
   "cell_type": "markdown",
   "metadata": {
    "id": "kdM6PRkOaUWi"
   },
   "source": [
    "## Subsetting data by columns that will not be used /are colinear "
   ]
  },
  {
   "cell_type": "code",
   "execution_count": null,
   "metadata": {
    "id": "lizPgxqUKB2R"
   },
   "outputs": [],
   "source": [
    "df_sub = data.drop(columns = ['Lang_eng','Genre','Rel_year', 'Rating','Dir1', 'Dir1_films', 'Dir1_film_scores','Dir1_qual', 'Dir2', 'Dir2_films', 'Dir2_film_scores','Dir2_qual','Dir3', 'Dir3_films', 'Dir3_film_scores','Dir3_qual','Writer1', 'Writer1_films', 'Writer1_film_scores','Writer1_qual','Writer2', 'Writer2_films', 'Writer2_film_scores', 'Writer2_qual', 'Writer3', 'Writer3_films', 'Writer3_film_scores','Writer3_qual','Actor1',\n",
    "       'Actor1_films', 'Actor1_film_scores','Actor1_qual','Actor2','Actor2_films', 'Actor2_film_scores', 'Actor2_qual','Actor3','Actor3_films', 'Actor3_film_scores','Actor3_qual','Actor4','Actor4_films', 'Actor4_film_scores','Actor4_qual','Actor5','Actor5_films', 'Actor5_film_scores','Actor5_qual','RT_url', 'IMDb_url','Plot_summ', 'Plot_keywords']) "
   ]
  },
  {
   "cell_type": "code",
   "execution_count": null,
   "metadata": {
    "colab": {
     "base_uri": "https://localhost:8080/"
    },
    "id": "TFvuyfALZ9d9",
    "outputId": "58a36222-3609-47ce-b02a-49bdeca8e3e5"
   },
   "outputs": [],
   "source": [
    "df_sub.info()"
   ]
  },
  {
   "cell_type": "markdown",
   "metadata": {
    "id": "qV9fzhHUa9K4"
   },
   "source": [
    "## Missing value treatment"
   ]
  },
  {
   "cell_type": "code",
   "execution_count": null,
   "metadata": {
    "colab": {
     "base_uri": "https://localhost:8080/"
    },
    "id": "D4XLdZdszu8J",
    "outputId": "6a1d1d91-d46d-44db-b07d-d1b1d9efe2fb"
   },
   "outputs": [],
   "source": [
    "numerics = ['int16', 'int32', 'int64', 'float16', 'float32', 'float64','uint8']\n",
    "numeric_df = df_sub.select_dtypes(include=numerics)\n",
    "numeric_df.isnull().sum()"
   ]
  },
  {
   "cell_type": "code",
   "execution_count": null,
   "metadata": {
    "id": "RgIWUJ7GbLGt"
   },
   "outputs": [],
   "source": [
    "numeric_df['Based_on_existing_material'] = numeric_df['Based_on_existing_material'].fillna(0)\n",
    "numeric_df['Based_on_real_life'] = numeric_df['Based_on_existing_material'].fillna(0)"
   ]
  },
  {
   "cell_type": "code",
   "execution_count": null,
   "metadata": {
    "colab": {
     "base_uri": "https://localhost:8080/"
    },
    "id": "HhMLENqYbsGd",
    "outputId": "7f1382eb-7178-4e23-bbb5-2ec4d1a7e7a5"
   },
   "outputs": [],
   "source": [
    "numeric_df.isnull().sum()"
   ]
  },
  {
   "cell_type": "code",
   "execution_count": null,
   "metadata": {
    "colab": {
     "base_uri": "https://localhost:8080/"
    },
    "id": "4RKw3gRSzvof",
    "outputId": "712ee598-fd27-41f8-8a78-26900359ce78"
   },
   "outputs": [],
   "source": [
    "#Labeling unknown actor/director/writer by -1\n",
    "numeric_df= numeric_df.fillna(-9999)\n",
    "numeric_df.isnull().sum().sum()"
   ]
  },
  {
   "cell_type": "code",
   "execution_count": null,
   "metadata": {
    "colab": {
     "base_uri": "https://localhost:8080/"
    },
    "id": "HgdFVV33anBl",
    "outputId": "124049fa-4435-47c0-9719-385c8fa52168"
   },
   "outputs": [],
   "source": [
    "numeric_df['Dir_avg_qual'].min()"
   ]
  },
  {
   "cell_type": "markdown",
   "metadata": {
    "id": "LCEV459ObAoF"
   },
   "source": [
    "### Label encoding"
   ]
  },
  {
   "cell_type": "code",
   "execution_count": null,
   "metadata": {
    "colab": {
     "base_uri": "https://localhost:8080/"
    },
    "id": "ek23_-N9zvrf",
    "outputId": "152c1294-93ee-4ff4-d214-db774d1c6f27"
   },
   "outputs": [],
   "source": [
    "char = ['object']\n",
    "char_df = df_sub.select_dtypes(include=char)\n",
    "#char_df = char_df.fillna('NA')\n",
    "char_df.isnull().sum().sum()"
   ]
  },
  {
   "cell_type": "code",
   "execution_count": null,
   "metadata": {
    "colab": {
     "base_uri": "https://localhost:8080/"
    },
    "id": "wUhBwVwZb6BU",
    "outputId": "a76a2ecc-7150-4b38-8696-83a29823ad8c"
   },
   "outputs": [],
   "source": [
    "char_df.isnull().sum()"
   ]
  },
  {
   "cell_type": "code",
   "execution_count": null,
   "metadata": {
    "colab": {
     "base_uri": "https://localhost:8080/"
    },
    "id": "f9dE91gCeBrD",
    "outputId": "fcdfce35-d550-40f2-b66b-2c3158a1624b"
   },
   "outputs": [],
   "source": [
    "char_df['Lang'].value_counts()"
   ]
  },
  {
   "cell_type": "code",
   "execution_count": null,
   "metadata": {
    "id": "hd1vMYCMTKB4"
   },
   "outputs": [],
   "source": [
    "char_df1 =pd.get_dummies(char_df,  columns = ['Lang'])"
   ]
  },
  {
   "cell_type": "code",
   "execution_count": null,
   "metadata": {
    "colab": {
     "base_uri": "https://localhost:8080/"
    },
    "id": "li9Y96PYzvuW",
    "outputId": "bdfcb7fc-4af7-468a-9750-f458ab84399a"
   },
   "outputs": [],
   "source": [
    "char_df1.columns"
   ]
  },
  {
   "cell_type": "code",
   "execution_count": null,
   "metadata": {
    "colab": {
     "base_uri": "https://localhost:8080/"
    },
    "id": "dmmDTWBQRhJo",
    "outputId": "b4329010-8652-4cd0-fafa-7ccc38c416d1"
   },
   "outputs": [],
   "source": [
    "char_df1.info()"
   ]
  },
  {
   "cell_type": "code",
   "execution_count": null,
   "metadata": {
    "colab": {
     "base_uri": "https://localhost:8080/"
    },
    "id": "uG35AFJKWOyo",
    "outputId": "2bc7d626-c6c6-49bc-f670-318927cfaa9c"
   },
   "outputs": [],
   "source": [
    "char_df1.isnull().sum().sum()"
   ]
  },
  {
   "cell_type": "code",
   "execution_count": null,
   "metadata": {
    "colab": {
     "base_uri": "https://localhost:8080/"
    },
    "id": "Ses5CqIKJeB1",
    "outputId": "1b99e256-d711-4216-a048-2272d0aa19fb"
   },
   "outputs": [],
   "source": [
    "char_df1.shape"
   ]
  },
  {
   "cell_type": "markdown",
   "metadata": {
    "id": "kW2a0qoNHB11"
   },
   "source": [
    "Reviewing Distribution of Char and Numeric datatypes"
   ]
  },
  {
   "cell_type": "code",
   "execution_count": null,
   "metadata": {
    "colab": {
     "base_uri": "https://localhost:8080/",
     "height": 1000
    },
    "id": "7n2PTXZ2Fk6m",
    "outputId": "b5d46645-60d4-41f4-99c3-d367b8c069d6"
   },
   "outputs": [],
   "source": [
    "numeric_df.hist(bins =20, figsize =(20,20), color = 'r')\n",
    "plt.show()"
   ]
  },
  {
   "cell_type": "code",
   "execution_count": null,
   "metadata": {
    "colab": {
     "base_uri": "https://localhost:8080/",
     "height": 1000
    },
    "id": "fvuRhCXfG8ms",
    "outputId": "cd4793a6-33c9-44c0-ea55-80bd6baf1a2f"
   },
   "outputs": [],
   "source": [
    "char_df1.hist(bins =20, figsize =(20,20), color = 'r')\n",
    "plt.show()"
   ]
  },
  {
   "cell_type": "code",
   "execution_count": null,
   "metadata": {
    "colab": {
     "base_uri": "https://localhost:8080/"
    },
    "id": "Ze3b3Co3WdWZ",
    "outputId": "0120bff1-f570-4ad8-a330-47f6aac71d0e"
   },
   "outputs": [],
   "source": [
    "#final dataset post missing value treatment\n",
    "final_df = pd.concat([char_df1, numeric_df], axis = 1)\n",
    "final_df.shape"
   ]
  },
  {
   "cell_type": "markdown",
   "metadata": {
    "id": "-elriPK9bIr6"
   },
   "source": [
    "### Correlation study"
   ]
  },
  {
   "cell_type": "markdown",
   "metadata": {
    "id": "92vyoxMnesCO"
   },
   "source": [
    "### Correlation limiting to top 5 Languages = Eng, Spanish, Hindi, French, Korean"
   ]
  },
  {
   "cell_type": "code",
   "execution_count": null,
   "metadata": {
    "id": "j7iQtPrzdVuj"
   },
   "outputs": [],
   "source": [
    "#keeping only top 5 lang\n",
    "\n",
    "final_df1 = final_df.drop(columns = ['Rating_reason',  'Lang_Arabic', 'Lang_Cantonese',\n",
    "       'Lang_Chinese', 'Lang_Danish', 'Lang_Dutch', \n",
    "       'Lang_Filipino',  'Lang_Georgian ', 'Lang_German',\n",
    "        'Lang_Hungarian ', 'Lang_Indonesian', 'Lang_Italian',\n",
    "       'Lang_Japanese', 'Lang_Khmer ', 'Lang_Malay',\n",
    "       'Lang_Malayalam', 'Lang_Mandarin', 'Lang_Marathi', 'Lang_Norwegian',\n",
    "       'Lang_Polish', 'Lang_Portuguese', 'Lang_Romanian', 'Lang_Russian', 'Lang_Swedish', 'Lang_Tamil', 'Lang_Thai',\n",
    "       'Lang_Ukranian', 'Lang_Wolof'])"
   ]
  },
  {
   "cell_type": "code",
   "execution_count": null,
   "metadata": {
    "id": "U880Ipk3ekxn"
   },
   "outputs": [],
   "source": [
    "corrMatrix = final_df1.corr()"
   ]
  },
  {
   "cell_type": "code",
   "execution_count": null,
   "metadata": {
    "colab": {
     "base_uri": "https://localhost:8080/",
     "height": 1000
    },
    "id": "e7DvP0ZQeppl",
    "outputId": "e510e28c-33ad-4ace-a8a1-eec9f9ec6e4a"
   },
   "outputs": [],
   "source": [
    "plt.figure(figsize= (20,20))\n",
    "sns.heatmap(corrMatrix, annot = True , cmap = \"Reds\")\n",
    "plt.show()"
   ]
  },
  {
   "cell_type": "markdown",
   "metadata": {
    "id": "8kni0h08IyUo"
   },
   "source": [
    "## Model Build\n",
    "### Creating the dataframe suitable for model build"
   ]
  },
  {
   "cell_type": "code",
   "execution_count": null,
   "metadata": {
    "id": "_72nnaIAZ7fF"
   },
   "outputs": [],
   "source": [
    "numerics = ['int16', 'int32', 'int64', 'float16', 'float32', 'float64','uint8']\n",
    "numeric_df = final_df1.select_dtypes(include=numerics)\n",
    "numeric_df= numeric_df.fillna(0)"
   ]
  },
  {
   "cell_type": "code",
   "execution_count": null,
   "metadata": {
    "colab": {
     "base_uri": "https://localhost:8080/"
    },
    "id": "EpRPZICpalc-",
    "outputId": "46ba9dd1-4cd4-4c56-db62-ce5d355ccd3b"
   },
   "outputs": [],
   "source": [
    "numeric_df.isnull().sum().sum()"
   ]
  },
  {
   "cell_type": "code",
   "execution_count": null,
   "metadata": {
    "colab": {
     "base_uri": "https://localhost:8080/"
    },
    "id": "UX6emx8davWQ",
    "outputId": "a140213c-2313-4e74-b160-1371a59cb924"
   },
   "outputs": [],
   "source": [
    "(numeric_df.columns)"
   ]
  },
  {
   "cell_type": "code",
   "execution_count": null,
   "metadata": {
    "colab": {
     "base_uri": "https://localhost:8080/"
    },
    "id": "fPL7bN25dg1P",
    "outputId": "bea6e08c-cb1d-47de-b6d4-f3e6c47e4c33"
   },
   "outputs": [],
   "source": [
    "numeric_df1 = numeric_df.drop(columns = ['RT_score', 'RT_comb_score','RT_rev_cnt'])\n",
    "numeric_df1.columns\n",
    "len = len(numeric_df1.columns)"
   ]
  },
  {
   "cell_type": "code",
   "execution_count": null,
   "metadata": {
    "id": "3KStV5_Wexlc"
   },
   "outputs": [],
   "source": [
    "from sklearn.preprocessing import StandardScaler\n",
    "#Standardizing the x's\n",
    "scalar = StandardScaler()\n",
    "numeric_df2 = scalar.fit_transform(numeric_df1)\n",
    "numeric_df2 = pd.DataFrame(numeric_df2, columns = numeric_df1.columns)"
   ]
  },
  {
   "cell_type": "markdown",
   "metadata": {
    "id": "2dWMbpYebN7c"
   },
   "source": [
    "### Multicollineariy check"
   ]
  },
  {
   "cell_type": "code",
   "execution_count": null,
   "metadata": {
    "colab": {
     "base_uri": "https://localhost:8080/"
    },
    "id": "7Rohnwk4miAn",
    "outputId": "c923ae3e-3645-459d-cba0-9570c51c6144"
   },
   "outputs": [],
   "source": [
    "#numeric_df3 = numeric_df2.drop(columns = ['Dir1_qual','Dir2_qual','Dir3_qual'])\n",
    "numeric_df2.shape"
   ]
  },
  {
   "cell_type": "code",
   "execution_count": null,
   "metadata": {
    "colab": {
     "base_uri": "https://localhost:8080/"
    },
    "id": "0RWwt6xJzcpT",
    "outputId": "9871cf9a-fd88-400b-c9e7-2504c5e346c3"
   },
   "outputs": [],
   "source": [
    "#Checking for multicollinearity for the numeric variables\n",
    "from statsmodels.stats.outliers_influence import variance_inflation_factor\n",
    "# VIF dataframe\n",
    "vif_data = pd.DataFrame()\n",
    "vif_data[\"feature\"] = numeric_df2.columns\n",
    "# calculating VIF for each feature\n",
    "vif_data[\"VIF\"] = [variance_inflation_factor(numeric_df2.values, i)\n",
    "for i in range(44)]\n",
    "print(vif_data)"
   ]
  },
  {
   "cell_type": "code",
   "execution_count": null,
   "metadata": {
    "id": "8lZ1CT9mcc41"
   },
   "outputs": [],
   "source": [
    "vif_data.to_csv('vif.csv')"
   ]
  },
  {
   "cell_type": "code",
   "execution_count": null,
   "metadata": {
    "colab": {
     "base_uri": "https://localhost:8080/"
    },
    "id": "ZTyWjpS1bS2Y",
    "outputId": "e3f944bb-4cb6-4d7f-800c-ddaa443294ef"
   },
   "outputs": [],
   "source": [
    "vif_data['VIF'].describe()"
   ]
  },
  {
   "cell_type": "code",
   "execution_count": null,
   "metadata": {
    "colab": {
     "base_uri": "https://localhost:8080/"
    },
    "id": "csBvEYW1bjgA",
    "outputId": "71a48ed2-575a-46c7-cdec-b33d023af329"
   },
   "outputs": [],
   "source": [
    "to_keep= vif_data[vif_data['VIF'] <= 12] # ideal value 10-12\n",
    "to_keep.shape"
   ]
  },
  {
   "cell_type": "code",
   "execution_count": null,
   "metadata": {
    "id": "nOm4QZ16b5uv"
   },
   "outputs": [],
   "source": [
    "cols = list(to_keep['feature'].T)\n",
    "#cols"
   ]
  },
  {
   "cell_type": "markdown",
   "metadata": {
    "id": "-Odk7DXCg0TC"
   },
   "source": [
    "### X and y separation"
   ]
  },
  {
   "cell_type": "code",
   "execution_count": null,
   "metadata": {
    "id": "Wli_4xcuu1sS"
   },
   "outputs": [],
   "source": [
    "y = numeric_df['RT_comb_score']\n",
    "#y1 = numeric_df['RT_score']\n",
    "X = numeric_df2[cols]"
   ]
  },
  {
   "cell_type": "markdown",
   "metadata": {},
   "source": [
    "### Checking for correlation in the remaining Xs"
   ]
  },
  {
   "cell_type": "code",
   "execution_count": null,
   "metadata": {
    "colab": {
     "base_uri": "https://localhost:8080/",
     "height": 706
    },
    "id": "ZsrBrxK6MsUW",
    "outputId": "4b44de00-58dc-4b0f-c06a-d869fd7d8b56"
   },
   "outputs": [],
   "source": [
    "corr = X.corr()\n",
    "plt.figure(figsize= (10,10))\n",
    "sns.heatmap(corr, cmap = 'RdGy')\n",
    "plt.show()"
   ]
  },
  {
   "cell_type": "markdown",
   "metadata": {
    "id": "WnIPWWdbLJa1"
   },
   "source": [
    "## PCA "
   ]
  },
  {
   "cell_type": "code",
   "execution_count": null,
   "metadata": {
    "colab": {
     "base_uri": "https://localhost:8080/"
    },
    "id": "bU774g1jwbCf",
    "outputId": "0820c554-205d-4e72-8e59-8538eece2ffe"
   },
   "outputs": [],
   "source": [
    "from sklearn.decomposition import PCA\n",
    "pca = PCA(n_components=12)\n",
    "pca.fit(X)\n",
    "var= pca.explained_variance_ratio_\n",
    "var1=np.cumsum(np.round(pca.explained_variance_ratio_, decimals=4)*100)\n",
    "print(var1)"
   ]
  },
  {
   "cell_type": "code",
   "execution_count": null,
   "metadata": {
    "colab": {
     "base_uri": "https://localhost:8080/"
    },
    "id": "qL1PfjnxtCKG",
    "outputId": "fbdbfd5d-c2d3-422c-9421-4ba8a1ac7c9d"
   },
   "outputs": [],
   "source": [
    "pca = PCA(.95) #Keep Principal Components that retain 95% variance\n",
    "ProjectedDf = pca.fit_transform(X)\n",
    "ProjectedDf"
   ]
  },
  {
   "cell_type": "code",
   "execution_count": null,
   "metadata": {
    "id": "3Nw9fSg-uCM4"
   },
   "outputs": [],
   "source": [
    "counts = np.unique(pca.explained_variance_, return_counts=True)\n",
    "len= np.count_nonzero(counts)"
   ]
  },
  {
   "cell_type": "markdown",
   "metadata": {
    "id": "_jfBZgj3r36m"
   },
   "source": [
    "## Testing with Regression"
   ]
  },
  {
   "cell_type": "markdown",
   "metadata": {
    "id": "ADp1-I8wKyNr"
   },
   "source": [
    "## Train test split"
   ]
  },
  {
   "cell_type": "code",
   "execution_count": null,
   "metadata": {
    "id": "_nQHdUMqX5Ll"
   },
   "outputs": [],
   "source": [
    "#Splitting train dataset into train and validation datasets\n",
    "from sklearn.model_selection import train_test_split\n",
    "X_train, X_valid, y_train, y_valid = train_test_split(X, y, test_size=0.3, random_state=101)"
   ]
  },
  {
   "cell_type": "markdown",
   "metadata": {
    "id": "7Dr09Y8FNdMk"
   },
   "source": [
    "## Linear Regression"
   ]
  },
  {
   "cell_type": "code",
   "execution_count": null,
   "metadata": {
    "colab": {
     "base_uri": "https://localhost:8080/"
    },
    "id": "XdIty1grMlZ9",
    "outputId": "660dd845-c7af-4312-e6ba-152d7d633f54"
   },
   "outputs": [],
   "source": [
    "from sklearn.linear_model import LinearRegression\n",
    "linear_regressor = LinearRegression()  # create object for the class\n",
    "linear_regressor.fit(X_train, y_train)  # perform linear regression\n",
    "Y_pred = linear_regressor.predict(X_train)  # make predictions"
   ]
  },
  {
   "cell_type": "code",
   "execution_count": null,
   "metadata": {
    "colab": {
     "base_uri": "https://localhost:8080/",
     "height": 283
    },
    "id": "psetjbR-MvWM",
    "outputId": "a2dcb175-a35c-485f-c78e-18ae394810e0"
   },
   "outputs": [],
   "source": [
    "plt.scatter(y_train, Y_pred, color = 'r')\n",
    "plt.show()"
   ]
  },
  {
   "cell_type": "code",
   "execution_count": null,
   "metadata": {
    "colab": {
     "base_uri": "https://localhost:8080/"
    },
    "id": "S7OSakdXNtBY",
    "outputId": "78fc8f24-85f5-46db-bc0c-d2d3ca357612"
   },
   "outputs": [],
   "source": [
    "linear_regressor.score(X_train, y_train) , linear_regressor.score(X_valid, y_valid)"
   ]
  },
  {
   "cell_type": "markdown",
   "metadata": {
    "id": "dcYl3cMqAE9D"
   },
   "source": [
    "The score is the coefficient of determination and is defined as ((y_true - y_pred)** 2).sum() and  is the total sum of squares ((y_true - y_true.mean()) ** 2).sum(). The best possible score is 1.0 and it can be negative (because the model can be arbitrarily worse). A constant model that always predicts the expected value of y, disregarding the input features, would get a  score of 0.0."
   ]
  },
  {
   "cell_type": "markdown",
   "metadata": {
    "id": "wvzjTR5xthjI"
   },
   "source": [
    "## Transforming y"
   ]
  },
  {
   "cell_type": "code",
   "execution_count": null,
   "metadata": {
    "colab": {
     "base_uri": "https://localhost:8080/"
    },
    "id": "sV8I1-QDgVGp",
    "outputId": "66782be3-f7e1-4829-9404-15b86cf8f490"
   },
   "outputs": [],
   "source": [
    "y.describe()"
   ]
  },
  {
   "cell_type": "code",
   "execution_count": null,
   "metadata": {
    "colab": {
     "base_uri": "https://localhost:8080/"
    },
    "id": "McFuzlJA1Xxv",
    "outputId": "0bf33a7c-0b1f-4d0d-c307-db2861957807"
   },
   "outputs": [],
   "source": [
    "#RT_comb_score\n",
    "y_class = np.array(y >= 0.4, dtype=int).reshape(-1)\n",
    "np.unique(y_class, return_counts=True)"
   ]
  },
  {
   "cell_type": "code",
   "execution_count": null,
   "metadata": {
    "colab": {
     "base_uri": "https://localhost:8080/"
    },
    "id": "YP7E14DOznGj",
    "outputId": "efb6c922-bb15-4dce-babd-3b8e4eabe487"
   },
   "outputs": [],
   "source": [
    "241/622"
   ]
  },
  {
   "cell_type": "markdown",
   "metadata": {
    "id": "3Hst4BDvAaNx"
   },
   "source": [
    "## Variable Importance"
   ]
  },
  {
   "cell_type": "code",
   "execution_count": null,
   "metadata": {
    "colab": {
     "base_uri": "https://localhost:8080/"
    },
    "id": "r_ygjOf8sGpi",
    "outputId": "a826a6b0-0728-47ef-a059-3d6ece2d0b05"
   },
   "outputs": [],
   "source": [
    "from sklearn.ensemble import RandomForestClassifier\n",
    "clf = RandomForestClassifier(n_estimators=20)\n",
    "\n",
    "#Train the model using the training sets y_pred=clf.predict(X_test)\n",
    "clf.fit(X, y_class)"
   ]
  },
  {
   "cell_type": "code",
   "execution_count": null,
   "metadata": {
    "colab": {
     "base_uri": "https://localhost:8080/",
     "height": 496
    },
    "id": "hCV6yaB7sKHp",
    "outputId": "2a8826ac-99a9-4704-a84b-0bf8f4897877"
   },
   "outputs": [],
   "source": [
    "feature_imp = pd.Series(clf.feature_importances_, index=X.columns).sort_values(ascending=False)\n",
    "plt.figure(figsize=(10,6))\n",
    "sns.barplot(x=feature_imp, y=feature_imp.index)\n",
    "# Add labels to your graph\n",
    "plt.xlabel('Feature Importance Score')\n",
    "plt.ylabel('Features')\n",
    "plt.title(\"Visualizing Important Features\")\n",
    "plt.tight_layout()"
   ]
  },
  {
   "cell_type": "markdown",
   "metadata": {
    "id": "lsRz64NhkBBg"
   },
   "source": [
    "## Train test split"
   ]
  },
  {
   "cell_type": "code",
   "execution_count": null,
   "metadata": {
    "id": "n0MI9aZuSlD0"
   },
   "outputs": [],
   "source": [
    "X_train, X_valid, y_train, y_valid = train_test_split(X, y , test_size=0.3, random_state=101)"
   ]
  },
  {
   "cell_type": "code",
   "execution_count": null,
   "metadata": {
    "colab": {
     "base_uri": "https://localhost:8080/"
    },
    "id": "1oLNiUBkjeSd",
    "outputId": "d10efae1-92f0-470a-d317-53ee2c84f92d"
   },
   "outputs": [],
   "source": [
    "# fit decisiontree based models\n",
    "from sklearn.metrics import mean_squared_error\n",
    "from lightgbm import LGBMRegressor\n",
    "from catboost import CatBoostRegressor\n",
    "from xgboost import XGBRegressor\n",
    "from sklearn.ensemble import RandomForestRegressor\n",
    "\n",
    "models = [\n",
    "    ('lgbm',LGBMRegressor()),\n",
    "    ('catb',CatBoostRegressor(verbose=0)),\n",
    "    ('xgb',XGBRegressor(verbosity=0)),\n",
    "    ('RF',RandomForestRegressor(verbose=0))\n",
    "]\n",
    "\n",
    "results = dict()\n",
    "\n",
    "for name, model in models:\n",
    "    model.fit(X_train, y_train)\n",
    "    y_hat = model.predict(X_valid)\n",
    "    rmse = mean_squared_error(y_valid, y_hat, squared=False)\n",
    "    results[name] = rmse "
   ]
  },
  {
   "cell_type": "code",
   "execution_count": null,
   "metadata": {
    "colab": {
     "base_uri": "https://localhost:8080/",
     "height": 80
    },
    "id": "-QJ5AkZpjkiy",
    "outputId": "199fcf99-4b26-4409-ea67-2157d7f0a63c"
   },
   "outputs": [],
   "source": [
    "df_results = pd.DataFrame([results])\n",
    "df_results"
   ]
  },
  {
   "cell_type": "code",
   "execution_count": null,
   "metadata": {
    "colab": {
     "base_uri": "https://localhost:8080/",
     "height": 283
    },
    "id": "8mX4aXuikLqR",
    "outputId": "816c71fd-80ab-4aac-9eda-a6b9b99008cd"
   },
   "outputs": [],
   "source": [
    "plt.scatter(y_valid, y_hat, color = 'r')\n",
    "plt.show()"
   ]
  },
  {
   "cell_type": "markdown",
   "metadata": {
    "id": "91E9Ov6NtOWO"
   },
   "source": [
    "## Random forest regressor with hyper parameter tuning \n",
    "Takes a long time to run , don't run unless necessary"
   ]
  },
  {
   "cell_type": "code",
   "execution_count": null,
   "metadata": {
    "colab": {
     "base_uri": "https://localhost:8080/"
    },
    "id": "--ZFATu9X2xK",
    "outputId": "b993d173-05bf-4008-a245-5d0d1e186f0d"
   },
   "outputs": [],
   "source": [
    "#Hyperparameter tuning \n",
    "from sklearn.ensemble import RandomForestRegressor\n",
    "rf = RandomForestRegressor()\n",
    "\n",
    "# define gridsearch parameters\n",
    "param_grid = {\n",
    "              'n_estimators': [100,300, 500, 700],\n",
    "              'max_features': [\"auto\", \"sqrt\", \"log2\"],\n",
    "              'max_depth': [3, 5, 7],\n",
    "              'min_samples_split': [8, 10, 12],\n",
    "              'min_samples_leaf': [8, 10, 12]}\n",
    "\n",
    "# instantiate gridsearchcv class\n",
    "rfgs = GridSearchCV(estimator=rf,\n",
    "                    param_grid=param_grid,\n",
    "                    cv=5,\n",
    "                    verbose=3,\n",
    "                    n_jobs=-1)\n",
    "\n",
    "# fit model\n",
    "rfmodel= rfgs.fit(X_train, y_train)"
   ]
  },
  {
   "cell_type": "code",
   "execution_count": null,
   "metadata": {
    "colab": {
     "base_uri": "https://localhost:8080/"
    },
    "id": "gkVS3Phndfwq",
    "outputId": "d7af0ab3-c640-404c-99ab-06a3c9b847ee"
   },
   "outputs": [],
   "source": [
    "#best fit model\n",
    "best_rfgs = rfgs.best_estimator_\n",
    "best_rfgs"
   ]
  },
  {
   "cell_type": "code",
   "execution_count": null,
   "metadata": {
    "colab": {
     "base_uri": "https://localhost:8080/"
    },
    "id": "-C0ua7i_dosB",
    "outputId": "cc639caf-6ffe-42e5-f28c-1cd2703f7801"
   },
   "outputs": [],
   "source": [
    "best_rfgs.score(X_train,y_train)"
   ]
  },
  {
   "cell_type": "code",
   "execution_count": null,
   "metadata": {
    "id": "_HwtJJo6d2iO"
   },
   "outputs": [],
   "source": [
    "y_hat_train = best_rfgs.predict(X_train)\n",
    "y_hat_valid = best_rfgs.predict(X_valid)"
   ]
  },
  {
   "cell_type": "code",
   "execution_count": null,
   "metadata": {
    "colab": {
     "base_uri": "https://localhost:8080/"
    },
    "id": "zmN-m45idSh0",
    "outputId": "eb6ecf64-188e-45a3-d3de-9a735adbfb80"
   },
   "outputs": [],
   "source": [
    "from sklearn.metrics import mean_squared_error\n",
    "print('RMSE for Random forest regressor Train :',mean_squared_error(y_train, y_hat_train, squared=False))\n",
    "print('RMSE for Random forest regressor Validation:',mean_squared_error(y_valid, y_hat_valid, squared=False))"
   ]
  },
  {
   "cell_type": "markdown",
   "metadata": {
    "id": "EtleF7sZwMzV"
   },
   "source": [
    "#Feature Importance - Impurities based"
   ]
  },
  {
   "cell_type": "code",
   "execution_count": null,
   "metadata": {
    "colab": {
     "base_uri": "https://localhost:8080/",
     "height": 315
    },
    "id": "GhgQq2qLwL6V",
    "outputId": "cbdcfa6e-8e3d-4845-b4a8-bbd22a65566f"
   },
   "outputs": [],
   "source": [
    "#feature_names = [f\"feature {i}\" for i in range(X.shape[1])]\n",
    "feature_names = X_train.columns\n",
    "importances = best_rfgs.feature_importances_\n",
    "std = np.std([tree.feature_importances_ for tree in best_rfgs], axis=0)\n",
    "forest_importances = pd.Series(importances, index=feature_names)\n",
    "\n",
    "fig, ax = plt.subplots()\n",
    "forest_importances.plot.bar(yerr=std, ax=ax)\n",
    "ax.set_title(\"Feature importances using MDI\")\n",
    "ax.set_ylabel(\"Mean decrease in impurity\")\n",
    "fig.tight_layout()"
   ]
  },
  {
   "cell_type": "code",
   "execution_count": null,
   "metadata": {
    "colab": {
     "base_uri": "https://localhost:8080/",
     "height": 335
    },
    "id": "uP3BphYbwpDa",
    "outputId": "13dcedb6-12b9-47fc-aced-a8db28ffd5c7"
   },
   "outputs": [],
   "source": [
    "from sklearn.inspection import permutation_importance\n",
    "result = permutation_importance(\n",
    "    best_rfgs, X_valid, y_valid, n_repeats=10, random_state=42, n_jobs=2\n",
    ")\n",
    "\n",
    "forest_importances = pd.Series(result.importances_mean, index=feature_names)\n",
    "fig, ax = plt.subplots()\n",
    "forest_importances.plot.bar(yerr=result.importances_std, ax=ax)\n",
    "ax.set_title(\"Feature importances using permutation on full model\")\n",
    "ax.set_ylabel(\"Mean accuracy decrease\")\n",
    "fig.tight_layout()\n",
    "plt.show()"
   ]
  },
  {
   "cell_type": "markdown",
   "metadata": {
    "id": "bmLdZ2h-xeXi"
   },
   "source": [
    "## Shap values"
   ]
  },
  {
   "cell_type": "code",
   "execution_count": null,
   "metadata": {
    "colab": {
     "base_uri": "https://localhost:8080/",
     "height": 977
    },
    "id": "aYkSM977xYLA",
    "outputId": "320ae089-fd5b-4dfd-9d6e-a28bf57b25d4"
   },
   "outputs": [],
   "source": [
    "import shap\n",
    "explainer = shap.TreeExplainer(best_rfgs)\n",
    "shap_values = explainer.shap_values(X_train)\n",
    "shap.summary_plot(shap_values, features=X_train, feature_names=X_train.columns, max_display= 50)"
   ]
  },
  {
   "cell_type": "markdown",
   "metadata": {
    "id": "xq3LSEEItTV_"
   },
   "source": [
    "## K Nearest Neighbour Regressors"
   ]
  },
  {
   "cell_type": "code",
   "execution_count": null,
   "metadata": {
    "id": "q7QP0zlL1aqa"
   },
   "outputs": [],
   "source": [
    "X_train, X_valid, y_train, y_valid = train_test_split(X, y , test_size=0.5, random_state=101)"
   ]
  },
  {
   "cell_type": "code",
   "execution_count": null,
   "metadata": {
    "id": "1UTxOMUUsDRh"
   },
   "outputs": [],
   "source": [
    "from sklearn.neighbors import KNeighborsRegressor\n",
    "knn = KNeighborsRegressor(n_neighbors = 8)\n",
    "knnmodel = knn.fit(X_train, y_train)\n",
    "y_hat_valid = knnmodel.predict(X_valid)\n",
    "error = sqrt(mean_squared_error(y_valid,y_hat_valid ))"
   ]
  },
  {
   "cell_type": "code",
   "execution_count": null,
   "metadata": {
    "colab": {
     "base_uri": "https://localhost:8080/"
    },
    "id": "NILjJPN38cja",
    "outputId": "88005495-97ab-4cf2-8720-365e9d907a4f"
   },
   "outputs": [],
   "source": [
    "error"
   ]
  },
  {
   "cell_type": "code",
   "execution_count": null,
   "metadata": {
    "colab": {
     "base_uri": "https://localhost:8080/"
    },
    "id": "AOIdg8wg0nJi",
    "outputId": "1e2124a7-b846-4280-de33-385e47910cd6"
   },
   "outputs": [],
   "source": [
    "from math import sqrt\n",
    "rmse_val = [] #to store rmse values for different k\n",
    "for K in range(20):\n",
    "    K = K+1\n",
    "    model = neighbors.KNeighborsRegressor(n_neighbors = K)\n",
    "\n",
    "    model.fit(X_train, y_train)  #fit the model\n",
    "    pred=model.predict(X_valid) #make prediction on test set\n",
    "    error = sqrt(mean_squared_error(y_valid,pred)) #calculate rmse\n",
    "    rmse_val.append(error) #store rmse values\n",
    "    print('RMSE value for k= ' , K , 'is:', error)"
   ]
  },
  {
   "cell_type": "code",
   "execution_count": null,
   "metadata": {
    "colab": {
     "base_uri": "https://localhost:8080/",
     "height": 283
    },
    "id": "4GFAOJWj2Kuo",
    "outputId": "de608095-2857-425a-ce08-fd6f7c2f51fa"
   },
   "outputs": [],
   "source": [
    "#plotting the rmse values against k values\n",
    "curve = pd.DataFrame(rmse_val) #elbow curve \n",
    "curve.plot()"
   ]
  },
  {
   "cell_type": "code",
   "execution_count": null,
   "metadata": {
    "colab": {
     "base_uri": "https://localhost:8080/"
    },
    "id": "cptVy-Sn2chB",
    "outputId": "6a677b57-a9eb-4e82-8866-13f8de11e1b5"
   },
   "outputs": [],
   "source": [
    "from sklearn.model_selection import GridSearchCV\n",
    "params = {'n_neighbors':[2,3,4,5,6,7,8,9]}\n",
    "\n",
    "knn = neighbors.KNeighborsRegressor()\n",
    "\n",
    "model = GridSearchCV(knn, params, cv=5)\n",
    "model.fit(X_train,y_train)\n",
    "model.best_params_"
   ]
  },
  {
   "cell_type": "code",
   "execution_count": null,
   "metadata": {
    "id": "CVL3c-fO2pUZ"
   },
   "outputs": [],
   "source": [
    "y_hat = model.predict(X_train)\n",
    "y_hat_valid = model.predict(X_valid)"
   ]
  },
  {
   "cell_type": "code",
   "execution_count": null,
   "metadata": {
    "colab": {
     "base_uri": "https://localhost:8080/",
     "height": 283
    },
    "id": "F93YaSx02yrY",
    "outputId": "fc5cf48a-4554-480f-ad69-78f44541fd7c"
   },
   "outputs": [],
   "source": [
    "plt.scatter(y_train, y_hat, color = 'r')\n",
    "plt.show()"
   ]
  },
  {
   "cell_type": "code",
   "execution_count": null,
   "metadata": {
    "colab": {
     "base_uri": "https://localhost:8080/",
     "height": 283
    },
    "id": "IRvNH06A4NCE",
    "outputId": "982fc297-4611-482c-e6f1-461add7f7257"
   },
   "outputs": [],
   "source": [
    "plt.scatter(y_valid, y_hat_valid, color = 'r')\n",
    "plt.show()"
   ]
  },
  {
   "cell_type": "markdown",
   "metadata": {
    "id": "Ilqw7NmjEhaB"
   },
   "source": [
    "## Random Forest-Classification"
   ]
  },
  {
   "cell_type": "code",
   "execution_count": null,
   "metadata": {
    "colab": {
     "base_uri": "https://localhost:8080/"
    },
    "id": "JTVRd1eXRK9K",
    "outputId": "b3ad4883-5012-41aa-f883-ed03dc7ef18e"
   },
   "outputs": [],
   "source": [
    "from sklearn.ensemble import RandomForestClassifier\n",
    "from sklearn.datasets import make_classification\n",
    "#X, y = make_classification(n_samples=1000, n_features=4, n_informative=2, n_redundant=0, random_state=0, shuffle=False)\n",
    "clf = RandomForestClassifier(max_depth=3, random_state=0)\n",
    "clf.fit(X_train, y_train)"
   ]
  },
  {
   "cell_type": "code",
   "execution_count": null,
   "metadata": {
    "id": "R-u4_QoBSO1_"
   },
   "outputs": [],
   "source": [
    "pred_x= clf.predict(X_train)"
   ]
  },
  {
   "cell_type": "code",
   "execution_count": null,
   "metadata": {
    "colab": {
     "base_uri": "https://localhost:8080/"
    },
    "id": "AkuR4c5MUhhs",
    "outputId": "54fc3bcd-588d-402b-f5bc-d565f0eccd99"
   },
   "outputs": [],
   "source": [
    "print(\"Precision :\", round((precision_score(y_train, pred_x))*100,2))\n",
    "print(\"Recall  :\",round((recall_score(y_train, pred_x))*100,2))\n",
    "print(\"F1 Score :\",round((f1_score(y_train, pred_x))*100,2))"
   ]
  },
  {
   "cell_type": "code",
   "execution_count": null,
   "metadata": {
    "colab": {
     "base_uri": "https://localhost:8080/",
     "height": 335
    },
    "id": "xDNijOeBSzYQ",
    "outputId": "37f0a1bd-2fb2-48eb-ecd9-e9fc0266747d"
   },
   "outputs": [],
   "source": [
    "cm = confusion_matrix(y_train, pred_x)\n",
    "#visualize confusion matrix \n",
    "sns.heatmap(confusion_matrix(y_train, pred_x),annot=True,fmt='3.0f',cmap=\"Blues\")\n",
    "plt.title('Confusion Matrix for RF', y=1.05, size=15)\n",
    "plt.ylabel('Predicted Survival')\n",
    "plt.xlabel('Actual Survival')"
   ]
  },
  {
   "cell_type": "code",
   "execution_count": null,
   "metadata": {
    "colab": {
     "base_uri": "https://localhost:8080/"
    },
    "id": "LtJ0ZnZGZkuY",
    "outputId": "93510f90-8f84-41ea-9393-31e8a52f4971"
   },
   "outputs": [],
   "source": [
    "pred_xt= clf.predict(X_valid)\n",
    "print(\"Precision :\", round((precision_score(y_valid, pred_xt))*100,2))\n",
    "print(\"Recall  :\",round((recall_score(y_valid, pred_xt))*100,2))\n",
    "print(\"F1 Score :\",round((f1_score(y_valid, pred_xt))*100,2))"
   ]
  },
  {
   "cell_type": "code",
   "execution_count": null,
   "metadata": {
    "colab": {
     "base_uri": "https://localhost:8080/",
     "height": 335
    },
    "id": "Jj8-ayaQaOTT",
    "outputId": "7903ef51-697f-479a-e46a-6d857b2607e3"
   },
   "outputs": [],
   "source": [
    "cm = confusion_matrix(y_valid, pred_xt)\n",
    "#visualize confusion matrix \n",
    "sns.heatmap(confusion_matrix(y_valid, pred_xt),annot=True,fmt='3.0f',cmap=\"Blues\")\n",
    "plt.title('Confusion Matrix for  RF', y=1.05, size=15)\n",
    "plt.ylabel('Predicted Survival')\n",
    "plt.xlabel('Actual Survival')"
   ]
  },
  {
   "cell_type": "markdown",
   "metadata": {
    "id": "7LAY_5TngQnl"
   },
   "source": [
    "## Gradient Booseted Trees"
   ]
  },
  {
   "cell_type": "code",
   "execution_count": null,
   "metadata": {
    "colab": {
     "background_save": true,
     "base_uri": "https://localhost:8080/"
    },
    "id": "_9L9uRwNjvBG",
    "outputId": "e645120e-93f8-4c8d-c554-9eb012ed3882"
   },
   "outputs": [],
   "source": [
    "# define gridsearch parameters\n",
    "from sklearn.ensemble import GradientBoostingClassifier\n",
    "param_grid = {\n",
    "              'n_estimators': [100,300, 500, 700],\n",
    "              'max_features': ['auto', 'log2'],\n",
    "              'max_depth': [3, 5, 7,10],\n",
    "              'min_samples_split': [5,8, 10, 12],\n",
    "              'min_samples_leaf': [5,8, 10, 12],\n",
    "              'learning_rate': [0.01,0.1,0.5]}\n",
    "\n",
    "# instantiate gridsearchcv class\n",
    "gb = GridSearchCV(estimator=GradientBoostingClassifier(),\n",
    "                    param_grid=param_grid,\n",
    "                    cv=5,\n",
    "                    verbose=20,\n",
    "                    n_jobs=-1)\n",
    "\n",
    "#fit_params = {\"eval_set\":[(X_train,y_train),(X_valid, y_valid)], \"eval_names\":['train','valid']}\n",
    "# fit model\n",
    "gbmodel= gb.fit(X_train, y_train)"
   ]
  },
  {
   "cell_type": "code",
   "execution_count": null,
   "metadata": {
    "colab": {
     "base_uri": "https://localhost:8080/"
    },
    "id": "LZQggyt0j4Kn",
    "outputId": "f199df06-778c-4c81-fbbb-8b6242ce7f6a"
   },
   "outputs": [],
   "source": [
    "best_xgb = gbmodel.best_estimator_\n",
    "best_xgb"
   ]
  },
  {
   "cell_type": "code",
   "execution_count": null,
   "metadata": {
    "colab": {
     "base_uri": "https://localhost:8080/",
     "height": 496
    },
    "id": "5UYwOhZrIiiI",
    "outputId": "45694034-7c7f-4079-98dc-c7008ce064c6"
   },
   "outputs": [],
   "source": [
    "#plot_importance()\n",
    "feature_imp = pd.Series(best_xgb.feature_importances_, index=X_train.columns).sort_values(ascending=False)\n",
    "plt.figure(figsize=(10,6))\n",
    "sns.barplot(x=feature_imp, y=feature_imp.index)\n",
    "# Add labels to your graph\n",
    "plt.xlabel('Feature Importance Score')\n",
    "plt.ylabel('Features')\n",
    "plt.title(\"Visualizing Important Features\")\n",
    "plt.tight_layout()"
   ]
  },
  {
   "cell_type": "code",
   "execution_count": null,
   "metadata": {
    "colab": {
     "base_uri": "https://localhost:8080/"
    },
    "id": "OyyUuPJWj-y2",
    "outputId": "c029f940-5b54-4b66-e21f-29970a45ff94"
   },
   "outputs": [],
   "source": [
    "y_hat_valid = best_xgb.predict(X_valid)\n",
    "acc_xgb = round(accuracy_score(y_hat_valid,y_valid)*100,2)\n",
    "print('The accuracy of the Gradient Boosted Trees is',acc_xgb)"
   ]
  },
  {
   "cell_type": "code",
   "execution_count": null,
   "metadata": {
    "colab": {
     "base_uri": "https://localhost:8080/",
     "height": 370
    },
    "id": "DH3D98ze8BzJ",
    "outputId": "d462a2bd-644c-455d-dc21-b2e83ff000f2"
   },
   "outputs": [],
   "source": [
    "cm = confusion_matrix(y_valid, y_hat_valid)\n",
    "#visualize confusion matrix \n",
    "sns.heatmap(confusion_matrix(y_valid, y_hat_valid),annot=True,fmt='3.0f',cmap=\"Blues\")\n",
    "plt.title('Confusion Matrix for Gradient Boosted Trees Classification', y=1.05, size=15)\n",
    "plt.ylabel('Predicted Survival')\n",
    "plt.xlabel('Actual Survival')\n",
    "print(\"Precision :\", round((precision_score(y_valid, y_hat_valid))*100,2))\n",
    "print(\"Recall  :\",round((recall_score(y_valid, y_hat_valid))*100,2))\n",
    "print(\"F1 Score :\",round((f1_score(y_valid, y_hat_valid))*100,2))"
   ]
  },
  {
   "cell_type": "code",
   "execution_count": null,
   "metadata": {
    "colab": {
     "base_uri": "https://localhost:8080/",
     "height": 473
    },
    "id": "LbQGV9GK8dbp",
    "outputId": "1a216e3c-9f0d-4f09-8c4c-135b35663149"
   },
   "outputs": [],
   "source": [
    "from sklearn.metrics import precision_recall_curve\n",
    "\n",
    "y_scores = best_xgb.predict_proba(X_valid)\n",
    "y_scores = y_scores[:,1]\n",
    "\n",
    "precision, recall, threshold = precision_recall_curve(y_valid, y_scores)\n",
    "def plot_precision_and_recall(precision, recall, threshold):\n",
    "    plt.plot(threshold, precision[:-1], \"r-\", label=\"Precision\", linewidth=5)\n",
    "    plt.plot(threshold, recall[:-1], \"b\", label=\"Recall\", linewidth=5)\n",
    "    plt.xlabel(\"Threshold\", fontsize=19)\n",
    "    plt.legend(loc=\"upper right\", fontsize=19)\n",
    "    plt.ylim([0, 1])\n",
    "\n",
    "plt.figure(figsize=(14, 7))\n",
    "plot_precision_and_recall(precision, recall, threshold)\n",
    "plt.show()"
   ]
  },
  {
   "cell_type": "code",
   "execution_count": null,
   "metadata": {
    "colab": {
     "base_uri": "https://localhost:8080/"
    },
    "id": "GGqkxpUWFLzp",
    "outputId": "a378f24a-beca-4101-924e-fff7afa374f9"
   },
   "outputs": [],
   "source": [
    "!pip install shap"
   ]
  },
  {
   "cell_type": "code",
   "execution_count": null,
   "metadata": {
    "colab": {
     "base_uri": "https://localhost:8080/",
     "height": 977
    },
    "id": "eebPyltsE9-O",
    "outputId": "cebb9751-3241-45b5-dea4-7ccdeacc6b6e"
   },
   "outputs": [],
   "source": [
    "import shap\n",
    "explainer = shap.TreeExplainer(best_xgb)\n",
    "shap_values = explainer.shap_values(X_train)\n",
    "shap.summary_plot(shap_values, features=X_train, feature_names=X_train.columns, max_display= 50)"
   ]
  },
  {
   "cell_type": "code",
   "execution_count": null,
   "metadata": {
    "colab": {
     "base_uri": "https://localhost:8080/",
     "height": 581
    },
    "id": "FWmMF0Z8GXMI",
    "outputId": "4dd08a2a-2efe-4cee-8937-7e35efb4b83b"
   },
   "outputs": [],
   "source": [
    "shap.summary_plot(shap_values, X_train, plot_type = 'bar')"
   ]
  },
  {
   "cell_type": "markdown",
   "metadata": {
    "id": "Jragaft8vsAW"
   },
   "source": [
    "# Binning y variable"
   ]
  },
  {
   "cell_type": "code",
   "execution_count": null,
   "metadata": {
    "id": "DziwEk7wIacF"
   },
   "outputs": [],
   "source": [
    "#shap_test = explainer.shap_values(X_valid)"
   ]
  },
  {
   "cell_type": "code",
   "execution_count": null,
   "metadata": {
    "id": "iXacQU49IffA"
   },
   "outputs": [],
   "source": [
    "#shap_test_val = np.array(shap_test).reshape(-1)"
   ]
  },
  {
   "cell_type": "code",
   "execution_count": null,
   "metadata": {
    "colab": {
     "base_uri": "https://localhost:8080/"
    },
    "id": "M6l0252ze2ih",
    "outputId": "4fc2d035-37a8-4ee6-b58f-e0fc2c29bb00"
   },
   "outputs": [],
   "source": [
    "!pip install catboost"
   ]
  },
  {
   "cell_type": "markdown",
   "metadata": {
    "id": "7Q_PcXo2hwi5"
   },
   "source": [
    "## Testing with 10 bins"
   ]
  },
  {
   "cell_type": "code",
   "execution_count": null,
   "metadata": {
    "colab": {
     "base_uri": "https://localhost:8080/"
    },
    "id": "t34Z7ldAhqbT",
    "outputId": "9612f088-686f-4511-834b-4cdf723df58e"
   },
   "outputs": [],
   "source": [
    "y_decile = pd.qcut(y, q=10, precision=0)\n",
    "y_decile.value_counts()"
   ]
  },
  {
   "cell_type": "code",
   "execution_count": null,
   "metadata": {
    "colab": {
     "base_uri": "https://localhost:8080/"
    },
    "id": "2MZUv2jGjYxz",
    "outputId": "72f083e9-c76d-43c6-f159-96fad5e87a52"
   },
   "outputs": [],
   "source": [
    "numeric_df['y_decile'] = pd.qcut(numeric_df['RT_comb_score'], labels =False, q=10, precision=0)\n",
    "numeric_df['y_decile'].describe()\n",
    "y_declie= numeric_df['y_decile'].astype('int')"
   ]
  },
  {
   "cell_type": "code",
   "execution_count": null,
   "metadata": {
    "id": "quNlANJkO3F0"
   },
   "outputs": [],
   "source": [
    "y_bin = "
   ]
  },
  {
   "cell_type": "code",
   "execution_count": null,
   "metadata": {
    "id": "tLyY-WZxOXbG"
   },
   "outputs": [],
   "source": [
    "from sklearn.preprocessing import OrdinalEncoder, OneHotEncoder\n",
    "# split into train and test\n",
    "X_train, X_valid, y_train, y_valid = train_test_split(X, y_declie, test_size=0.2, shuffle=True, random_state=1)\n",
    "\n",
    "encoder = OneHotEncoder(handle_unknown='ignore')\n",
    "X_train_en = encoder.fit_transform(X=X_train)\n",
    "X_valid_en = encoder.transform(X=X_valid)"
   ]
  },
  {
   "cell_type": "markdown",
   "metadata": {
    "id": "BqDq1SBIiEN2"
   },
   "source": [
    "## Testing with Regressors"
   ]
  },
  {
   "cell_type": "code",
   "execution_count": null,
   "metadata": {
    "colab": {
     "base_uri": "https://localhost:8080/"
    },
    "id": "rrKN5Q4lPJpD",
    "outputId": "eafe7b3b-0d15-49b6-938f-710602210c5c"
   },
   "outputs": [],
   "source": [
    "# fit decisiontree based models\n",
    "from sklearn.metrics import mean_squared_error\n",
    "from lightgbm import LGBMRegressor\n",
    "from catboost import CatBoostRegressor\n",
    "from xgboost import XGBRegressor\n",
    "from sklearn.ensemble import RandomForestRegressor\n",
    "\n",
    "models = [\n",
    "    ('lgbm',LGBMRegressor()),\n",
    "    ('catb',CatBoostRegressor(verbose=0)),\n",
    "    ('xgb',XGBRegressor(verbosity=0)),\n",
    "    ('RF',RandomForestRegressor(verbose=0))\n",
    "]\n",
    "\n",
    "results = dict()\n",
    "\n",
    "for name, model in models:\n",
    "    model.fit(X_train_en, y_train)\n",
    "    y_hat = model.predict(X_valid_en)\n",
    "    rmse = mean_squared_error(y_valid, y_hat, squared=False)\n",
    "    results[name] = rmse"
   ]
  },
  {
   "cell_type": "code",
   "execution_count": null,
   "metadata": {
    "colab": {
     "base_uri": "https://localhost:8080/",
     "height": 80
    },
    "id": "F_k93PbCg9mo",
    "outputId": "32e60b6f-ee04-426d-dfe6-931da80a7435"
   },
   "outputs": [],
   "source": [
    "df_results = pd.DataFrame([results])\n",
    "df_results"
   ]
  },
  {
   "cell_type": "markdown",
   "metadata": {
    "id": "Bx7y378cn6Di"
   },
   "source": [
    "GBoost Classifier with hyperparameter tuning - Times out difficult to run"
   ]
  },
  {
   "cell_type": "code",
   "execution_count": null,
   "metadata": {
    "id": "zcKGAh4in40-"
   },
   "outputs": [],
   "source": [
    "# define gridsearch parameters\n",
    "from sklearn.ensemble import GradientBoostingClassifier\n",
    "param_grid = {\n",
    "              'n_estimators': [100,300, 500, 700],\n",
    "              'max_features': ['auto', 'log2'],\n",
    "              'max_depth': [3, 5, 7,10],\n",
    "              'min_samples_split': [5,8, 10, 12],\n",
    "              'min_samples_leaf': [5,8, 10, 12],\n",
    "              'learning_rate': [0.01,0.1,0.5]}\n",
    "\n",
    "# instantiate gridsearchcv class\n",
    "gb = GridSearchCV(estimator=GradientBoostingClassifier(),\n",
    "                    param_grid=param_grid,\n",
    "                    cv=5,\n",
    "                    verbose=20,\n",
    "                    n_jobs=-1)\n",
    "\n",
    "#fit_params = {\"eval_set\":[(X_train,y_train),(X_valid, y_valid)], \"eval_names\":['train','valid']}\n",
    "# fit model\n",
    "gbmodel= gb.fit(X_train, y_train)"
   ]
  },
  {
   "cell_type": "code",
   "execution_count": null,
   "metadata": {
    "id": "hl9v83Z-oGre"
   },
   "outputs": [],
   "source": [
    "best_xgb = GradientBoostingClassifier(learning_rate=0.01, max_depth=5, max_features='log2',\n",
    "                           min_samples_leaf=10, min_samples_split=12,\n",
    "                           n_estimators=700)"
   ]
  },
  {
   "cell_type": "code",
   "execution_count": null,
   "metadata": {
    "id": "bu5dAclfYlQf"
   },
   "outputs": [],
   "source": [
    "gbmodel= best_xgb.fit(X_train, y_train)"
   ]
  },
  {
   "cell_type": "code",
   "execution_count": null,
   "metadata": {
    "colab": {
     "base_uri": "https://localhost:8080/"
    },
    "id": "QEIg3xs0Y14e",
    "outputId": "aa60dc02-9e12-4788-d53c-622db5acec56"
   },
   "outputs": [],
   "source": [
    "y_hat_valid = best_xgb.predict(X_valid)\n",
    "acc_xgb = round(accuracy_score(y_hat_valid,y_valid)*100,2)\n",
    "print('The accuracy of the Gradient Boosted Trees is',acc_xgb)"
   ]
  },
  {
   "cell_type": "code",
   "execution_count": null,
   "metadata": {
    "colab": {
     "base_uri": "https://localhost:8080/",
     "height": 496
    },
    "id": "CyAD_aaGtQv9",
    "outputId": "8d6ffc87-5e53-4868-d9ab-c87bb2c68436"
   },
   "outputs": [],
   "source": [
    "#plot_importance()\n",
    "feature_imp = pd.Series(best_xgb.feature_importances_, index=X_train.columns).sort_values(ascending=False)\n",
    "plt.figure(figsize=(10,6))\n",
    "sns.barplot(x=feature_imp, y=feature_imp.index)\n",
    "# Add labels to your graph\n",
    "plt.xlabel('Feature Importance Score')\n",
    "plt.ylabel('Features')\n",
    "plt.title(\"Visualizing Important Features\")\n",
    "plt.tight_layout()"
   ]
  },
  {
   "cell_type": "code",
   "execution_count": null,
   "metadata": {
    "colab": {
     "base_uri": "https://localhost:8080/",
     "height": 335
    },
    "id": "JPn1V7IM4jNt",
    "outputId": "0e96d700-eff4-4814-81c0-f09dba9f1452"
   },
   "outputs": [],
   "source": [
    "cm = confusion_matrix(y_valid, y_hat_valid)\n",
    "#visualize confusion matrix \n",
    "sns.heatmap(confusion_matrix(y_valid, y_hat_valid),annot=True,fmt='3.0f',cmap=\"Blues\")\n",
    "plt.title('Confusion Matrix for Gradient Boosted Trees Classification', y=1.05, size=15)\n",
    "plt.ylabel('Predicted Survival')\n",
    "plt.xlabel('Actual Survival')\n",
    "#print(\"Precision :\", round((precision_score(y_valid, y_hat_valid))*100,2))\n",
    "#print(\"Recall  :\",round((recall_score(y_valid, y_hat_valid))*100,2))\n",
    "#print(\"F1 Score :\",round((f1_score(y_valid, y_hat_valid))*100,2))"
   ]
  },
  {
   "cell_type": "code",
   "execution_count": null,
   "metadata": {
    "colab": {
     "base_uri": "https://localhost:8080/"
    },
    "id": "5deqo5nwfcbL",
    "outputId": "691e219e-b306-4686-f836-af18e62ad16f"
   },
   "outputs": [],
   "source": [
    "from sklearn.metrics import classification_report\n",
    "print(classification_report(y_valid, y_hat_valid))"
   ]
  },
  {
   "cell_type": "markdown",
   "metadata": {
    "id": "5wK4p8TWejXP"
   },
   "source": [
    "# Testing with 4 bins "
   ]
  },
  {
   "cell_type": "code",
   "execution_count": null,
   "metadata": {
    "colab": {
     "base_uri": "https://localhost:8080/"
    },
    "id": "gcGJq6y3Zm-1",
    "outputId": "521801d1-472e-42dd-98ba-78bdd760dcda"
   },
   "outputs": [],
   "source": [
    "numeric_df['y_quar'] = pd.qcut(numeric_df['RT_comb_score'], labels =False, q=10, precision=0)\n",
    "numeric_df['y_quar'].describe()\n",
    "y_quar= numeric_df['y_quar'].astype('int')"
   ]
  },
  {
   "cell_type": "code",
   "execution_count": null,
   "metadata": {
    "id": "TgsGW4hbeirc"
   },
   "outputs": [],
   "source": [
    "X_train, X_valid, y_train, y_valid = train_test_split(X, y_quar, test_size=0.2, shuffle=True, random_state=1)"
   ]
  },
  {
   "cell_type": "markdown",
   "metadata": {
    "id": "Y2JxgUWnhjO-"
   },
   "source": [
    "## Testing with Regressors "
   ]
  },
  {
   "cell_type": "code",
   "execution_count": null,
   "metadata": {
    "id": "lDtFsHH2lhx1"
   },
   "outputs": [],
   "source": [
    "from sklearn.preprocessing import OrdinalEncoder, OneHotEncoder\n",
    "# split into train and test\n",
    "X_train, X_valid, y_train, y_valid = train_test_split(X, y, test_size=0.2, shuffle=True, random_state=1)\n",
    "\n",
    "encoder = OneHotEncoder(handle_unknown='ignore')\n",
    "X_train_en = encoder.fit_transform(X=X_train)\n",
    "X_valid_en = encoder.transform(X=X_valid)"
   ]
  },
  {
   "cell_type": "code",
   "execution_count": null,
   "metadata": {
    "colab": {
     "base_uri": "https://localhost:8080/"
    },
    "id": "S3qxJdMaei6w",
    "outputId": "20f0a7f3-9d1f-4110-8dc2-c34161af2921"
   },
   "outputs": [],
   "source": [
    "# fit decisiontree based models\n",
    "from sklearn.metrics import mean_squared_error\n",
    "from lightgbm import LGBMRegressor\n",
    "from catboost import CatBoostRegressor\n",
    "from xgboost import XGBRegressor\n",
    "from sklearn.ensemble import RandomForestRegressor\n",
    "\n",
    "models = [\n",
    "    ('lgbm',LGBMRegressor()),\n",
    "    ('catb',CatBoostRegressor(verbose=0)),\n",
    "    ('xgb',XGBRegressor(verbosity=0)),\n",
    "    ('RF',RandomForestRegressor(verbose=0))\n",
    "]\n",
    "\n",
    "results = dict()\n",
    "\n",
    "for name, model in models:\n",
    "    model.fit(X_train_en, y_train)\n",
    "    y_hat = model.predict(X_train_en)\n",
    "    rmse = mean_squared_error(y_train, y_hat, squared=False)\n",
    "    results[name] = rmse"
   ]
  },
  {
   "cell_type": "code",
   "execution_count": null,
   "metadata": {
    "colab": {
     "base_uri": "https://localhost:8080/",
     "height": 80
    },
    "id": "vMYbYPwJei9P",
    "outputId": "de2f017f-cf11-43cb-9183-d28aeeb37800"
   },
   "outputs": [],
   "source": [
    "df_results = pd.DataFrame([results])\n",
    "df_results"
   ]
  },
  {
   "cell_type": "markdown",
   "metadata": {
    "id": "f62vqcAdhlxs"
   },
   "source": [
    "## Testing with Classifiers"
   ]
  },
  {
   "cell_type": "code",
   "execution_count": null,
   "metadata": {
    "colab": {
     "base_uri": "https://localhost:8080/"
    },
    "id": "TUNb-RS5Rwpa",
    "outputId": "1ef5b680-9099-4bec-ce10-a0058353280c"
   },
   "outputs": [],
   "source": [
    "#RT_comb_score\n",
    "y_class = np.array(y >= 0.49, dtype=int).reshape(-1) #P75\n",
    "np.unique(y_class, return_counts=True)"
   ]
  },
  {
   "cell_type": "code",
   "execution_count": null,
   "metadata": {
    "colab": {
     "base_uri": "https://localhost:8080/"
    },
    "id": "1NgZWQ55VBwt",
    "outputId": "e289437b-5a62-459a-bef9-5491ae09a7d2"
   },
   "outputs": [],
   "source": [
    "159/622"
   ]
  },
  {
   "cell_type": "code",
   "execution_count": null,
   "metadata": {
    "id": "-p8eE1n1muRx"
   },
   "outputs": [],
   "source": [
    "X_train, X_valid, y_train, y_valid = train_test_split(X, y_class, test_size=0.2, shuffle=True, random_state=1)"
   ]
  },
  {
   "cell_type": "code",
   "execution_count": null,
   "metadata": {
    "colab": {
     "base_uri": "https://localhost:8080/"
    },
    "id": "2r-kd9j-ejAk",
    "outputId": "9cdb563a-d218-490d-a382-0deb175f4407"
   },
   "outputs": [],
   "source": [
    "from lightgbm import LGBMClassifier\n",
    "from catboost import CatBoostClassifier\n",
    "from xgboost import XGBClassifier\n",
    "from sklearn.ensemble import RandomForestClassifier\n",
    "\n",
    "models = [\n",
    "    ('lgbm',LGBMClassifier()),\n",
    "    ('catb',CatBoostClassifier(verbose=0)),\n",
    "    ('xgb',XGBClassifier(verbosity=0)),\n",
    "    ('RF',RandomForestClassifier(verbose=0))\n",
    "]\n",
    "\n",
    "results = dict()\n",
    "\n",
    "for name, model in models:\n",
    "    model.fit(X_train, y_train)\n",
    "    y_hat_valid = model.predict(X_valid)\n",
    "    accuracy = round(accuracy_score(y_hat_valid,y_valid)*100,2)\n",
    "    results[name] = accuracy"
   ]
  },
  {
   "cell_type": "code",
   "execution_count": null,
   "metadata": {
    "colab": {
     "base_uri": "https://localhost:8080/"
    },
    "id": "P7-ln9Q7Ux6K",
    "outputId": "bb6e4b87-1347-4693-f47c-1f57b6ff3b34"
   },
   "outputs": [],
   "source": [
    "from lightgbm import LGBMClassifier\n",
    "from catboost import CatBoostClassifier\n",
    "from xgboost import XGBClassifier\n",
    "from sklearn.ensemble import RandomForestClassifier\n",
    "class_weights = dict({0:1, 1:5})\n",
    "models = [\n",
    "    ('lgbm',LGBMClassifier(iterations=500,\n",
    "                           verbose=100,\n",
    "                           eval_metric=\"Precision\",\n",
    "                           scale_pos_weight=5)),\n",
    "    ('catb',CatBoostClassifier(iterations=500,\n",
    "                           verbose=100,\n",
    "                           eval_metric=\"Precision\",\n",
    "                           scale_pos_weight=5)),\n",
    "    ('xgb',XGBClassifier(iterations=500,\n",
    "                           verbose=100,\n",
    "                           scale_pos_weight=5)),\n",
    "\n",
    "    ]\n",
    "\n",
    "results = dict()\n",
    "\n",
    "for name, model in models:\n",
    "    model.fit(X_train, y_train)\n",
    "    y_hat_valid = model.predict(X_valid)\n",
    "    accuracy = round(accuracy_score(y_hat_valid,y_valid)*100,2)\n",
    "    results[name] = {accuracy , precision}"
   ]
  },
  {
   "cell_type": "code",
   "execution_count": null,
   "metadata": {
    "colab": {
     "base_uri": "https://localhost:8080/",
     "height": 80
    },
    "id": "8M1uPKGEhYZH",
    "outputId": "e221042e-c892-4f0d-c280-dd01d637c0ad"
   },
   "outputs": [],
   "source": [
    "df_results = pd.DataFrame([results])\n",
    "df_results"
   ]
  },
  {
   "cell_type": "markdown",
   "metadata": {
    "id": "qEtzkAqclIF1"
   },
   "source": [
    "## RF with weighted class"
   ]
  },
  {
   "cell_type": "code",
   "execution_count": null,
   "metadata": {
    "id": "NnbRRh7FpNM7"
   },
   "outputs": [],
   "source": [
    "model = RandomForestClassifier(class_weight={0: 1, 1: 5})"
   ]
  },
  {
   "cell_type": "code",
   "execution_count": null,
   "metadata": {
    "colab": {
     "base_uri": "https://localhost:8080/"
    },
    "id": "bfRB6OjIpTeA",
    "outputId": "05bb4310-72ea-4d35-83a6-6bebe60e80c8"
   },
   "outputs": [],
   "source": [
    "model.fit(X_train,y_train)"
   ]
  },
  {
   "cell_type": "code",
   "execution_count": null,
   "metadata": {
    "colab": {
     "base_uri": "https://localhost:8080/",
     "height": 80
    },
    "id": "XmOqHy46pdqA",
    "outputId": "9f8dd48a-8e31-4f4f-80ae-3977ec8f3ad6"
   },
   "outputs": [],
   "source": [
    "accuracy= []\n",
    "recall =[]\n",
    "roc_auc= []\n",
    "precision = []\n",
    "y_pred = model.predict(X_train)\n",
    "accuracy.append(round(accuracy_score(y_train, y_pred),4))\n",
    "recall.append(round(recall_score(y_train, y_pred),4))\n",
    "roc_auc.append(round(roc_auc_score(y_train, y_pred),4))\n",
    "precision.append(round(precision_score(y_train, y_pred),4))\n",
    "\n",
    "model_names = ['RF_Train']\n",
    "result_df = pd.DataFrame({'Accuracy':accuracy,'Recall':recall, 'Roc_Auc':roc_auc, 'Precision':precision}, index=model_names)\n",
    "result_df"
   ]
  },
  {
   "cell_type": "code",
   "execution_count": null,
   "metadata": {
    "colab": {
     "base_uri": "https://localhost:8080/",
     "height": 112
    },
    "id": "3j9ugAeMpe9v",
    "outputId": "c9f618e9-d402-4667-b1f8-7c7c5f8c61ad"
   },
   "outputs": [],
   "source": [
    "confusion_matrix_train = confusion_matrix(y_train, model.predict(X_train))\n",
    "confusion_matrix_train = pd.DataFrame(confusion_matrix_train,\n",
    "                                      index=[\"Actual_No\",\"Actual_Yes\"],\n",
    "                                      columns=[\"Predicted_No\",\"Predicted_Yes\"])\n",
    "\n",
    "display(confusion_matrix_train)"
   ]
  },
  {
   "cell_type": "code",
   "execution_count": null,
   "metadata": {
    "colab": {
     "base_uri": "https://localhost:8080/",
     "height": 80
    },
    "id": "jvD1iEvBpkWv",
    "outputId": "ad653a90-c86e-4959-e766-9fc66aea4cde"
   },
   "outputs": [],
   "source": [
    "from sklearn.metrics import roc_auc_score\n",
    "accuracy= []\n",
    "recall =[]\n",
    "roc_auc= []\n",
    "precision = []\n",
    "model_names =[]\n",
    "\n",
    "y_pred = model.predict(X_valid)\n",
    "accuracy.append(round(accuracy_score(y_valid, y_pred),4))\n",
    "recall.append(round(recall_score(y_valid, y_pred),4))\n",
    "roc_auc.append(round(roc_auc_score(y_valid, y_pred),4))\n",
    "precision.append(round(precision_score(y_valid, y_pred),4))\n",
    "\n",
    "model_names = ['RF_Validation']\n",
    "result_df1 = pd.DataFrame({'Accuracy':accuracy,'Recall':recall, 'Roc_Auc':roc_auc, 'Precision':precision}, index=model_names)\n",
    "result_df1"
   ]
  },
  {
   "cell_type": "code",
   "execution_count": null,
   "metadata": {
    "colab": {
     "base_uri": "https://localhost:8080/",
     "height": 112
    },
    "id": "A6bN69Z6pmnG",
    "outputId": "54c12bf1-3cbb-48fd-e57d-150e29a31cfc"
   },
   "outputs": [],
   "source": [
    "confusion_matrix_test = confusion_matrix(y_valid, model.predict(X_valid))\n",
    "confusion_matrix_test = pd.DataFrame(confusion_matrix_test,\n",
    "                                     index=[\"Actual_No\",\"Actual_Yes\"],\n",
    "                                     columns=[\"Predicted_No\",\"Predicted_Yes\"])\n",
    "\n",
    "display(confusion_matrix_test)"
   ]
  },
  {
   "cell_type": "markdown",
   "metadata": {
    "id": "osY2eRsSiqBe"
   },
   "source": [
    "###XGBoost"
   ]
  },
  {
   "cell_type": "code",
   "execution_count": null,
   "metadata": {
    "id": "FkKSH1W7i0uV"
   },
   "outputs": [],
   "source": [
    "model = XGBClassifier(iterations=500,\n",
    "                           verbose=100,\n",
    "                           scale_pos_weight=5)"
   ]
  },
  {
   "cell_type": "code",
   "execution_count": null,
   "metadata": {
    "colab": {
     "base_uri": "https://localhost:8080/"
    },
    "id": "Rztru3GKi6sH",
    "outputId": "b966fe6e-4cc6-4e19-9711-53dc239fd566"
   },
   "outputs": [],
   "source": [
    "model.fit(X_train, y_train)"
   ]
  },
  {
   "cell_type": "code",
   "execution_count": null,
   "metadata": {
    "colab": {
     "base_uri": "https://localhost:8080/",
     "height": 80
    },
    "id": "5kENyKBJjBsT",
    "outputId": "4622e63e-61b0-423e-878e-7a81c80e0767"
   },
   "outputs": [],
   "source": [
    "accuracy= []\n",
    "recall =[]\n",
    "roc_auc= []\n",
    "precision = []\n",
    "y_pred = model.predict(X_train)\n",
    "accuracy.append(round(accuracy_score(y_train, y_pred),4))\n",
    "recall.append(round(recall_score(y_train, y_pred),4))\n",
    "roc_auc.append(round(roc_auc_score(y_train, y_pred),4))\n",
    "precision.append(round(precision_score(y_train, y_pred),4))\n",
    "\n",
    "model_names = ['XGBoost_Train']\n",
    "result_df = pd.DataFrame({'Accuracy':accuracy,'Recall':recall, 'Roc_Auc':roc_auc, 'Precision':precision}, index=model_names)\n",
    "result_df"
   ]
  },
  {
   "cell_type": "code",
   "execution_count": null,
   "metadata": {
    "colab": {
     "base_uri": "https://localhost:8080/",
     "height": 112
    },
    "id": "FrAFs0dyjGxl",
    "outputId": "dbabf15c-7d54-4206-d4d7-ae78763963a9"
   },
   "outputs": [],
   "source": [
    "confusion_matrix_train = confusion_matrix(y_train, model.predict(X_train))\n",
    "confusion_matrix_train = pd.DataFrame(confusion_matrix_train,\n",
    "                                      index=[\"Actual_No\",\"Actual_Yes\"],\n",
    "                                      columns=[\"Predicted_No\",\"Predicted_Yes\"])\n",
    "\n",
    "display(confusion_matrix_train)"
   ]
  },
  {
   "cell_type": "code",
   "execution_count": null,
   "metadata": {
    "colab": {
     "base_uri": "https://localhost:8080/",
     "height": 128
    },
    "id": "B20byDMJjHzJ",
    "outputId": "cec60e99-0b13-45de-f9c7-0635cb42cdc9"
   },
   "outputs": [],
   "source": [
    "from sklearn.metrics import roc_auc_score\n",
    "accuracy= []\n",
    "recall =[]\n",
    "roc_auc= []\n",
    "precision = []\n",
    "model_names =[]\n",
    "\n",
    "y_pred = model.predict(X_valid)\n",
    "accuracy.append(round(accuracy_score(y_valid, y_pred),4))\n",
    "recall.append(round(recall_score(y_valid, y_pred),4))\n",
    "roc_auc.append(round(roc_auc_score(y_valid, y_pred),4))\n",
    "precision.append(round(precision_score(y_valid, y_pred),4))\n",
    "\n",
    "model_names = ['XGBoost_Validation']\n",
    "result_df1 = pd.DataFrame({'Accuracy':accuracy,'Recall':recall, 'Roc_Auc':roc_auc, 'Precision':precision}, index=model_names)\n",
    "result_df1"
   ]
  },
  {
   "cell_type": "code",
   "execution_count": null,
   "metadata": {
    "colab": {
     "base_uri": "https://localhost:8080/",
     "height": 112
    },
    "id": "Cm4JS7kmjOos",
    "outputId": "c99d8edf-e23d-4f03-b6d7-29ec7767ed6e"
   },
   "outputs": [],
   "source": [
    "confusion_matrix_test = confusion_matrix(y_valid, model.predict(X_valid))\n",
    "confusion_matrix_test = pd.DataFrame(confusion_matrix_test,\n",
    "                                     index=[\"Actual_No\",\"Actual_Yes\"],\n",
    "                                     columns=[\"Predicted_No\",\"Predicted_Yes\"])\n",
    "\n",
    "display(confusion_matrix_test)"
   ]
  },
  {
   "cell_type": "markdown",
   "metadata": {
    "id": "6aUSGfHnimvz"
   },
   "source": [
    "###Lgbm "
   ]
  },
  {
   "cell_type": "code",
   "execution_count": null,
   "metadata": {
    "id": "-yFppaUsgM0i"
   },
   "outputs": [],
   "source": [
    "from lightgbm import LGBMClassifier\n",
    "model = LGBMClassifier(iterations=500,\n",
    "                           verbose=100,\n",
    "                           eval_metric=\"Accuracy\",\n",
    "                           scale_pos_weight=5)"
   ]
  },
  {
   "cell_type": "code",
   "execution_count": null,
   "metadata": {
    "colab": {
     "base_uri": "https://localhost:8080/"
    },
    "id": "enwWhAKzgH4Y",
    "outputId": "581eb4fa-cc97-4e2a-9dcf-6f2b5dd07d93"
   },
   "outputs": [],
   "source": [
    "model.fit(X_train,y_train)"
   ]
  },
  {
   "cell_type": "code",
   "execution_count": null,
   "metadata": {
    "colab": {
     "base_uri": "https://localhost:8080/",
     "height": 80
    },
    "id": "FE1SjzwFf8et",
    "outputId": "d363fbdf-73ab-48cd-a520-c3745b38b09a"
   },
   "outputs": [],
   "source": [
    "from sklearn.metrics import roc_auc_score\n",
    "accuracy= []\n",
    "recall =[]\n",
    "roc_auc= []\n",
    "precision = []\n",
    "y_pred = model.predict(X_train)\n",
    "accuracy.append(round(accuracy_score(y_train, y_pred),4))\n",
    "recall.append(round(recall_score(y_train, y_pred),4))\n",
    "roc_auc.append(round(roc_auc_score(y_train, y_pred),4))\n",
    "precision.append(round(precision_score(y_train, y_pred),4))\n",
    "\n",
    "model_names = ['Lgbm_Train']\n",
    "result_df = pd.DataFrame({'Accuracy':accuracy,'Recall':recall, 'Roc_Auc':roc_auc, 'Precision':precision}, index=model_names)\n",
    "result_df"
   ]
  },
  {
   "cell_type": "code",
   "execution_count": null,
   "metadata": {
    "colab": {
     "base_uri": "https://localhost:8080/",
     "height": 112
    },
    "id": "J7ozR1x3galM",
    "outputId": "026166d1-f103-49cb-d4d6-27436b4211e5"
   },
   "outputs": [],
   "source": [
    "confusion_matrix_train = confusion_matrix(y_train, model.predict(X_train))\n",
    "confusion_matrix_train = pd.DataFrame(confusion_matrix_train,\n",
    "                                      index=[\"Actual_No\",\"Actual_Yes\"],\n",
    "                                      columns=[\"Predicted_No\",\"Predicted_Yes\"])\n",
    "\n",
    "display(confusion_matrix_train)"
   ]
  },
  {
   "cell_type": "code",
   "execution_count": null,
   "metadata": {
    "colab": {
     "base_uri": "https://localhost:8080/",
     "height": 496
    },
    "id": "E74uNnrweYlU",
    "outputId": "c7ccdda6-fc1a-41e5-ae18-4797931ac88d"
   },
   "outputs": [],
   "source": [
    "#plot_importance()\n",
    "feature_imp = pd.Series(model.feature_importances_, index=X_train.columns).sort_values(ascending=False)\n",
    "plt.figure(figsize=(10,6))\n",
    "sns.barplot(x=feature_imp, y=feature_imp.index)\n",
    "# Add labels to your graph\n",
    "plt.xlabel('Feature Importance Score')\n",
    "plt.ylabel('Features')\n",
    "plt.title(\"Visualizing Important Features\")\n",
    "plt.tight_layout()"
   ]
  },
  {
   "cell_type": "code",
   "execution_count": null,
   "metadata": {
    "colab": {
     "base_uri": "https://localhost:8080/",
     "height": 1000
    },
    "id": "UmsyHxRkmb3W",
    "outputId": "8bfa81ba-16fd-400f-8d06-df7dc9dd08d7"
   },
   "outputs": [],
   "source": [
    "feat_imp = pd.DataFrame(model.feature_importances_, index=X.columns, columns=[\"Importance\"])\n",
    "feat_imp.sort_values(by=\"Importance\", ascending=False)"
   ]
  },
  {
   "cell_type": "code",
   "execution_count": null,
   "metadata": {
    "colab": {
     "base_uri": "https://localhost:8080/"
    },
    "id": "6VdXcocOkcvU",
    "outputId": "86882f3b-8bad-4caf-bc8b-d36839be63f7"
   },
   "outputs": [],
   "source": [
    "!pip install shap"
   ]
  },
  {
   "cell_type": "code",
   "execution_count": null,
   "metadata": {
    "colab": {
     "base_uri": "https://localhost:8080/",
     "height": 581
    },
    "id": "CPTQ1IYfkb7y",
    "outputId": "306c2e67-4302-492d-dbfe-5df0377b9d02"
   },
   "outputs": [],
   "source": [
    "import shap\n",
    "shap_values = shap.TreeExplainer(model).shap_values(X_valid)\n",
    "shap.summary_plot(shap_values, X_valid)"
   ]
  },
  {
   "cell_type": "code",
   "execution_count": null,
   "metadata": {
    "colab": {
     "base_uri": "https://localhost:8080/",
     "height": 80
    },
    "id": "6o5eLTkogfYS",
    "outputId": "7d655e50-ae10-4fd8-e21f-df8925f8487e"
   },
   "outputs": [],
   "source": [
    "from sklearn.metrics import roc_auc_score\n",
    "accuracy= []\n",
    "recall =[]\n",
    "roc_auc= []\n",
    "precision = []\n",
    "model_names =[]\n",
    "\n",
    "y_pred = model.predict(X_valid)\n",
    "accuracy.append(round(accuracy_score(y_valid, y_pred),4))\n",
    "recall.append(round(recall_score(y_valid, y_pred),4))\n",
    "roc_auc.append(round(roc_auc_score(y_valid, y_pred),4))\n",
    "precision.append(round(precision_score(y_valid, y_pred),4))\n",
    "\n",
    "model_names = ['Lgbm_Validation']\n",
    "result_df1 = pd.DataFrame({'Accuracy':accuracy,'Recall':recall, 'Roc_Auc':roc_auc, 'Precision':precision}, index=model_names)\n",
    "result_df1"
   ]
  },
  {
   "cell_type": "code",
   "execution_count": null,
   "metadata": {
    "colab": {
     "base_uri": "https://localhost:8080/",
     "height": 112
    },
    "id": "1RxApiI_gpWW",
    "outputId": "739ffb2d-afc6-46ff-b4f7-6c281a0aab72"
   },
   "outputs": [],
   "source": [
    "confusion_matrix_test = confusion_matrix(y_valid, model.predict(X_valid))\n",
    "confusion_matrix_test = pd.DataFrame(confusion_matrix_test,\n",
    "                                     index=[\"Actual_No\",\"Actual_Yes\"],\n",
    "                                     columns=[\"Predicted_No\",\"Predicted_Yes\"])\n",
    "\n",
    "display(confusion_matrix_test)"
   ]
  },
  {
   "cell_type": "markdown",
   "metadata": {
    "id": "U6x_GQlLQQTO"
   },
   "source": [
    "### Testing catboost with hyperparameter tuning"
   ]
  },
  {
   "cell_type": "code",
   "execution_count": null,
   "metadata": {
    "id": "2YBpx3uDQD2d"
   },
   "outputs": [],
   "source": [
    "X_train, X_valid, y_train, y_valid = train_test_split(X, y_class, test_size=0.2, shuffle=True, random_state=1)"
   ]
  },
  {
   "cell_type": "code",
   "execution_count": null,
   "metadata": {
    "colab": {
     "base_uri": "https://localhost:8080/"
    },
    "id": "i93CGAFiJkrC",
    "outputId": "f53a89ab-c0f9-4272-de1f-2cd685b2be78"
   },
   "outputs": [],
   "source": [
    "! pip install catboost"
   ]
  },
  {
   "cell_type": "code",
   "execution_count": null,
   "metadata": {
    "id": "y-zJiNxlLhvP"
   },
   "outputs": [],
   "source": [
    "from catboost import CatBoostClassifier\n",
    "class_weights = dict({0:1, 1:5})\n",
    "model = CatBoostClassifier(iterations=500,\n",
    "                           verbose=100,\n",
    "                           eval_metric=\"Accuracy\",\n",
    "                           class_weights=class_weights)"
   ]
  },
  {
   "cell_type": "code",
   "execution_count": null,
   "metadata": {
    "colab": {
     "base_uri": "https://localhost:8080/"
    },
    "id": "pQZBLFlkQc7M",
    "outputId": "2754bdae-bafa-4f7e-eaac-0f1cca5a690c"
   },
   "outputs": [],
   "source": [
    "model.fit(X_train,y_train)"
   ]
  },
  {
   "cell_type": "code",
   "execution_count": null,
   "metadata": {
    "colab": {
     "base_uri": "https://localhost:8080/",
     "height": 112
    },
    "id": "HDJEnEVeZUo7",
    "outputId": "a141029d-524c-4f04-e346-0bd1881723c3"
   },
   "outputs": [],
   "source": [
    "confusion_matrix_train = confusion_matrix(y_train, model.predict(X_train))\n",
    "confusion_matrix_train = pd.DataFrame(confusion_matrix_train,\n",
    "                                      index=[\"Actual_No\",\"Actual_Yes\"],\n",
    "                                      columns=[\"Predicted_No\",\"Predicted_Yes\"])\n",
    "\n",
    "display(confusion_matrix_train)"
   ]
  },
  {
   "cell_type": "code",
   "execution_count": null,
   "metadata": {
    "colab": {
     "base_uri": "https://localhost:8080/",
     "height": 80
    },
    "id": "AlmtODAYcxqE",
    "outputId": "0ba9f843-bff0-45ea-8d8e-7b416d2ee74b"
   },
   "outputs": [],
   "source": [
    "accuracy= []\n",
    "recall =[]\n",
    "roc_auc= []\n",
    "precision = []\n",
    "y_pred = model.predict(X_train)\n",
    "accuracy.append(round(accuracy_score(y_train, y_pred),4))\n",
    "recall.append(round(recall_score(y_train, y_pred),4))\n",
    "roc_auc.append(round(roc_auc_score(y_train, y_pred),4))\n",
    "precision.append(round(precision_score(y_train, y_pred),4))\n",
    "\n",
    "model_names = ['Catboost_Train']\n",
    "result_df = pd.DataFrame({'Accuracy':accuracy,'Recall':recall, 'Roc_Auc':roc_auc, 'Precision':precision}, index=model_names)\n",
    "result_df"
   ]
  },
  {
   "cell_type": "code",
   "execution_count": null,
   "metadata": {
    "colab": {
     "base_uri": "https://localhost:8080/",
     "height": 112
    },
    "id": "l6rS9HMkeF7s",
    "outputId": "b266d405-d956-48ec-a24a-13290c33793f"
   },
   "outputs": [],
   "source": [
    "confusion_matrix_test = confusion_matrix(y_valid, model.predict(X_valid))\n",
    "confusion_matrix_test = pd.DataFrame(confusion_matrix_test,\n",
    "                                     index=[\"Actual_No\",\"Actual_Yes\"],\n",
    "                                     columns=[\"Predicted_No\",\"Predicted_Yes\"])\n",
    "\n",
    "display(confusion_matrix_test)"
   ]
  },
  {
   "cell_type": "code",
   "execution_count": null,
   "metadata": {
    "colab": {
     "base_uri": "https://localhost:8080/",
     "height": 80
    },
    "id": "BDPXxv50bjbE",
    "outputId": "9680d524-c0db-4338-ce10-90865da26d24"
   },
   "outputs": [],
   "source": [
    "from sklearn.metrics import roc_auc_score\n",
    "accuracy= []\n",
    "recall =[]\n",
    "roc_auc= []\n",
    "precision = []\n",
    "model_names =[]\n",
    "\n",
    "y_pred = model.predict(X_valid)\n",
    "accuracy.append(round(accuracy_score(y_valid, y_pred),4))\n",
    "recall.append(round(recall_score(y_valid, y_pred),4))\n",
    "roc_auc.append(round(roc_auc_score(y_valid, y_pred),4))\n",
    "precision.append(round(precision_score(y_valid, y_pred),4))\n",
    "\n",
    "model_names = ['Catboost_Validation']\n",
    "result_df1 = pd.DataFrame({'Accuracy':accuracy,'Recall':recall, 'Roc_Auc':roc_auc, 'Precision':precision}, index=model_names)\n",
    "result_df1"
   ]
  },
  {
   "cell_type": "code",
   "execution_count": null,
   "metadata": {
    "colab": {
     "base_uri": "https://localhost:8080/",
     "height": 520
    },
    "id": "XK6rxXsrSsPk",
    "outputId": "5da100db-7103-42a7-9118-30213bfad482"
   },
   "outputs": [],
   "source": [
    "feat_imp = pd.DataFrame(model.feature_importances_, index=X.columns, columns=[\"Importance\"])\n",
    "feat_imp.sort_values(by=\"Importance\", ascending=False).head(15)"
   ]
  },
  {
   "cell_type": "code",
   "execution_count": null,
   "metadata": {
    "colab": {
     "base_uri": "https://localhost:8080/"
    },
    "id": "lz3XIdfPTU2Q",
    "outputId": "f09e04db-4a63-4d1e-86c9-e46c8e24a9a1"
   },
   "outputs": [],
   "source": [
    "! pip install shap"
   ]
  },
  {
   "cell_type": "code",
   "execution_count": null,
   "metadata": {
    "colab": {
     "base_uri": "https://localhost:8080/",
     "height": 977
    },
    "id": "LP71L2VlTTAs",
    "outputId": "949584c1-4398-4a0e-fa5f-6eb5dbc3afbb"
   },
   "outputs": [],
   "source": [
    "import shap\n",
    "explainer = shap.TreeExplainer(model)\n",
    "shap_values = explainer.shap_values(X_valid)\n",
    "shap.summary_plot(shap_values, features=X_valid, feature_names=X_valid.columns, max_display= 44)"
   ]
  },
  {
   "cell_type": "code",
   "execution_count": null,
   "metadata": {
    "colab": {
     "base_uri": "https://localhost:8080/",
     "height": 337
    },
    "id": "vtZ-1DiLLkR4",
    "outputId": "c1c4a6d9-5f01-4a4a-d3a8-d0296c29a763"
   },
   "outputs": [],
   "source": [
    "shap.dependence_plot(\"Genre_Comedy\", shap_values, X_valid)"
   ]
  },
  {
   "cell_type": "code",
   "execution_count": null,
   "metadata": {
    "colab": {
     "base_uri": "https://localhost:8080/",
     "height": 337
    },
    "id": "LZcGMp_IMKcU",
    "outputId": "837ad408-68df-4649-b044-eff5c6683b4f"
   },
   "outputs": [],
   "source": [
    "shap.dependence_plot(\"Genre_LGBTQ\", shap_values, X_valid)"
   ]
  },
  {
   "cell_type": "code",
   "execution_count": null,
   "metadata": {
    "colab": {
     "base_uri": "https://localhost:8080/",
     "height": 411
    },
    "id": "BNRGLD8YN75j",
    "outputId": "64b87683-cf89-49f3-92c0-2b8fa5705ee6"
   },
   "outputs": [],
   "source": [
    "shap.initjs()\n",
    "shap.force_plot(explainer.expected_value, shap_values[0:5,:],X_valid.iloc[0:5,:])\n",
    "#shap.force_plot(explainer.expected_value[1], shap_values[1][0,:], X_valid.iloc[0,:])"
   ]
  },
  {
   "cell_type": "code",
   "execution_count": null,
   "metadata": {
    "colab": {
     "base_uri": "https://localhost:8080/"
    },
    "id": "RQQSq6h0Qm00",
    "outputId": "66e3ac80-7c9b-4d91-be1b-d85a27619e3a"
   },
   "outputs": [],
   "source": [
    "explainer.expected_value"
   ]
  }
 ],
 "metadata": {
  "colab": {
   "collapsed_sections": [],
   "name": "EDA_and_Model_Build.ipynb",
   "provenance": [],
   "toc_visible": true
  },
  "kernelspec": {
   "display_name": "Python 3",
   "language": "python",
   "name": "python3"
  },
  "language_info": {
   "codemirror_mode": {
    "name": "ipython",
    "version": 3
   },
   "file_extension": ".py",
   "mimetype": "text/x-python",
   "name": "python",
   "nbconvert_exporter": "python",
   "pygments_lexer": "ipython3",
   "version": "3.8.8"
  }
 },
 "nbformat": 4,
 "nbformat_minor": 1
}
