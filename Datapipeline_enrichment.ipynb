{
 "cells": [
  {
   "cell_type": "markdown",
   "metadata": {},
   "source": [
    "# Code 2: Enriching Webscrapes pickle file with\n",
    "### 1. Oscar nominations <br> 2. Subgenres <br> 3. Rating reasons "
   ]
  },
  {
   "cell_type": "markdown",
   "metadata": {},
   "source": [
    "## Importing necessary libraries"
   ]
  },
  {
   "cell_type": "code",
   "execution_count": null,
   "metadata": {},
   "outputs": [],
   "source": [
    "import pandas as pd\n",
    "import numpy as np\n",
    "import re\n",
    "pd.set_option('display.max_colwidth', None)\n",
    "\n",
    "import seaborn as sns\n",
    "sns.set_theme()\n",
    "sns.set(rc={'figure.figsize':(12,8)})\n",
    "\n",
    "import warnings\n",
    "warnings.filterwarnings('ignore')\n",
    "\n",
    "from IPython.core.interactiveshell import InteractiveShell\n",
    "InteractiveShell.ast_node_interactivity = \"all\""
   ]
  },
  {
   "cell_type": "code",
   "execution_count": null,
   "metadata": {},
   "outputs": [],
   "source": [
    "# read in master data file\n",
    "data = pd.read_pickle('master_data_v2.pkl')\n",
    "data[['Title','Rel_year','Dir1','Dir2','Dir3']]"
   ]
  },
  {
   "cell_type": "code",
   "execution_count": null,
   "metadata": {},
   "outputs": [],
   "source": [
    "# read in master data file\n",
    "oscars_data = pd.read_csv('oscars_data.csv')\n",
    "oscars_data.head()"
   ]
  },
  {
   "cell_type": "code",
   "execution_count": null,
   "metadata": {},
   "outputs": [],
   "source": [
    "oscars_data.columns"
   ]
  },
  {
   "cell_type": "code",
   "execution_count": null,
   "metadata": {},
   "outputs": [],
   "source": [
    "# convert film years to integers\n",
    "y_lst = []\n",
    "for y in list(oscars_data['Year']):\n",
    "    y = y.split('/')[0]\n",
    "    y_lst.append(y)\n",
    "oscars_data['Year'] = y_lst\n",
    "oscars_data['Year'] = pd.to_numeric(oscars_data['Year'], downcast=\"integer\", errors='coerce')"
   ]
  },
  {
   "cell_type": "code",
   "execution_count": null,
   "metadata": {},
   "outputs": [],
   "source": [
    "def drop_movie(col):\n",
    "    names = []\n",
    "    films = []\n",
    "    col_lst = list(oscars_data[col])\n",
    "    for i in col_lst:\n",
    "        if i is np.nan:\n",
    "            name = np.nan\n",
    "            film = np.nan\n",
    "        elif 'No Country for Old Men' in i:\n",
    "            name = i.split(' for ')[0]\n",
    "            film = 'No Country for Old Men'\n",
    "        elif ' for ' in i.lower():\n",
    "            if ' For ' in i:\n",
    "                name = i.split(' For ')[0]\n",
    "                film = i.split(' For ')[1]\n",
    "            else:\n",
    "                name = i.split(' for ')[0]\n",
    "                film = i.split(' for ')[1]\n",
    "        elif ' from ' in i.lower():\n",
    "            if ' From ' in i:\n",
    "                name = i.split(' From ')[0]\n",
    "                film = i.split(' From ')[1]\n",
    "            else:\n",
    "                name = i.split(' from ')[0]\n",
    "                film = i.split(' from ')[1]\n",
    "        else:\n",
    "            name = i.split(' for ')[0]\n",
    "            film = i.split(' for ')[1]\n",
    "        names.append(name)\n",
    "        films.append(film)\n",
    "        \n",
    "    return names, films\n",
    "\n",
    "def split_collaborators(col_lst, film_lst):\n",
    "    all_names = []\n",
    "    for i,m in zip(col_lst,film_lst):\n",
    "        sub_names = {}\n",
    "        sub_names2 = []\n",
    "        \n",
    "        if i is np.nan:\n",
    "            sub_names[np.nan] = m\n",
    "            # sub_names.append(np.nan)\n",
    "        elif ' and ' in i:\n",
    "            name1 = i.split(' and ')[0]\n",
    "            name2 = i.split(' and ')[1]\n",
    "            sub_names[name1]=m\n",
    "            sub_names[name2]=m\n",
    "            # sub_names.append(name1)\n",
    "            # sub_names.append(name2)\n",
    "\n",
    "            if ',' in i:\n",
    "                for j in re.finditer(', ', name1):\n",
    "                    sub_names2.append(name1[:j.start()].split(', ')[0])\n",
    "                    sub_names2.append(name1[j.end():-1].split(', ')[0])\n",
    "                    sub_names2 = list(set(sub_names2))\n",
    "                sub_names2.append(name2)\n",
    "                sub_names3 = dict.fromkeys(sub_names2, m)\n",
    "        else:\n",
    "            sub_names[i] = m\n",
    "            # sub_names.append(i)\n",
    "        if sub_names2 != []:\n",
    "            all_names.append(sub_names3)\n",
    "        else:\n",
    "            all_names.append(sub_names)\n",
    "    return all_names"
   ]
  },
  {
   "cell_type": "code",
   "execution_count": null,
   "metadata": {},
   "outputs": [],
   "source": [
    "for col in oscars_data.iloc[:,13:72]:\n",
    "    col_lst, film_lst = drop_movie(col)\n",
    "    oscars_data[col] = split_collaborators(col_lst, film_lst)"
   ]
  },
  {
   "cell_type": "markdown",
   "metadata": {},
   "source": [
    "## Best Directors"
   ]
  },
  {
   "cell_type": "code",
   "execution_count": null,
   "metadata": {
    "scrolled": true
   },
   "outputs": [],
   "source": [
    "oscars_data.iloc[:,38:45]"
   ]
  },
  {
   "cell_type": "code",
   "execution_count": null,
   "metadata": {},
   "outputs": [],
   "source": [
    "total_lst=[]\n",
    "for col in oscars_data.iloc[:,38:45]:\n",
    "    nom_lst = oscars_data[col]\n",
    "    category_lst=[]\n",
    "    for nom,yr in zip(nom_lst, oscars_data.iloc[:,0]):\n",
    "        keys = list(nom.keys())\n",
    "        value = list(set(nom.values()))[0]\n",
    "\n",
    "        for k in keys:\n",
    "            new_lst = []\n",
    "            new_lst.append(yr)\n",
    "            new_lst.append(k)\n",
    "            new_lst.append(value)\n",
    "            category_lst.append(new_lst)\n",
    "    total_lst.append(category_lst)"
   ]
  },
  {
   "cell_type": "code",
   "execution_count": null,
   "metadata": {},
   "outputs": [],
   "source": [
    "dir_list = [item for sublist in total_lst for item in sublist]\n",
    "dir_noms = pd.DataFrame(dir_list, columns=['Year','Name','Film'])\n",
    "dir_noms = dir_noms.dropna()\n",
    "dir_noms = dir_noms.sort_values(by='Year', ascending=True).reset_index(drop=True)\n",
    "dir_noms"
   ]
  },
  {
   "cell_type": "code",
   "execution_count": null,
   "metadata": {},
   "outputs": [],
   "source": [
    "titles = list(data['Title'])\n",
    "years = list(data['Rel_year'])\n",
    "dir1 = list(data['Dir1'])\n",
    "dir2 = list(data['Dir2'])\n",
    "dir3 = list(data['Dir3'])\n",
    "\n",
    "oscar_cnt = []\n",
    "for t,yr,d1,d2,d3 in zip(titles,years,dir1,dir2,dir3):\n",
    "    df_year = dir_noms[dir_noms['Year']<yr]\n",
    "    nominated_films = []\n",
    "    for n,f in zip(list(df_year['Name']),list(df_year['Film'])):\n",
    "        if t==f:\n",
    "            continue\n",
    "        elif n==d1:\n",
    "            nominated_films.append(f)\n",
    "        elif n==d2:\n",
    "            nominated_films.append(f)\n",
    "        elif n==d3:\n",
    "            nominated_films.append(f)\n",
    "    nominated_films = list(set(nominated_films))\n",
    "    oscar_cnt.append(nominated_films)"
   ]
  },
  {
   "cell_type": "code",
   "execution_count": null,
   "metadata": {},
   "outputs": [],
   "source": [
    "best_dir_df = data[['Title','Rel_year','Dir1','Dir2','Dir3']]\n",
    "best_dir_df['Dir_noms']=oscar_cnt\n",
    "best_dir_df[best_dir_df['Dir_noms'].apply(lambda x: len(x)) > 0]"
   ]
  },
  {
   "cell_type": "markdown",
   "metadata": {},
   "source": [
    "#### Best Picture (Directors)"
   ]
  },
  {
   "cell_type": "code",
   "execution_count": null,
   "metadata": {},
   "outputs": [],
   "source": [
    "oscars_data.iloc[:,1:13]"
   ]
  },
  {
   "cell_type": "code",
   "execution_count": null,
   "metadata": {},
   "outputs": [],
   "source": [
    "total_lst=[]\n",
    "for col in oscars_data.iloc[:,1:13]:\n",
    "    nom_lst = oscars_data[col]\n",
    "    category_lst=[]\n",
    "    for nom,yr in zip(nom_lst, oscars_data.iloc[:,0]):\n",
    "        new_lst = []\n",
    "        new_lst.append(yr)\n",
    "        new_lst.append(nom)\n",
    "        category_lst.append(new_lst)\n",
    "    total_lst.append(category_lst)"
   ]
  },
  {
   "cell_type": "code",
   "execution_count": null,
   "metadata": {},
   "outputs": [],
   "source": [
    "best_pic_list = [item for sublist in total_lst for item in sublist]\n",
    "best_pic_noms = pd.DataFrame(best_pic_list, columns=['Year','Film'])\n",
    "best_pic_noms = best_pic_noms.dropna()\n",
    "best_pic_noms = best_pic_noms.sort_values(by='Year', ascending=True).reset_index(drop=True)\n",
    "best_pic_noms"
   ]
  },
  {
   "cell_type": "code",
   "execution_count": null,
   "metadata": {},
   "outputs": [],
   "source": [
    "titles = list(data['Title'])\n",
    "years = list(data['Rel_year'])\n",
    "dir1 = list(data['Dir1_films'])\n",
    "dir2 = list(data['Dir2_films'])\n",
    "dir3 = list(data['Dir3_films'])\n",
    "\n",
    "oscar_cnt = []\n",
    "for t,yr,d1,d2,d3 in zip(titles,years,dir1,dir2,dir3):\n",
    "    df_year = best_pic_noms[best_pic_noms['Year']<yr]\n",
    "    if d1==None:\n",
    "        films1=[]\n",
    "        yr1=[]\n",
    "    else:\n",
    "        yr1 = list(d1.values())\n",
    "        films1 = list(d1.keys())\n",
    "    if d2==None:\n",
    "        films2=[]\n",
    "        yr2=[]\n",
    "    else:\n",
    "        yr2 = list(d2.values())\n",
    "        films2 = list(d2.keys())\n",
    "    if d3==None:\n",
    "        films3=[]\n",
    "        yr3=[]\n",
    "    else:\n",
    "        yr3 = list(d3.values())\n",
    "        films3 = list(d3.keys())\n",
    "    \n",
    "    nominated_films = []\n",
    "    for f,yr_ in zip(list(df_year['Film']),list(df_year['Year'])):\n",
    "        for f_,y in zip(films1,range(len(films1))):\n",
    "            if (f==f_) and (abs(yr_-yr1[y])<=1):\n",
    "                nominated_films.append(f)\n",
    "        for f_,y in zip(films2,range(len(films2))):\n",
    "            if (f==f_) and (abs(yr_-yr2[y])<=1):\n",
    "                nominated_films.append(f)\n",
    "        for f_,y in zip(films3,range(len(films3))):\n",
    "            if (f==f_) and (abs(yr_-yr3[y])<=1):\n",
    "                nominated_films.append(f)\n",
    "    nom_cnt = len(list(set(nominated_films)))\n",
    "    oscar_cnt.append(list(set(nominated_films)))"
   ]
  },
  {
   "cell_type": "code",
   "execution_count": null,
   "metadata": {},
   "outputs": [],
   "source": [
    "best_pic_df = data[['Title','Rel_year','Dir1','Dir1_films']]\n",
    "best_pic_df['Best_pic_noms']=oscar_cnt\n",
    "best_pic_df[best_pic_df['Best_pic_noms'].apply(lambda x: len(x)) > 0]"
   ]
  },
  {
   "cell_type": "markdown",
   "metadata": {},
   "source": [
    "#### Best Foreign Film (Directors)"
   ]
  },
  {
   "cell_type": "code",
   "execution_count": null,
   "metadata": {},
   "outputs": [],
   "source": [
    "oscars_data.iloc[:,67:72]"
   ]
  },
  {
   "cell_type": "code",
   "execution_count": null,
   "metadata": {},
   "outputs": [],
   "source": [
    "total_lst = []\n",
    "for col in oscars_data.iloc[:,67:72]:\n",
    "    nom_lst = oscars_data[col]\n",
    "    category_lst=[]\n",
    "    for nom,yr in zip(nom_lst, oscars_data.iloc[:,0]):\n",
    "        value = list(set(nom.values()))[0]\n",
    "        new_lst = []\n",
    "        new_lst.append(yr)\n",
    "        new_lst.append(value)\n",
    "        category_lst.append(new_lst)\n",
    "    total_lst.append(category_lst)"
   ]
  },
  {
   "cell_type": "code",
   "execution_count": null,
   "metadata": {},
   "outputs": [],
   "source": [
    "best_for_pic_list = [item for sublist in total_lst for item in sublist]\n",
    "best_for_pic_noms = pd.DataFrame(best_for_pic_list, columns=['Year','Film'])\n",
    "best_for_pic_noms = best_for_pic_noms.dropna()\n",
    "best_for_pic_noms = best_for_pic_noms.sort_values(by='Year', ascending=True).reset_index(drop=True)\n",
    "best_for_pic_noms"
   ]
  },
  {
   "cell_type": "code",
   "execution_count": null,
   "metadata": {},
   "outputs": [],
   "source": [
    "titles = list(data['Title'])\n",
    "years = list(data['Rel_year'])\n",
    "dir1 = list(data['Dir1_films'])\n",
    "dir2 = list(data['Dir2_films'])\n",
    "dir3 = list(data['Dir3_films'])\n",
    "\n",
    "oscar_cnt = []\n",
    "for t,yr,d1,d2,d3 in zip(titles,years,dir1,dir2,dir3):\n",
    "    df_year = best_for_pic_noms[best_for_pic_noms['Year']<yr]\n",
    "    if d1==None:\n",
    "        films1=[]\n",
    "        yr1=[]\n",
    "    else:\n",
    "        yr1 = list(d1.values())\n",
    "        films1 = list(d1.keys())\n",
    "    if d2==None:\n",
    "        films2=[]\n",
    "        yr2=[]\n",
    "    else:\n",
    "        yr2 = list(d2.values())\n",
    "        films2 = list(d2.keys())\n",
    "    if d3==None:\n",
    "        films3=[]\n",
    "        yr3=[]\n",
    "    else:\n",
    "        yr3 = list(d3.values())\n",
    "        films3 = list(d3.keys())\n",
    "    \n",
    "    nominated_films = []\n",
    "    for f,yr_ in zip(list(df_year['Film']),list(df_year['Year'])):\n",
    "        for f_,y in zip(films1,range(len(films1))):\n",
    "            if (f==f_) and (abs(yr_-yr1[y])<=1):\n",
    "                nominated_films.append(f)\n",
    "        for f_,y in zip(films2,range(len(films2))):\n",
    "            if (f==f_) and (abs(yr_-yr2[y])<=1):\n",
    "                nominated_films.append(f)\n",
    "        for f_,y in zip(films3,range(len(films3))):\n",
    "            if (f==f_) and (abs(yr_-yr3[y])<=1):\n",
    "                nominated_films.append(f)\n",
    "    nom_cnt = len(list(set(nominated_films)))\n",
    "    oscar_cnt.append(list(set(nominated_films)))"
   ]
  },
  {
   "cell_type": "code",
   "execution_count": null,
   "metadata": {},
   "outputs": [],
   "source": [
    "best_for_pic_df = data[['Title','Rel_year','Dir1','Dir1_films']]\n",
    "best_for_pic_df['Best_for_pic_noms']=oscar_cnt\n",
    "best_for_pic_df[best_for_pic_df['Best_for_pic_noms'].apply(lambda x: len(x)) > 0]"
   ]
  },
  {
   "cell_type": "markdown",
   "metadata": {},
   "source": [
    "#### Best Documentary (Directors)"
   ]
  },
  {
   "cell_type": "code",
   "execution_count": null,
   "metadata": {},
   "outputs": [],
   "source": [
    "oscars_data.iloc[:,72:77]"
   ]
  },
  {
   "cell_type": "code",
   "execution_count": null,
   "metadata": {},
   "outputs": [],
   "source": [
    "total_lst=[]\n",
    "for col in oscars_data.iloc[:,72:77]:\n",
    "    nom_lst = oscars_data[col]\n",
    "    category_lst=[]\n",
    "    for nom,yr in zip(nom_lst, oscars_data.iloc[:,0]):\n",
    "        new_lst = []\n",
    "        new_lst.append(yr)\n",
    "        new_lst.append(nom)\n",
    "        category_lst.append(new_lst)\n",
    "    total_lst.append(category_lst)"
   ]
  },
  {
   "cell_type": "code",
   "execution_count": null,
   "metadata": {},
   "outputs": [],
   "source": [
    "best_doc_list = [item for sublist in total_lst for item in sublist]\n",
    "best_doc_noms = pd.DataFrame(best_doc_list, columns=['Year','Film'])\n",
    "best_doc_noms = best_doc_noms.dropna()\n",
    "best_doc_noms = best_doc_noms.sort_values(by='Year', ascending=True).reset_index(drop=True)\n",
    "best_doc_noms"
   ]
  },
  {
   "cell_type": "code",
   "execution_count": null,
   "metadata": {},
   "outputs": [],
   "source": [
    "titles = list(data['Title'])\n",
    "years = list(data['Rel_year'])\n",
    "dir1 = list(data['Dir1_films'])\n",
    "dir2 = list(data['Dir2_films'])\n",
    "dir3 = list(data['Dir3_films'])\n",
    "\n",
    "oscar_cnt = []\n",
    "for t,yr,d1,d2,d3 in zip(titles,years,dir1,dir2,dir3):\n",
    "    df_year = best_doc_noms[best_doc_noms['Year']<yr]\n",
    "    if d1==None:\n",
    "        films1=[]\n",
    "        yr1=[]\n",
    "    else:\n",
    "        yr1 = list(d1.values())\n",
    "        films1 = list(d1.keys())\n",
    "    if d2==None:\n",
    "        films2=[]\n",
    "        yr2=[]\n",
    "    else:\n",
    "        yr2 = list(d2.values())\n",
    "        films2 = list(d2.keys())\n",
    "    if d3==None:\n",
    "        films3=[]\n",
    "        yr3=[]\n",
    "    else:\n",
    "        yr3 = list(d3.values())\n",
    "        films3 = list(d3.keys())\n",
    "    \n",
    "    nominated_films = []\n",
    "    for f,yr_ in zip(list(df_year['Film']),list(df_year['Year'])):\n",
    "        for f_,y in zip(films1,range(len(films1))):\n",
    "            if (f==f_) and (abs(yr_-yr1[y])<=1):\n",
    "                nominated_films.append(f)\n",
    "        for f_,y in zip(films2,range(len(films2))):\n",
    "            if (f==f_) and (abs(yr_-yr2[y])<=1):\n",
    "                nominated_films.append(f)\n",
    "        for f_,y in zip(films3,range(len(films3))):\n",
    "            if (f==f_) and (abs(yr_-yr3[y])<=1):\n",
    "                nominated_films.append(f)\n",
    "    nom_cnt = len(list(set(nominated_films)))\n",
    "    oscar_cnt.append(list(set(nominated_films)))"
   ]
  },
  {
   "cell_type": "code",
   "execution_count": null,
   "metadata": {},
   "outputs": [],
   "source": [
    "best_doc_df = data[['Title','Rel_year','Dir1','Dir1_films']]\n",
    "best_doc_df['Best_doc_noms']=oscar_cnt\n",
    "best_doc_df[best_doc_df['Best_doc_noms'].apply(lambda x: len(x)) > 0]"
   ]
  },
  {
   "cell_type": "markdown",
   "metadata": {},
   "source": [
    "#### Best Animated Film (Directors)"
   ]
  },
  {
   "cell_type": "code",
   "execution_count": null,
   "metadata": {},
   "outputs": [],
   "source": [
    "oscars_data.iloc[:,77:]"
   ]
  },
  {
   "cell_type": "code",
   "execution_count": null,
   "metadata": {},
   "outputs": [],
   "source": [
    "total_lst=[]\n",
    "for col in oscars_data.iloc[:,77:]:\n",
    "    nom_lst = oscars_data[col]\n",
    "    category_lst=[]\n",
    "    for nom,yr in zip(nom_lst, oscars_data.iloc[:,0]):\n",
    "        new_lst = []\n",
    "        new_lst.append(yr)\n",
    "        new_lst.append(nom)\n",
    "        category_lst.append(new_lst)\n",
    "    total_lst.append(category_lst)"
   ]
  },
  {
   "cell_type": "code",
   "execution_count": null,
   "metadata": {},
   "outputs": [],
   "source": [
    "best_anim_list = [item for sublist in total_lst for item in sublist]\n",
    "best_anim_noms = pd.DataFrame(best_anim_list, columns=['Year','Film'])\n",
    "best_anim_noms = best_anim_noms.dropna()\n",
    "best_anim_noms = best_anim_noms.sort_values(by='Year', ascending=True).reset_index(drop=True)\n",
    "best_anim_noms"
   ]
  },
  {
   "cell_type": "code",
   "execution_count": null,
   "metadata": {},
   "outputs": [],
   "source": [
    "titles = list(data['Title'])\n",
    "years = list(data['Rel_year'])\n",
    "dir1 = list(data['Dir1_films'])\n",
    "dir2 = list(data['Dir2_films'])\n",
    "dir3 = list(data['Dir3_films'])\n",
    "\n",
    "oscar_cnt = []\n",
    "for t,yr,d1,d2,d3 in zip(titles,years,dir1,dir2,dir3):\n",
    "    df_year = best_anim_noms[best_anim_noms['Year']<yr]\n",
    "    if d1==None:\n",
    "        films1=[]\n",
    "        yr1=[]\n",
    "    else:\n",
    "        yr1 = list(d1.values())\n",
    "        films1 = list(d1.keys())\n",
    "    if d2==None:\n",
    "        films2=[]\n",
    "        yr2=[]\n",
    "    else:\n",
    "        yr2 = list(d2.values())\n",
    "        films2 = list(d2.keys())\n",
    "    if d3==None:\n",
    "        films3=[]\n",
    "        yr3=[]\n",
    "    else:\n",
    "        yr3 = list(d3.values())\n",
    "        films3 = list(d3.keys())\n",
    "    \n",
    "    nominated_films = []\n",
    "    for f,yr_ in zip(list(df_year['Film']),list(df_year['Year'])):\n",
    "        for f_,y in zip(films1,range(len(films1))):\n",
    "            if (f==f_) and (abs(yr_-yr1[y])<=1):\n",
    "                nominated_films.append(f)\n",
    "        for f_,y in zip(films2,range(len(films2))):\n",
    "            if (f==f_) and (abs(yr_-yr2[y])<=1):\n",
    "                nominated_films.append(f)\n",
    "        for f_,y in zip(films3,range(len(films3))):\n",
    "            if (f==f_) and (abs(yr_-yr3[y])<=1):\n",
    "                nominated_films.append(f)\n",
    "    nom_cnt = len(list(set(nominated_films)))\n",
    "    oscar_cnt.append(list(set(nominated_films)))"
   ]
  },
  {
   "cell_type": "code",
   "execution_count": null,
   "metadata": {},
   "outputs": [],
   "source": [
    "best_anim_df = data[['Title','Rel_year','Dir1','Dir1_films']]\n",
    "best_anim_df['Best_anim_noms']=oscar_cnt\n",
    "best_anim_df[best_anim_df['Best_anim_noms'].apply(lambda x: len(x)) > 0]"
   ]
  },
  {
   "cell_type": "code",
   "execution_count": null,
   "metadata": {},
   "outputs": [],
   "source": [
    "dir_noms_df = data[['Title','Rel_year','Dir1','Dir2','Dir3']]\n",
    "dir_noms_df['Best_dir_noms'] = list(best_dir_df['Dir_noms'])\n",
    "dir_noms_df['Best_pic_noms'] = list(best_pic_df['Best_pic_noms'])\n",
    "dir_noms_df['Best_for_pic_noms'] = list(best_for_pic_df['Best_for_pic_noms'])\n",
    "dir_noms_df['Best_doc_noms'] = list(best_doc_df['Best_doc_noms'])\n",
    "dir_noms_df['Best_anim_noms'] = list(best_anim_df['Best_anim_noms'])"
   ]
  },
  {
   "cell_type": "code",
   "execution_count": null,
   "metadata": {},
   "outputs": [],
   "source": [
    "cnt_lst = []\n",
    "for i in range(622):\n",
    "    f_lst = []\n",
    "    f1 = dir_noms_df['Best_dir_noms'].iloc[i]\n",
    "    f2 = dir_noms_df['Best_pic_noms'].iloc[i]\n",
    "    f3 = dir_noms_df['Best_for_pic_noms'].iloc[i]\n",
    "    f4 = dir_noms_df['Best_doc_noms'].iloc[i]\n",
    "    f5 = dir_noms_df['Best_anim_noms'].iloc[i]\n",
    "    f_lst.append(f1)\n",
    "    f_lst.append(f2)\n",
    "    f_lst.append(f3)\n",
    "    f_lst.append(f4)\n",
    "    f_lst.append(f5)\n",
    "    f_cnt = len(set([item for sublist in f_lst for item in sublist]))\n",
    "    cnt_lst.append(f_cnt)\n",
    "    \n",
    "dir_noms_df['Dir_nom_cnt'] = cnt_lst"
   ]
  },
  {
   "cell_type": "code",
   "execution_count": null,
   "metadata": {
    "scrolled": false
   },
   "outputs": [],
   "source": [
    "dir_noms_df[dir_noms_df['Dir_nom_cnt']>0]"
   ]
  },
  {
   "cell_type": "markdown",
   "metadata": {},
   "source": [
    "## Best Writers "
   ]
  },
  {
   "cell_type": "code",
   "execution_count": null,
   "metadata": {},
   "outputs": [],
   "source": [
    "oscars_data.iloc[:,45:67]"
   ]
  },
  {
   "cell_type": "code",
   "execution_count": null,
   "metadata": {},
   "outputs": [],
   "source": [
    "total_lst=[]\n",
    "for col in oscars_data.iloc[:,45:67]:\n",
    "    nom_lst = oscars_data[col]\n",
    "    category_lst=[]\n",
    "    for nom,yr in zip(nom_lst, oscars_data.iloc[:,0]):\n",
    "        keys = list(nom.keys())\n",
    "        value = list(set(nom.values()))[0]\n",
    "\n",
    "        for k in keys:\n",
    "            new_lst = []\n",
    "            new_lst.append(yr)\n",
    "            new_lst.append(k)\n",
    "            new_lst.append(value)\n",
    "            category_lst.append(new_lst)\n",
    "    total_lst.append(category_lst)"
   ]
  },
  {
   "cell_type": "code",
   "execution_count": null,
   "metadata": {},
   "outputs": [],
   "source": [
    "writer_list = [item for sublist in total_lst for item in sublist]\n",
    "writer_noms = pd.DataFrame(writer_list, columns=['Year','Name','Film'])\n",
    "writer_noms = writer_noms.dropna()\n",
    "writer_noms = writer_noms.sort_values(by='Year', ascending=True).reset_index(drop=True)\n",
    "writer_noms"
   ]
  },
  {
   "cell_type": "code",
   "execution_count": null,
   "metadata": {
    "scrolled": false
   },
   "outputs": [],
   "source": [
    "titles = list(data['Title'])\n",
    "years = list(data['Rel_year'])\n",
    "writer1 = list(data['Writer1'])\n",
    "writer2 = list(data['Writer2'])\n",
    "writer3 = list(data['Writer3'])\n",
    "\n",
    "oscar_cnt = []\n",
    "for t,yr,d1,d2,d3 in zip(titles,years,writer1,writer2,writer3):\n",
    "    df_year = writer_noms[writer_noms['Year']<yr]\n",
    "    nominated_films = []\n",
    "    for n,f in zip(list(df_year['Name']),list(df_year['Film'])):\n",
    "        if t==f:\n",
    "            continue\n",
    "        elif n==d1:\n",
    "            nominated_films.append(f)\n",
    "        elif n==d2:\n",
    "            nominated_films.append(f)\n",
    "        elif n==d3:\n",
    "            nominated_films.append(f)\n",
    "    nominated_films = list(set(nominated_films))\n",
    "    oscar_cnt.append(nominated_films)\n",
    "\n",
    "best_writer_df = data[['Title','Rel_year','Writer1','Writer2','Writer3']]\n",
    "best_writer_df['Writer_noms']=oscar_cnt\n",
    "best_writer_df[best_writer_df['Writer_noms'].apply(lambda x: len(x)) > 0]"
   ]
  },
  {
   "cell_type": "markdown",
   "metadata": {},
   "source": [
    "#### Best Picture (Writers)"
   ]
  },
  {
   "cell_type": "code",
   "execution_count": null,
   "metadata": {},
   "outputs": [],
   "source": [
    "titles = list(data['Title'])\n",
    "years = list(data['Rel_year'])\n",
    "writer1 = list(data['Writer1_films'])\n",
    "writer2 = list(data['Writer2_films'])\n",
    "writer3 = list(data['Writer3_films'])\n",
    "\n",
    "oscar_cnt = []\n",
    "for t,yr,d1,d2,d3 in zip(titles,years,writer1,writer2,writer3):\n",
    "    df_year = best_pic_noms[best_pic_noms['Year']<yr]\n",
    "    if d1==None:\n",
    "        films1=[]\n",
    "        yr1=[]\n",
    "    else:\n",
    "        yr1 = list(d1.values())\n",
    "        films1 = list(d1.keys())\n",
    "    if d2==None:\n",
    "        films2=[]\n",
    "        yr2=[]\n",
    "    else:\n",
    "        yr2 = list(d2.values())\n",
    "        films2 = list(d2.keys())\n",
    "    if d3==None:\n",
    "        films3=[]\n",
    "        yr3=[]\n",
    "    else:\n",
    "        yr3 = list(d3.values())\n",
    "        films3 = list(d3.keys())\n",
    "    \n",
    "    nominated_films = []\n",
    "    for f,yr_ in zip(list(df_year['Film']),list(df_year['Year'])):\n",
    "        for f_,y in zip(films1,range(len(films1))):\n",
    "            if (f==f_) and (abs(yr_-yr1[y])<=1):\n",
    "                nominated_films.append(f)\n",
    "        for f_,y in zip(films2,range(len(films2))):\n",
    "            if (f==f_) and (abs(yr_-yr2[y])<=1):\n",
    "                nominated_films.append(f)\n",
    "        for f_,y in zip(films3,range(len(films3))):\n",
    "            if (f==f_) and (abs(yr_-yr3[y])<=1):\n",
    "                nominated_films.append(f)\n",
    "    nom_cnt = len(list(set(nominated_films)))\n",
    "    oscar_cnt.append(list(set(nominated_films)))"
   ]
  },
  {
   "cell_type": "code",
   "execution_count": null,
   "metadata": {},
   "outputs": [],
   "source": [
    "best_pic_writer_df = data[['Title','Rel_year','Writer1','Writer2','Writer3','Writer1_films']]\n",
    "best_pic_writer_df['Best_pic_writer_noms']=oscar_cnt\n",
    "best_pic_writer_df[best_pic_writer_df['Best_pic_writer_noms'].apply(lambda x: len(x)) > 0]"
   ]
  },
  {
   "cell_type": "markdown",
   "metadata": {},
   "source": [
    "#### Best Foreign Film (Writers)"
   ]
  },
  {
   "cell_type": "code",
   "execution_count": null,
   "metadata": {},
   "outputs": [],
   "source": [
    "titles = list(data['Title'])\n",
    "years = list(data['Rel_year'])\n",
    "writer1 = list(data['Writer1_films'])\n",
    "writer2 = list(data['Writer2_films'])\n",
    "writer3 = list(data['Writer3_films'])\n",
    "\n",
    "oscar_cnt = []\n",
    "for t,yr,d1,d2,d3 in zip(titles,years,writer1,writer2,writer3):\n",
    "    df_year = best_for_pic_noms[best_for_pic_noms['Year']<yr]\n",
    "    if d1==None:\n",
    "        films1=[]\n",
    "        yr1=[]\n",
    "    else:\n",
    "        yr1 = list(d1.values())\n",
    "        films1 = list(d1.keys())\n",
    "    if d2==None:\n",
    "        films2=[]\n",
    "        yr2=[]\n",
    "    else:\n",
    "        yr2 = list(d2.values())\n",
    "        films2 = list(d2.keys())\n",
    "    if d3==None:\n",
    "        films3=[]\n",
    "        yr3=[]\n",
    "    else:\n",
    "        yr3 = list(d3.values())\n",
    "        films3 = list(d3.keys())\n",
    "    \n",
    "    nominated_films = []\n",
    "    for f,yr_ in zip(list(df_year['Film']),list(df_year['Year'])):\n",
    "        for f_,y in zip(films1,range(len(films1))):\n",
    "            if (f==f_) and (abs(yr_-yr1[y])<=1):\n",
    "                nominated_films.append(f)\n",
    "        for f_,y in zip(films2,range(len(films2))):\n",
    "            if (f==f_) and (abs(yr_-yr2[y])<=1):\n",
    "                nominated_films.append(f)\n",
    "        for f_,y in zip(films3,range(len(films3))):\n",
    "            if (f==f_) and (abs(yr_-yr3[y])<=1):\n",
    "                nominated_films.append(f)\n",
    "    nom_cnt = len(list(set(nominated_films)))\n",
    "    oscar_cnt.append(list(set(nominated_films)))"
   ]
  },
  {
   "cell_type": "code",
   "execution_count": null,
   "metadata": {},
   "outputs": [],
   "source": [
    "best_for_pic_writer_df = data[['Title','Rel_year','Writer1','Writer2','Writer3','Writer1_films']]\n",
    "best_for_pic_writer_df['Best_for_pic_writer_noms']=oscar_cnt\n",
    "best_for_pic_writer_df[best_for_pic_writer_df['Best_for_pic_writer_noms'].apply(lambda x: len(x)) > 0]"
   ]
  },
  {
   "cell_type": "markdown",
   "metadata": {},
   "source": [
    "#### Best Documentary (Writers)"
   ]
  },
  {
   "cell_type": "code",
   "execution_count": null,
   "metadata": {},
   "outputs": [],
   "source": [
    "writer1 = list(data['Writer1_films'])\n",
    "writer2 = list(data['Writer2_films'])\n",
    "writer3 = list(data['Writer3_films'])\n",
    "\n",
    "oscar_cnt = []\n",
    "for t,yr,d1,d2,d3 in zip(titles,years,writer1,writer2,writer3):\n",
    "    df_year = best_doc_noms[best_doc_noms['Year']<yr]\n",
    "    if d1==None:\n",
    "        films1=[]\n",
    "        yr1=[]\n",
    "    else:\n",
    "        yr1 = list(d1.values())\n",
    "        films1 = list(d1.keys())\n",
    "    if d2==None:\n",
    "        films2=[]\n",
    "        yr2=[]\n",
    "    else:\n",
    "        yr2 = list(d2.values())\n",
    "        films2 = list(d2.keys())\n",
    "    if d3==None:\n",
    "        films3=[]\n",
    "        yr3=[]\n",
    "    else:\n",
    "        yr3 = list(d3.values())\n",
    "        films3 = list(d3.keys())\n",
    "    \n",
    "    nominated_films = []\n",
    "    for f,yr_ in zip(list(df_year['Film']),list(df_year['Year'])):\n",
    "        for f_,y in zip(films1,range(len(films1))):\n",
    "            if (f==f_) and (abs(yr_-yr1[y])<=1):\n",
    "                nominated_films.append(f)\n",
    "        for f_,y in zip(films2,range(len(films2))):\n",
    "            if (f==f_) and (abs(yr_-yr2[y])<=1):\n",
    "                nominated_films.append(f)\n",
    "        for f_,y in zip(films3,range(len(films3))):\n",
    "            if (f==f_) and (abs(yr_-yr3[y])<=1):\n",
    "                nominated_films.append(f)\n",
    "    nom_cnt = len(list(set(nominated_films)))\n",
    "    oscar_cnt.append(list(set(nominated_films)))"
   ]
  },
  {
   "cell_type": "code",
   "execution_count": null,
   "metadata": {},
   "outputs": [],
   "source": [
    "best_doc_writer_df = data[['Title','Rel_year','Writer1','Writer2','Writer3','Writer1_films']]\n",
    "best_doc_writer_df['Best_doc_writer_noms']=oscar_cnt\n",
    "best_doc_writer_df[best_doc_writer_df['Best_doc_writer_noms'].apply(lambda x: len(x)) > 0]"
   ]
  },
  {
   "cell_type": "markdown",
   "metadata": {},
   "source": [
    "#### Best Animated Film (Writers)"
   ]
  },
  {
   "cell_type": "code",
   "execution_count": null,
   "metadata": {},
   "outputs": [],
   "source": [
    "oscar_cnt = []\n",
    "for t,yr,d1,d2,d3 in zip(titles,years,writer1,writer2,writer3):\n",
    "    df_year = best_anim_noms[best_anim_noms['Year']<yr]\n",
    "    if d1==None:\n",
    "        films1=[]\n",
    "        yr1=[]\n",
    "    else:\n",
    "        yr1 = list(d1.values())\n",
    "        films1 = list(d1.keys())\n",
    "    if d2==None:\n",
    "        films2=[]\n",
    "        yr2=[]\n",
    "    else:\n",
    "        yr2 = list(d2.values())\n",
    "        films2 = list(d2.keys())\n",
    "    if d3==None:\n",
    "        films3=[]\n",
    "        yr3=[]\n",
    "    else:\n",
    "        yr3 = list(d3.values())\n",
    "        films3 = list(d3.keys())\n",
    "    \n",
    "    nominated_films = []\n",
    "    for f,yr_ in zip(list(df_year['Film']),list(df_year['Year'])):\n",
    "        for f_,y in zip(films1,range(len(films1))):\n",
    "            if (f==f_) and (abs(yr_-yr1[y])<=1):\n",
    "                nominated_films.append(f)\n",
    "        for f_,y in zip(films2,range(len(films2))):\n",
    "            if (f==f_) and (abs(yr_-yr2[y])<=1):\n",
    "                nominated_films.append(f)\n",
    "        for f_,y in zip(films3,range(len(films3))):\n",
    "            if (f==f_) and (abs(yr_-yr3[y])<=1):\n",
    "                nominated_films.append(f)\n",
    "    nom_cnt = len(list(set(nominated_films)))\n",
    "    oscar_cnt.append(list(set(nominated_films)))"
   ]
  },
  {
   "cell_type": "code",
   "execution_count": null,
   "metadata": {},
   "outputs": [],
   "source": [
    "best_anim_writer_df = data[['Title','Rel_year','Writer1','Writer2','Writer3','Writer1_films']]\n",
    "best_anim_writer_df['Best_anim_writer_noms']=oscar_cnt\n",
    "best_anim_writer_df[best_anim_writer_df['Best_anim_writer_noms'].apply(lambda x: len(x)) > 0]"
   ]
  },
  {
   "cell_type": "code",
   "execution_count": null,
   "metadata": {},
   "outputs": [],
   "source": [
    "writer_noms_df = data[['Title','Rel_year','Writer1','Writer2','Writer3']]\n",
    "writer_noms_df['Best_writer_noms'] = list(best_writer_df['Writer_noms'])\n",
    "writer_noms_df['Best_pic_noms'] = list(best_pic_writer_df['Best_pic_writer_noms'])\n",
    "writer_noms_df['Best_for_pic_noms'] = list(best_for_pic_writer_df['Best_for_pic_writer_noms'])\n",
    "writer_noms_df['Best_doc_noms'] = list(best_doc_writer_df['Best_doc_writer_noms'])\n",
    "writer_noms_df['Best_anim_noms'] = list(best_anim_writer_df['Best_anim_writer_noms'])"
   ]
  },
  {
   "cell_type": "code",
   "execution_count": null,
   "metadata": {},
   "outputs": [],
   "source": [
    "cnt_lst = []\n",
    "for i in range(622):\n",
    "    f_lst = []\n",
    "    f1 = writer_noms_df['Best_writer_noms'].iloc[i]\n",
    "    f2 = writer_noms_df['Best_pic_noms'].iloc[i]\n",
    "    f3 = writer_noms_df['Best_for_pic_noms'].iloc[i]\n",
    "    f4 = writer_noms_df['Best_doc_noms'].iloc[i]\n",
    "    f5 = writer_noms_df['Best_anim_noms'].iloc[i]\n",
    "    f_lst.append(f1)\n",
    "    f_lst.append(f2)\n",
    "    f_lst.append(f3)\n",
    "    f_lst.append(f4)\n",
    "    f_lst.append(f5)\n",
    "    f_cnt = len(set([item for sublist in f_lst for item in sublist]))\n",
    "    cnt_lst.append(f_cnt)\n",
    "    \n",
    "writer_noms_df['Writer_nom_cnt'] = cnt_lst"
   ]
  },
  {
   "cell_type": "code",
   "execution_count": null,
   "metadata": {
    "scrolled": true
   },
   "outputs": [],
   "source": [
    "writer_noms_df[writer_noms_df['Writer_nom_cnt']>0]"
   ]
  },
  {
   "cell_type": "markdown",
   "metadata": {},
   "source": [
    "## Best Actors "
   ]
  },
  {
   "cell_type": "code",
   "execution_count": null,
   "metadata": {},
   "outputs": [],
   "source": [
    "oscars_data.iloc[:,13:38]"
   ]
  },
  {
   "cell_type": "code",
   "execution_count": null,
   "metadata": {},
   "outputs": [],
   "source": [
    "total_lst=[]\n",
    "for col in oscars_data.iloc[:,13:38]:\n",
    "    nom_lst = oscars_data[col]\n",
    "    category_lst=[]\n",
    "    for nom,yr in zip(nom_lst, oscars_data.iloc[:,0]):\n",
    "        keys = list(nom.keys())\n",
    "        value = list(set(nom.values()))[0]\n",
    "\n",
    "        for k in keys:\n",
    "            new_lst = []\n",
    "            new_lst.append(yr)\n",
    "            new_lst.append(k)\n",
    "            new_lst.append(value)\n",
    "            category_lst.append(new_lst)\n",
    "    total_lst.append(category_lst)"
   ]
  },
  {
   "cell_type": "code",
   "execution_count": null,
   "metadata": {},
   "outputs": [],
   "source": [
    "actor_list = [item for sublist in total_lst for item in sublist]\n",
    "actor_noms = pd.DataFrame(actor_list, columns=['Year','Name','Film'])\n",
    "actor_noms = actor_noms.dropna()\n",
    "actor_noms = actor_noms.sort_values(by='Year', ascending=True).reset_index(drop=True)\n",
    "actor_noms"
   ]
  },
  {
   "cell_type": "code",
   "execution_count": null,
   "metadata": {},
   "outputs": [],
   "source": [
    "titles = list(data['Title'])\n",
    "years = list(data['Rel_year'])\n",
    "actor1 = list(data['Actor1'])\n",
    "actor2 = list(data['Actor2'])\n",
    "actor3 = list(data['Actor3'])\n",
    "actor4 = list(data['Actor4'])\n",
    "actor5 = list(data['Actor5'])\n",
    "\n",
    "oscar_cnt = []\n",
    "for t,yr,d1,d2,d3,d4,d5 in zip(titles,years,actor1,actor2,actor3,actor4,actor5):\n",
    "    df_year = actor_noms[actor_noms['Year']<yr]\n",
    "    nominated_films = []\n",
    "    for n,f in zip(list(df_year['Name']),list(df_year['Film'])):\n",
    "        if t==f:\n",
    "            continue\n",
    "        elif n==d1:\n",
    "            nominated_films.append(f)\n",
    "        elif n==d2:\n",
    "            nominated_films.append(f)\n",
    "        elif n==d3:\n",
    "            nominated_films.append(f)\n",
    "        elif n==d4:\n",
    "            nominated_films.append(f)\n",
    "        elif n==d5:\n",
    "            nominated_films.append(f)\n",
    "    # nominated_films = list(set(nominated_films))\n",
    "    oscar_cnt.append(nominated_films)\n",
    "\n",
    "actor_noms_df = data[['Title','Rel_year','Actor1','Actor2','Actor3','Actor4','Actor5']]\n",
    "actor_noms_df['Actor_noms']=oscar_cnt\n",
    "actor_noms_df[actor_noms_df['Actor_noms'].apply(lambda x: len(x)) > 0]"
   ]
  },
  {
   "cell_type": "code",
   "execution_count": null,
   "metadata": {},
   "outputs": [],
   "source": [
    "actor_noms_df['Actor_nom_cnt'] = actor_noms_df['Actor_noms'].apply(lambda x: len(x))\n",
    "actor_noms_df[actor_noms_df['Actor_nom_cnt']>0]"
   ]
  },
  {
   "cell_type": "markdown",
   "metadata": {},
   "source": [
    "## Add Subgenres"
   ]
  },
  {
   "cell_type": "code",
   "execution_count": null,
   "metadata": {},
   "outputs": [],
   "source": [
    "# read in master data file\n",
    "data2 = pd.read_pickle('master_data_v2.pkl')"
   ]
  },
  {
   "cell_type": "code",
   "execution_count": null,
   "metadata": {},
   "outputs": [],
   "source": [
    "from ast import literal_eval\n",
    "\n",
    "genres = [literal_eval(item) for item in list(data2['Genre'])]\n",
    "genres = list(set([item for sublist in genres for item in sublist]))\n",
    "genres"
   ]
  },
  {
   "cell_type": "code",
   "execution_count": null,
   "metadata": {},
   "outputs": [],
   "source": [
    "lgbt = []\n",
    "for i in range(622):\n",
    "    keywords = data['Plot_keywords'].iloc[i]\n",
    "    title = data['Title'].iloc[i]\n",
    "    cnt=0\n",
    "    for k in keywords:\n",
    "        if ('gay' in k) or ('lesbian' in k) or ('bisexual' in k) or ('trans' in k) or ('queer' in k) or \\\n",
    "        ('homosexual' in k) or ('lgbt' in k.lower()) or ('homophob' in k) or ('closet' in k):\n",
    "            cnt+=1\n",
    "    if (cnt>2) or (title=='John Was Trying to Contact Aliens') or (title=='A Secret Love'):\n",
    "        lgbt.append(1)\n",
    "    else:\n",
    "        lgbt.append(0)"
   ]
  },
  {
   "cell_type": "code",
   "execution_count": null,
   "metadata": {
    "scrolled": false
   },
   "outputs": [],
   "source": [
    "data2['Genre_LGBTQ']=lgbt\n",
    "data_gay = data2[['Title','Plot_keywords','Genre_LGBTQ']]\n",
    "data_gay[data_gay['Genre_LGBTQ']==1]"
   ]
  },
  {
   "cell_type": "markdown",
   "metadata": {},
   "source": [
    "## Consolidate"
   ]
  },
  {
   "cell_type": "code",
   "execution_count": null,
   "metadata": {},
   "outputs": [],
   "source": [
    "# read in master data file\n",
    "data3 = pd.read_pickle('master_data_v2.pkl')"
   ]
  },
  {
   "cell_type": "code",
   "execution_count": null,
   "metadata": {},
   "outputs": [],
   "source": [
    "eng=[]\n",
    "for l in list(data3['Lang']):\n",
    "    if l=='English':\n",
    "        eng.append(1)\n",
    "    else:\n",
    "        eng.append(0)\n",
    "data3['Lang_eng']=eng"
   ]
  },
  {
   "cell_type": "code",
   "execution_count": null,
   "metadata": {},
   "outputs": [],
   "source": [
    "rating_cat = []\n",
    "for r in list(data3['Rating']):\n",
    "    r=str(r)\n",
    "    if (r=='R') or (r=='TV-MA'):\n",
    "        rating_cat.append('Restricted')\n",
    "    elif (r=='TV-14') or (r=='PG-13'):\n",
    "        rating_cat.append('Limited')\n",
    "    elif r=='nan':\n",
    "        rating_cat.append('Not rated')\n",
    "    else:\n",
    "        rating_cat.append('General')\n",
    "\n",
    "df_ratings = pd.DataFrame(rating_cat, columns=['Rating_cat'])\n",
    "df_ratings = pd.get_dummies(df_ratings, prefix=['Rating'])\n",
    "df_ratings[['Rating_General']]"
   ]
  },
  {
   "cell_type": "code",
   "execution_count": null,
   "metadata": {},
   "outputs": [],
   "source": [
    "# concatenate everything\n",
    "df_final_final = pd.concat([data3.iloc[:,:2],data3['Lang_eng'],data3.iloc[:,2:17],data2['Genre_LGBTQ'],\\\n",
    "                     data3.iloc[:,17:33],df_ratings['Rating_General'],data3.iloc[:,33:52],\\\n",
    "                     dir_noms_df['Dir_nom_cnt'],data3.iloc[:,52:65],writer_noms_df['Writer_nom_cnt'],\\\n",
    "                     data3.iloc[:,65:86],actor_noms_df['Actor_nom_cnt'],data3.iloc[:,86:91]], axis=1)"
   ]
  },
  {
   "cell_type": "code",
   "execution_count": null,
   "metadata": {},
   "outputs": [],
   "source": [
    "df_final_final.columns"
   ]
  },
  {
   "cell_type": "code",
   "execution_count": null,
   "metadata": {},
   "outputs": [],
   "source": [
    "# save final file\n",
    "# df_final_final.to_pickle('master_data_v3.pkl')"
   ]
  }
 ],
 "metadata": {
  "kernelspec": {
   "display_name": "Python 3",
   "language": "python",
   "name": "python3"
  },
  "language_info": {
   "codemirror_mode": {
    "name": "ipython",
    "version": 3
   },
   "file_extension": ".py",
   "mimetype": "text/x-python",
   "name": "python",
   "nbconvert_exporter": "python",
   "pygments_lexer": "ipython3",
   "version": "3.8.8"
  }
 },
 "nbformat": 4,
 "nbformat_minor": 4
}
