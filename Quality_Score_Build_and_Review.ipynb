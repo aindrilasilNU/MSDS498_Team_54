{
 "cells": [
  {
   "cell_type": "markdown",
   "metadata": {},
   "source": [
    "# Code 3: Build and Review of Netflix Quality Scores"
   ]
  },
  {
   "cell_type": "markdown",
   "metadata": {},
   "source": [
    "### Importing necessary libraries"
   ]
  },
  {
   "cell_type": "code",
   "execution_count": null,
   "metadata": {},
   "outputs": [],
   "source": [
    "import pandas as pd\n",
    "import numpy as np\n",
    "\n",
    "pd.set_option('display.max_colwidth', None)\n",
    "\n",
    "import seaborn as sns\n",
    "sns.set_theme()\n",
    "sns.set(rc={'figure.figsize':(12,8)})\n",
    "\n",
    "import warnings\n",
    "warnings.filterwarnings('ignore')\n",
    "\n",
    "from IPython.core.interactiveshell import InteractiveShell\n",
    "InteractiveShell.ast_node_interactivity = \"all\""
   ]
  },
  {
   "cell_type": "code",
   "execution_count": null,
   "metadata": {},
   "outputs": [],
   "source": [
    "# read in master data file\n",
    "data = pd.read_pickle('master_data_v2.pkl')\n",
    "data.head()"
   ]
  },
  {
   "cell_type": "code",
   "execution_count": null,
   "metadata": {},
   "outputs": [],
   "source": [
    "# take subset related to RT data\n",
    "data_subset = data[['Title','RT_score','RT_rev_cnt','RT_comb_score']]\n",
    "data_subset"
   ]
  },
  {
   "cell_type": "markdown",
   "metadata": {},
   "source": [
    "#### *Before*"
   ]
  },
  {
   "cell_type": "code",
   "execution_count": null,
   "metadata": {},
   "outputs": [],
   "source": [
    "data_subset.sort_values(by='RT_comb_score', ascending=False)[:20]"
   ]
  },
  {
   "cell_type": "code",
   "execution_count": null,
   "metadata": {},
   "outputs": [],
   "source": [
    "data_subset['RT_comb_score'].hist();"
   ]
  },
  {
   "cell_type": "markdown",
   "metadata": {},
   "source": [
    "## Identifying the right transformation"
   ]
  },
  {
   "cell_type": "markdown",
   "metadata": {},
   "source": [
    "### Standardized"
   ]
  },
  {
   "cell_type": "code",
   "execution_count": null,
   "metadata": {},
   "outputs": [],
   "source": [
    "from sklearn import preprocessing\n",
    "\n",
    "RT_comb_score = list(data_subset['RT_comb_score'])\n",
    "\n",
    "std_score = preprocessing.scale(RT_comb_score)\n",
    "\n",
    "data_subset['Std_score']=std_score\n",
    "\n",
    "data_subset.head()"
   ]
  },
  {
   "cell_type": "code",
   "execution_count": null,
   "metadata": {},
   "outputs": [],
   "source": [
    "data_subset['Std_score'].max()\n",
    "data_subset['Std_score'].min()"
   ]
  },
  {
   "cell_type": "code",
   "execution_count": null,
   "metadata": {},
   "outputs": [],
   "source": [
    "data_subset['Std_score'].hist();"
   ]
  },
  {
   "cell_type": "markdown",
   "metadata": {},
   "source": [
    "Hm, this looks pretty much identical to the normalized scores."
   ]
  },
  {
   "cell_type": "markdown",
   "metadata": {},
   "source": [
    "### Percentiles"
   ]
  },
  {
   "cell_type": "code",
   "execution_count": null,
   "metadata": {},
   "outputs": [],
   "source": [
    "data_subset['Pct_score'] = data_subset['RT_comb_score'].rank(pct=True)\n",
    "data_subset.head()"
   ]
  },
  {
   "cell_type": "code",
   "execution_count": null,
   "metadata": {},
   "outputs": [],
   "source": [
    "data_subset['Pct_score'].hist();"
   ]
  },
  {
   "cell_type": "code",
   "execution_count": null,
   "metadata": {},
   "outputs": [],
   "source": [
    "data_subset.sort_values(by='Pct_score', ascending=False)[:20]"
   ]
  },
  {
   "cell_type": "markdown",
   "metadata": {},
   "source": [
    "The problem with this is that it suggests there is an equal distribution of high-quality, medium-quality, and low-quality films, which intuitively feels wrong. It seems like bad films should be more prevalent, and good films should be more rare. However, we don't want the steep drop-off that we get with the normalized scores."
   ]
  },
  {
   "cell_type": "markdown",
   "metadata": {},
   "source": [
    "### Square root transformation"
   ]
  },
  {
   "cell_type": "code",
   "execution_count": null,
   "metadata": {},
   "outputs": [],
   "source": [
    "import math\n",
    "\n",
    "trans_score = []\n",
    "for i in RT_comb_score:\n",
    "    i_new = math.sqrt(i)\n",
    "    trans_score.append(i_new)\n",
    "\n",
    "data_subset['Trans_score'] = trans_score\n",
    "data_subset['Trans_score'].hist();"
   ]
  },
  {
   "cell_type": "code",
   "execution_count": null,
   "metadata": {},
   "outputs": [],
   "source": [
    "data_subset.sort_values(by='RT_comb_score', ascending=False)[:30].reset_index(drop=True)"
   ]
  },
  {
   "cell_type": "markdown",
   "metadata": {},
   "source": [
    "This feels like a much better representation of the distribution of quality among films."
   ]
  },
  {
   "cell_type": "markdown",
   "metadata": {},
   "source": [
    "## Identifying the right formula"
   ]
  },
  {
   "cell_type": "code",
   "execution_count": null,
   "metadata": {},
   "outputs": [],
   "source": [
    "colors = ['#c1071e','#b33a3a','#f2b0a5','#43465e','#751a2c']\n",
    "bg_color = '#fbfbfb'\n",
    "txt_color = '#5c5c5c'\n",
    "\n",
    "sns.palplot(colors)"
   ]
  },
  {
   "cell_type": "code",
   "execution_count": null,
   "metadata": {},
   "outputs": [],
   "source": [
    "#### COMBINED SCORE FORMULA ####\n",
    "RT_comb_score2 = (data_subset['RT_score']**2) * (data_subset['RT_rev_cnt']**0.5)\n",
    "RT_comb_score2\n",
    "\n",
    "sqrt_trans_score2 = []\n",
    "for i in RT_comb_score2:\n",
    "    i_norm = (i-RT_comb_score2.min())/(RT_comb_score2.max()-RT_comb_score2.min())\n",
    "    i_new = math.sqrt(i_norm)\n",
    "    sqrt_trans_score2.append(i_new)\n",
    "\n",
    "sns.set_style(\"white\", {'axes.grid' : False})\n",
    "\n",
    "data_subset['Form2_score'] = sqrt_trans_score2\n",
    "ax = sns.histplot(data_subset['Form2_score'], color='#c1071e');\n",
    "ax.set(xlabel='Movie Quality');"
   ]
  },
  {
   "cell_type": "code",
   "execution_count": null,
   "metadata": {},
   "outputs": [],
   "source": [
    "data_subset[data_subset['RT_rev_cnt']>=20].sort_values(by='Form2_score', ascending=True)[:10].reset_index(drop=True)"
   ]
  },
  {
   "cell_type": "markdown",
   "metadata": {},
   "source": [
    "This ranking is similar to the previous one, except it elevates some films with high scores but lower numbers of reviews (such as His House). This may be a better reflection of the \"quality\" metric we're after. "
   ]
  },
  {
   "cell_type": "code",
   "execution_count": null,
   "metadata": {},
   "outputs": [],
   "source": [
    "data['Form2_score']=sqrt_trans_score2"
   ]
  },
  {
   "cell_type": "markdown",
   "metadata": {},
   "source": [
    "# Cast/Crew Quality Scores"
   ]
  },
  {
   "cell_type": "markdown",
   "metadata": {},
   "source": [
    "First, we need to apply the same formula/transformations to the list of films in the cast/crew's filmographies."
   ]
  },
  {
   "cell_type": "code",
   "execution_count": null,
   "metadata": {},
   "outputs": [],
   "source": [
    "all_films_RT = pd.read_csv('filmography_RTscores.csv').iloc[:,2:]\n",
    "all_films_RT"
   ]
  },
  {
   "cell_type": "code",
   "execution_count": null,
   "metadata": {},
   "outputs": [],
   "source": [
    "#### COMBINED SCORE FORMULA ####\n",
    "RT_comb_score3 = (all_films_RT['Score']**2) * (all_films_RT['Revs']**0.5)\n",
    "RT_comb_score3\n",
    "\n",
    "sqrt_trans_score3 = []\n",
    "for i in RT_comb_score3:\n",
    "    i_norm = (i-RT_comb_score3.min())/(RT_comb_score3.max()-RT_comb_score3.min())\n",
    "    i_new = math.sqrt(i_norm)\n",
    "    sqrt_trans_score3.append(i_new)\n",
    "\n",
    "all_films_RT['Form2_score'] = sqrt_trans_score3\n",
    "all_films_RT['Form2_score'].hist();"
   ]
  },
  {
   "cell_type": "code",
   "execution_count": null,
   "metadata": {},
   "outputs": [],
   "source": [
    "all_films_RT.sort_values(by='Form2_score', ascending=False)[:20]"
   ]
  },
  {
   "cell_type": "markdown",
   "metadata": {},
   "source": [
    "Now we can use this to calculate the cast/crew quality scores."
   ]
  },
  {
   "cell_type": "code",
   "execution_count": null,
   "metadata": {},
   "outputs": [],
   "source": [
    "df_dirs = data[['Dir1','Dir2','Dir3']]\n",
    "df_dir_films = data[['Rel_year','Dir1_films','Dir2_films','Dir3_films']]"
   ]
  },
  {
   "cell_type": "code",
   "execution_count": null,
   "metadata": {},
   "outputs": [],
   "source": [
    "df_writer = data[['Writer1','Writer2','Writer3']]\n",
    "df_writer_films = data[['Rel_year','Writer1_films','Writer2_films','Writer3_films']]"
   ]
  },
  {
   "cell_type": "code",
   "execution_count": null,
   "metadata": {},
   "outputs": [],
   "source": [
    "df_actors = data[['Actor1','Actor2','Actor3','Actor4','Actor5']]\n",
    "df_actors_films = data[['Rel_year','Actor1_films','Actor2_films','Actor3_films','Actor4_films','Actor5_films']]"
   ]
  },
  {
   "cell_type": "code",
   "execution_count": null,
   "metadata": {},
   "outputs": [],
   "source": [
    "# define function to calculate quality of crew\n",
    "def calc_crew_qual(df, cast_crew_col): # df\n",
    "    \n",
    "    cast_crew_qual = []\n",
    "    cast_crew_film_scores = []\n",
    "    \n",
    "    for i in range(len(data)):\n",
    "        scores_ = []\n",
    "        rel_year = df['Rel_year'].iloc[i] # new\n",
    "        dic = cast_crew_col.iloc[i]\n",
    "        if dic!=None:\n",
    "            for j in dic:\n",
    "                year = dic.get(j)\n",
    "                if ((all_films_RT['Title']==j) & (all_films_RT['Year']==year)).any():\n",
    "                    movie_score = all_films_RT[(all_films_RT['Title']==j) & (all_films_RT['Year']==year)]['Form2_score'].item()\n",
    "                    cast_crew_score = movie_score # /((rel_year-year+1)**0.5)\n",
    "                else:\n",
    "                    movie_score = np.nan\n",
    "                    cast_crew_score = np.nan\n",
    "                scores_.append(cast_crew_score)\n",
    "            if all(x is np.nan for x in scores_):\n",
    "                cast_crew_score = np.nan\n",
    "            else:\n",
    "                cast_crew_score = np.nansum(scores_)/math.sqrt(len(scores_)) # np.count_nonzero(~np.isnan(scores_)) / len(scores_)\n",
    "            cast_crew_film_scores.append(scores_)\n",
    "            cast_crew_qual.append(cast_crew_score)\n",
    "        else:\n",
    "            cast_crew_film_scores.append(np.nan)\n",
    "            cast_crew_qual.append(np.nan)\n",
    "    \n",
    "    return cast_crew_film_scores, cast_crew_qual\n",
    "\n",
    "\n",
    "def norm_cast_crew_qual(lst1, lst2, lst3):\n",
    "\n",
    "    dir_lst = lst1 + lst2 + lst3\n",
    "    \n",
    "    cast_crew_qual_lst = []\n",
    "    for i in dir_lst:\n",
    "        if i is np.nan:\n",
    "            i_norm = np.nan\n",
    "        else:\n",
    "            i_norm = (i-np.nanmin(dir_lst))/(np.nanmax(dir_lst)-np.nanmin(dir_lst))\n",
    "        cast_crew_qual_lst.append(i_norm)\n",
    "    \n",
    "    norm_lst1 = cast_crew_qual_lst[:622]\n",
    "    norm_lst2 = cast_crew_qual_lst[622:1244]\n",
    "    norm_lst3 = cast_crew_qual_lst[1244:1866]\n",
    "    \n",
    "    return norm_lst1, norm_lst2, norm_lst3"
   ]
  },
  {
   "cell_type": "code",
   "execution_count": null,
   "metadata": {},
   "outputs": [],
   "source": [
    "# define function to calculate quality of cast\n",
    "def calc_cast_qual(df, cast_crew_col):\n",
    "    \n",
    "    cast_crew_qual = []\n",
    "    cast_crew_film_scores = []\n",
    "    \n",
    "    for i in range(len(data)):\n",
    "        scores_ = []\n",
    "        rel_year = df['Rel_year'].iloc[i] # new\n",
    "        dic = cast_crew_col.iloc[i]\n",
    "        if dic!=None:\n",
    "            for j in dic:\n",
    "                year = dic.get(j)[0]\n",
    "                rank = dic.get(j)[1]\n",
    "                if rank==0:\n",
    "                    rank=np.nan\n",
    "                if ((all_films_RT['Title']==j) & (all_films_RT['Year']==year)).any():\n",
    "                    movie_score = all_films_RT[(all_films_RT['Title']==j) & (all_films_RT['Year']==year)]['Form2_score'].item()\n",
    "                    cast_crew_score = movie_score/((rel_year-year+1)**(1/3)) # (rank**0.5)*\n",
    "                else:\n",
    "                    movie_score = np.nan\n",
    "                    cast_crew_score = np.nan\n",
    "                scores_.append(cast_crew_score)\n",
    "            if all(x is np.nan for x in scores_):\n",
    "                cast_crew_score = np.nan\n",
    "            else:\n",
    "                cast_crew_score = np.nansum(scores_)/math.sqrt(len(scores_)) # np.count_nonzero(~np.isnan(scores_)) / len(scores_)\n",
    "            cast_crew_film_scores.append(scores_)\n",
    "            cast_crew_qual.append(cast_crew_score)\n",
    "        else:\n",
    "            cast_crew_film_scores.append(np.nan)\n",
    "            cast_crew_qual.append(np.nan)\n",
    "    \n",
    "    return cast_crew_film_scores, cast_crew_qual\n",
    "\n",
    "\n",
    "def norm_cast_qual(lst1, lst2, lst3, lst4, lst5):\n",
    "\n",
    "    actor_lst = lst1 + lst2 + lst3 + lst4 + lst5\n",
    "    \n",
    "    cast_crew_qual_lst = []\n",
    "    for i in actor_lst:\n",
    "        if i is np.nan:\n",
    "            i_norm = np.nan\n",
    "        else:\n",
    "            i_norm = (i-np.nanmin(actor_lst))/(np.nanmax(actor_lst)-np.nanmin(actor_lst))\n",
    "        cast_crew_qual_lst.append(i_norm)\n",
    "    \n",
    "    norm_lst1 = cast_crew_qual_lst[:622]\n",
    "    norm_lst2 = cast_crew_qual_lst[622:1244]\n",
    "    norm_lst3 = cast_crew_qual_lst[1244:1866]\n",
    "    norm_lst4 = cast_crew_qual_lst[1866:2488]\n",
    "    norm_lst5 = cast_crew_qual_lst[2488:3110]\n",
    "\n",
    "    return norm_lst1, norm_lst2, norm_lst3, norm_lst4, norm_lst5"
   ]
  },
  {
   "cell_type": "code",
   "execution_count": null,
   "metadata": {},
   "outputs": [],
   "source": [
    "dir1_film_scores, dir1_qual = calc_crew_qual(df_dir_films, df_dir_films['Dir1_films']) # df_dir_films, \n",
    "dir2_film_scores, dir2_qual = calc_crew_qual(df_dir_films, df_dir_films['Dir2_films']) # df_dir_films, \n",
    "dir3_film_scores, dir3_qual = calc_crew_qual(df_dir_films, df_dir_films['Dir3_films']) # df_dir_films, "
   ]
  },
  {
   "cell_type": "code",
   "execution_count": null,
   "metadata": {},
   "outputs": [],
   "source": [
    "dir1_qual, dir2_qual, dir3_qual = norm_cast_crew_qual(dir1_qual, dir2_qual, dir3_qual)"
   ]
  },
  {
   "cell_type": "code",
   "execution_count": null,
   "metadata": {},
   "outputs": [],
   "source": [
    "df_dir_final = data[['Title','Rel_year','RT_rev_cnt','RT_comb_score','Form2_score']]\n",
    "df_dir_final['Dir1'] = df_dirs[['Dir1']]\n",
    "df_dir_final['Dir1_films'] = df_dir_films[['Dir1_films']]\n",
    "df_dir_final['Dir1_film_scores'] = dir1_film_scores\n",
    "df_dir_final['Dir1_qual']=dir1_qual\n",
    "\n",
    "df_dir_final['Dir2'] = df_dirs[['Dir2']]\n",
    "df_dir_final['Dir2_films'] = df_dir_films[['Dir2_films']]\n",
    "df_dir_final['Dir2_film_scores'] = dir2_film_scores\n",
    "df_dir_final['Dir2_qual']=dir2_qual\n",
    "\n",
    "df_dir_final['Dir3'] = df_dirs[['Dir3']]\n",
    "df_dir_final['Dir3_films'] = df_dir_films[['Dir3_films']]\n",
    "df_dir_final['Dir3_film_scores'] = dir3_film_scores\n",
    "df_dir_final['Dir3_qual']=dir3_qual"
   ]
  },
  {
   "cell_type": "code",
   "execution_count": null,
   "metadata": {},
   "outputs": [],
   "source": [
    "df_dir_final['Dir_avg_qual'] = df_dir_final[['Dir1_qual','Dir2_qual','Dir3_qual']].mean(axis=1)"
   ]
  },
  {
   "cell_type": "code",
   "execution_count": null,
   "metadata": {
    "scrolled": false
   },
   "outputs": [],
   "source": [
    "df_dir_final2 = df_dir_final.sort_values(by='Dir1_qual', ascending=False)[['Title','Form2_score','Dir1','Dir2','Dir3','Dir1_films','Dir1_qual','Dir2_qual','Dir3_qual']]\n",
    "df_dir_final2[:25].reset_index(drop=True)"
   ]
  },
  {
   "cell_type": "code",
   "execution_count": null,
   "metadata": {},
   "outputs": [],
   "source": [
    "length = range(622)\n",
    "\n",
    "bins = []\n",
    "for i in length:\n",
    "    bin_num = i//60\n",
    "    bins.append(bin_num)\n",
    "\n",
    "df_dir_final2['Bins']=bins"
   ]
  },
  {
   "cell_type": "code",
   "execution_count": null,
   "metadata": {},
   "outputs": [],
   "source": [
    "# include year variable\n",
    "sns.boxplot(x='Bins',y='Form2_score',data=df_dir_final2,showmeans=True,meanprops={\"marker\":\"o\",\n",
    "                       \"markerfacecolor\":\"white\", \n",
    "                       \"markeredgecolor\":\"black\",\n",
    "                      \"markersize\":\"10\"});"
   ]
  },
  {
   "cell_type": "code",
   "execution_count": null,
   "metadata": {},
   "outputs": [],
   "source": [
    "# include mitigated year variable\n",
    "sns.boxplot(x='Bins',y='Form2_score',data=df_dir_final2,showmeans=True,meanprops={\"marker\":\"o\",\n",
    "                       \"markerfacecolor\":\"white\", \n",
    "                       \"markeredgecolor\":\"black\",\n",
    "                      \"markersize\":\"10\"});"
   ]
  },
  {
   "cell_type": "code",
   "execution_count": null,
   "metadata": {},
   "outputs": [],
   "source": [
    "# omit year variable\n",
    "sns.boxplot(x='Bins',y='Form2_score',data=df_dir_final2,showmeans=True,meanprops={\"marker\":\"o\",\n",
    "                       \"markerfacecolor\":\"white\", \n",
    "                       \"markeredgecolor\":\"black\",\n",
    "                      \"markersize\":\"10\"});"
   ]
  },
  {
   "cell_type": "code",
   "execution_count": null,
   "metadata": {},
   "outputs": [],
   "source": [
    "writer1_film_scores, writer1_qual = calc_crew_qual(df_writer_films, df_writer_films['Writer1_films'])\n",
    "writer2_film_scores, writer2_qual = calc_crew_qual(df_writer_films, df_writer_films['Writer2_films'])\n",
    "writer3_film_scores, writer3_qual = calc_crew_qual(df_writer_films, df_writer_films['Writer3_films'])"
   ]
  },
  {
   "cell_type": "code",
   "execution_count": null,
   "metadata": {},
   "outputs": [],
   "source": [
    "writer1_qual, writer2_qual, writer3_qual = norm_cast_crew_qual(writer1_qual, writer2_qual, writer3_qual)"
   ]
  },
  {
   "cell_type": "code",
   "execution_count": null,
   "metadata": {},
   "outputs": [],
   "source": [
    "df_writer_final = data[['Title','Rel_year','RT_rev_cnt','RT_comb_score','Form2_score']]\n",
    "df_writer_final['Writer1'] = df_writer[['Writer1']]\n",
    "df_writer_final['Writer1_films'] = df_writer_films[['Writer1_films']]\n",
    "df_writer_final['Writer1_film_scores'] = writer1_film_scores\n",
    "df_writer_final['Writer1_qual'] = writer1_qual\n",
    "\n",
    "df_writer_final['Writer2'] = df_writer[['Writer2']]\n",
    "df_writer_final['Writer2_films'] = df_writer_films[['Writer2_films']]\n",
    "df_writer_final['Writer2_film_scores'] = writer2_film_scores\n",
    "df_writer_final['Writer2_qual'] = writer2_qual\n",
    "\n",
    "df_writer_final['Writer3'] = df_writer[['Writer3']]\n",
    "df_writer_final['Writer3_films'] = df_writer_films[['Writer3_films']]\n",
    "df_writer_final['Writer3_film_scores'] = writer3_film_scores\n",
    "df_writer_final['Writer3_qual'] = writer3_qual"
   ]
  },
  {
   "cell_type": "code",
   "execution_count": null,
   "metadata": {},
   "outputs": [],
   "source": [
    "df_writer_final['Writer_avg_qual'] = df_writer_final[['Writer1_qual','Writer2_qual','Writer3_qual']].mean(axis=1)"
   ]
  },
  {
   "cell_type": "code",
   "execution_count": null,
   "metadata": {
    "scrolled": false
   },
   "outputs": [],
   "source": [
    "df_writer_final2 = df_writer_final.sort_values(by='Writer1_qual', ascending=False)[['Title','Form2_score','Writer1','Writer2','Writer3','Writer1_films','Writer1_qual','Writer2_qual','Writer3_qual']]\n",
    "df_writer_final2[:25].reset_index(drop=True)"
   ]
  },
  {
   "cell_type": "code",
   "execution_count": null,
   "metadata": {},
   "outputs": [],
   "source": [
    "length = range(622)\n",
    "\n",
    "bins = []\n",
    "for i in length:\n",
    "    bin_num = i//60\n",
    "    bins.append(bin_num)\n",
    "\n",
    "df_writer_final2['Bins']=bins"
   ]
  },
  {
   "cell_type": "code",
   "execution_count": null,
   "metadata": {},
   "outputs": [],
   "source": [
    "# include year variable\n",
    "sns.boxplot(x='Bins',y='Form2_score',data=df_writer_final2,showmeans=True,meanprops={\"marker\":\"o\",\n",
    "                       \"markerfacecolor\":\"white\", \n",
    "                       \"markeredgecolor\":\"black\",\n",
    "                      \"markersize\":\"10\"});"
   ]
  },
  {
   "cell_type": "code",
   "execution_count": null,
   "metadata": {},
   "outputs": [],
   "source": [
    "# include mitigated year variable\n",
    "sns.boxplot(x='Bins',y='Form2_score',data=df_writer_final2,showmeans=True,meanprops={\"marker\":\"o\",\n",
    "                       \"markerfacecolor\":\"white\", \n",
    "                       \"markeredgecolor\":\"black\",\n",
    "                      \"markersize\":\"10\"});"
   ]
  },
  {
   "cell_type": "code",
   "execution_count": null,
   "metadata": {},
   "outputs": [],
   "source": [
    "# omit year variable\n",
    "sns.boxplot(x='Bins',y='Form2_score',data=df_writer_final2,showmeans=True,meanprops={\"marker\":\"o\",\n",
    "                       \"markerfacecolor\":\"white\", \n",
    "                       \"markeredgecolor\":\"black\",\n",
    "                      \"markersize\":\"10\"});"
   ]
  },
  {
   "cell_type": "code",
   "execution_count": null,
   "metadata": {},
   "outputs": [],
   "source": [
    "actor1_film_scores, actor1_qual = calc_cast_qual(df_actors_films, df_actors_films['Actor1_films'])\n",
    "actor2_film_scores, actor2_qual = calc_cast_qual(df_actors_films, df_actors_films['Actor2_films'])\n",
    "actor3_film_scores, actor3_qual = calc_cast_qual(df_actors_films, df_actors_films['Actor3_films'])\n",
    "actor4_film_scores, actor4_qual = calc_cast_qual(df_actors_films, df_actors_films['Actor4_films'])\n",
    "actor5_film_scores, actor5_qual = calc_cast_qual(df_actors_films, df_actors_films['Actor5_films'])"
   ]
  },
  {
   "cell_type": "code",
   "execution_count": null,
   "metadata": {},
   "outputs": [],
   "source": [
    "actor1_qual,actor2_qual,actor3_qual,actor4_qual,actor5_qual = norm_cast_qual(actor1_qual,actor2_qual,actor3_qual,actor4_qual,actor5_qual)"
   ]
  },
  {
   "cell_type": "code",
   "execution_count": null,
   "metadata": {},
   "outputs": [],
   "source": [
    "df_actors_final = data[['Title','Rel_year','RT_rev_cnt','RT_comb_score','Form2_score']]\n",
    "df_actors_final['Actor1'] = df_actors[['Actor1']]\n",
    "df_actors_final['Actor1_films'] = df_actors_films[['Actor1_films']]\n",
    "df_actors_final['Actor1_film_scores'] = actor1_film_scores\n",
    "df_actors_final['Actor1_qual']=actor1_qual\n",
    "\n",
    "df_actors_final['Actor2'] = df_actors[['Actor2']]\n",
    "df_actors_final['Actor2_films'] = df_actors_films[['Actor2_films']]\n",
    "df_actors_final['Actor2_film_scores'] = actor2_film_scores\n",
    "df_actors_final['Actor2_qual']=actor2_qual\n",
    "\n",
    "df_actors_final['Actor3'] = df_actors[['Actor3']]\n",
    "df_actors_final['Actor3_films'] = df_actors_films[['Actor3_films']]\n",
    "df_actors_final['Actor3_film_scores'] = actor3_film_scores\n",
    "df_actors_final['Actor3_qual']=actor3_qual\n",
    "\n",
    "df_actors_final['Actor4'] = df_actors[['Actor4']]\n",
    "df_actors_final['Actor4_films'] = df_actors_films[['Actor4_films']]\n",
    "df_actors_final['Actor4_film_scores'] = actor4_film_scores\n",
    "df_actors_final['Actor4_qual']=actor4_qual\n",
    "\n",
    "df_actors_final['Actor5'] = df_actors[['Actor5']]\n",
    "df_actors_final['Actor5_films'] = df_actors_films[['Actor5_films']]\n",
    "df_actors_final['Actor5_film_scores'] = actor5_film_scores\n",
    "df_actors_final['Actor5_qual']=actor5_qual"
   ]
  },
  {
   "cell_type": "code",
   "execution_count": null,
   "metadata": {},
   "outputs": [],
   "source": [
    "df_actors_final['Actor_avg_qual'] = df_actors_final[['Actor1_qual','Actor2_qual','Actor3_qual','Actor4_qual','Actor5_qual']].mean(axis=1)\n",
    "# .apply(pd.Series.nlargest, axis=1, n=3).mean(axis=1)"
   ]
  },
  {
   "cell_type": "code",
   "execution_count": null,
   "metadata": {
    "scrolled": false
   },
   "outputs": [],
   "source": [
    "df_actors_final2 = df_actors_final[df_actors_final['Actor1_qual'].notnull()].\\\n",
    "sort_values(by='Actor_avg_qual', ascending=False)[['Title','Form2_score','Actor1','Actor2','Actor3','Actor4','Actor5',\\\n",
    "                                                'Actor1_qual','Actor2_qual','Actor3_qual','Actor4_qual',\\\n",
    "                                                'Actor5_qual','Actor_avg_qual']]\n",
    "df_actors_final2[:25].reset_index(drop=True)"
   ]
  },
  {
   "cell_type": "code",
   "execution_count": null,
   "metadata": {},
   "outputs": [],
   "source": [
    "length = range(443)\n",
    "\n",
    "bins = []\n",
    "for i in length:\n",
    "    bin_num = i//50\n",
    "    bins.append(bin_num)\n",
    "\n",
    "df_actors_final2['Bins']=bins"
   ]
  },
  {
   "cell_type": "code",
   "execution_count": null,
   "metadata": {},
   "outputs": [],
   "source": [
    "sns.boxplot(x='Bins',y='Form2_score',data=df_actors_final2,showmeans=True,meanprops={\"marker\":\"o\",\n",
    "                       \"markerfacecolor\":\"white\", \n",
    "                       \"markeredgecolor\":\"black\",\n",
    "                      \"markersize\":\"10\"});"
   ]
  },
  {
   "cell_type": "code",
   "execution_count": null,
   "metadata": {},
   "outputs": [],
   "source": [
    "# amplify rank variable\n",
    "sns.boxplot(x='Bins',y='Form2_score',data=df_actors_final2,showmeans=True,meanprops={\"marker\":\"o\",\n",
    "                       \"markerfacecolor\":\"white\", \n",
    "                       \"markeredgecolor\":\"black\",\n",
    "                      \"markersize\":\"10\"});"
   ]
  },
  {
   "cell_type": "code",
   "execution_count": null,
   "metadata": {},
   "outputs": [],
   "source": [
    "# include rank variable\n",
    "sns.boxplot(x='Bins',y='Form2_score',data=df_actors_final2,showmeans=True,meanprops={\"marker\":\"o\",\n",
    "                       \"markerfacecolor\":\"white\", \n",
    "                       \"markeredgecolor\":\"black\",\n",
    "                      \"markersize\":\"10\"});"
   ]
  },
  {
   "cell_type": "code",
   "execution_count": null,
   "metadata": {},
   "outputs": [],
   "source": [
    "# drop rank variable\n",
    "sns.boxplot(x='Bins',y='Form2_score',data=df_actors_final2,showmeans=True,meanprops={\"marker\":\"o\",\n",
    "                       \"markerfacecolor\":\"white\", \n",
    "                       \"markeredgecolor\":\"black\",\n",
    "                      \"markersize\":\"10\"});"
   ]
  },
  {
   "cell_type": "code",
   "execution_count": null,
   "metadata": {},
   "outputs": [],
   "source": [
    "# omit year variable\n",
    "sns.boxplot(x='Bins',y='Form2_score',data=df_actors_final2,showmeans=True,meanprops={\"marker\":\"o\",\n",
    "                       \"markerfacecolor\":\"white\", \n",
    "                       \"markeredgecolor\":\"black\",\n",
    "                      \"markersize\":\"10\"});"
   ]
  },
  {
   "cell_type": "code",
   "execution_count": null,
   "metadata": {},
   "outputs": [],
   "source": [
    "# include mitigated year variable\n",
    "sns.boxplot(x='Bins',y='Form2_score',data=df_actors_final2,showmeans=True,meanprops={\"marker\":\"o\",\n",
    "                       \"markerfacecolor\":\"white\", \n",
    "                       \"markeredgecolor\":\"black\",\n",
    "                      \"markersize\":\"10\"});"
   ]
  },
  {
   "cell_type": "code",
   "execution_count": null,
   "metadata": {},
   "outputs": [],
   "source": [
    "data[['Title','Plot_summ','Plot_keywords','Genre']]"
   ]
  },
  {
   "cell_type": "code",
   "execution_count": null,
   "metadata": {},
   "outputs": [],
   "source": [
    "data.columns"
   ]
  },
  {
   "cell_type": "code",
   "execution_count": null,
   "metadata": {},
   "outputs": [],
   "source": [
    "df_part1 = pd.concat([data.iloc[:,:41],df_dir_final.iloc[:,7:]], axis=1)"
   ]
  },
  {
   "cell_type": "code",
   "execution_count": null,
   "metadata": {},
   "outputs": [],
   "source": [
    "df_part2 = pd.concat([df_part1,df_writer_final.iloc[:,5:]], axis=1)"
   ]
  },
  {
   "cell_type": "code",
   "execution_count": null,
   "metadata": {},
   "outputs": [],
   "source": [
    "df_part3 = pd.concat([df_part2,df_actors_final.iloc[:,5:]], axis=1)"
   ]
  },
  {
   "cell_type": "code",
   "execution_count": null,
   "metadata": {},
   "outputs": [],
   "source": [
    "df_part4 = pd.concat([df_part3,data.iloc[:,86:88]], axis=1)\n",
    "df_part4['RT_comb_score']=list(data['Form2_score'])"
   ]
  },
  {
   "cell_type": "code",
   "execution_count": null,
   "metadata": {},
   "outputs": [],
   "source": [
    "df_final = pd.concat([df_part4,data.iloc[:,89:91]], axis=1)"
   ]
  },
  {
   "cell_type": "code",
   "execution_count": null,
   "metadata": {},
   "outputs": [],
   "source": [
    "df_final.columns"
   ]
  },
  {
   "cell_type": "code",
   "execution_count": null,
   "metadata": {},
   "outputs": [],
   "source": [
    "# df_final.to_pickle('master_data_v2.pkl')"
   ]
  },
  {
   "cell_type": "code",
   "execution_count": null,
   "metadata": {},
   "outputs": [],
   "source": [
    "new_df = pd.read_pickle('master_data_v3.pkl')"
   ]
  },
  {
   "cell_type": "code",
   "execution_count": null,
   "metadata": {},
   "outputs": [],
   "source": [
    "# new_df.iloc[:,:42]\n",
    "# df_dir_final.iloc[:,5:]\n",
    "# new_df.iloc[:,55:56]\n",
    "# df_writer_final.iloc[:,5:]\n",
    "# new_df.iloc[:,69:70]\n",
    "# df_actors_final.iloc[:,5:]\n",
    "# new_df.iloc[:,-6:]"
   ]
  },
  {
   "cell_type": "code",
   "execution_count": null,
   "metadata": {},
   "outputs": [],
   "source": [
    "new_df2 = pd.concat([new_df.iloc[:,:42], df_dir_final.iloc[:,5:], new_df.iloc[:,55:56], df_writer_final.iloc[:,5:], new_df.iloc[:,69:70],\\\n",
    "                    df_actors_final.iloc[:,5:], new_df.iloc[:,-6:]], axis=1)"
   ]
  },
  {
   "cell_type": "code",
   "execution_count": null,
   "metadata": {
    "scrolled": false
   },
   "outputs": [],
   "source": [
    "new_df2.columns"
   ]
  },
  {
   "cell_type": "code",
   "execution_count": null,
   "metadata": {},
   "outputs": [],
   "source": [
    "# new_df2.to_pickle('master_data_v4.pkl')"
   ]
  },
  {
   "cell_type": "code",
   "execution_count": null,
   "metadata": {},
   "outputs": [],
   "source": [
    "new_df2[['Title','Dir1','Dir2','Dir2','Writer1','Actor1','Actor2','Actor3','Dir_nom_cnt','Writer_nom_cnt','Actor_nom_cnt']].\\\n",
    "sort_values(by='Actor_nom_cnt',ascending=False)"
   ]
  },
  {
   "cell_type": "code",
   "execution_count": null,
   "metadata": {},
   "outputs": [],
   "source": [
    "new_df2[['Title','Actor1','Actor2','Actor3','Actor4','Actor5','Actor_nom_cnt']].\\\n",
    "sort_values(by='Actor_nom_cnt',ascending=False)[:5]"
   ]
  },
  {
   "cell_type": "code",
   "execution_count": null,
   "metadata": {},
   "outputs": [],
   "source": [
    "new_df2[['Title','Genre','RT_comb_score']].sort_values(by='RT_comb_score', ascending=False)"
   ]
  },
  {
   "cell_type": "code",
   "execution_count": null,
   "metadata": {},
   "outputs": [],
   "source": []
  }
 ],
 "metadata": {
  "kernelspec": {
   "display_name": "Python 3",
   "language": "python",
   "name": "python3"
  },
  "language_info": {
   "codemirror_mode": {
    "name": "ipython",
    "version": 3
   },
   "file_extension": ".py",
   "mimetype": "text/x-python",
   "name": "python",
   "nbconvert_exporter": "python",
   "pygments_lexer": "ipython3",
   "version": "3.8.8"
  }
 },
 "nbformat": 4,
 "nbformat_minor": 4
}
